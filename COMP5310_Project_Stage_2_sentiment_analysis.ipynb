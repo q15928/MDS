{
 "cells": [
  {
   "cell_type": "markdown",
   "metadata": {},
   "source": [
    "# Problem #"
   ]
  },
  {
   "cell_type": "markdown",
   "metadata": {},
   "source": [
    "The dataset I am going to use is \"[Amazon Fine Food Reviews](https://www.kaggle.com/snap/amazon-fine-food-reviews)\" from Kaggle. One of the problems is to perform sentiment analysis and classification based on the reviews from users. Another one is to recommend new products to the users based on their past rating and other users' rating with similar tastes.\n",
    "\n",
    "From a broader perspective, there is a need for an intelligent classifier based on text information process. There most common example we have seen everyday is probably the spam or junk mail filter in the email system which is telling you whether the email is a junk mail or not. This is a typical binary classifier. Another one is the Webpage classifcation based on its content. For example, when browsing [Google News](http://news.google.com.au/), we can see the news from different categories like \"Business\", \"Technology\", \"Sports\", etc.. It is the intelligent machine learning applications which automatically classify each webpage into different categories. This is an example of multiclass classifier.\n",
    "\n",
    "Recommender system has been widely used in recent years. It has become a important aspect for companies with marketing strategy targetting to tailor for each customer's preferences and interests. Personalisation is now transforming and improving customer experience for all kinds of businesses, for example, making product recommendation for online shopping, suggesting movies, music and news.The most famous one is [Netflix Prize](https://en.wikipedia.org/wiki/Netflix_Prize) to compete for the best collaborative filtering algorithm.\n",
    "\n",
    "\n",
    "**The problems of interest I am going to explore are: **\n",
    "\n",
    "* Which product has the most positive reviews and which has the most negative reviews?\n",
    "* Who are the users tending to have more negative reviews?\n",
    "* Which are the important words that lead to a positive or negative reviews?\n",
    "* How to recommend new fine foods to the users based on  other users' reviews?\n",
    "* Besides Accuracy, what are the other evaluation metrics to consider for classification problem?\n"
   ]
  },
  {
   "cell_type": "markdown",
   "metadata": {},
   "source": [
    "# Data"
   ]
  },
  {
   "cell_type": "markdown",
   "metadata": {},
   "source": [
    "The dataset is downloaded from [Kaggle](https://www.kaggle.com/snap/amazon-fine-food-reviews), it was originally published on [SNAP](http://snap.stanford.edu/data/web-FineFoods.html). \n",
    "\n",
    "The dataset contains around 500,000 food reviews from Amazon with a period between 1999 and 2012. It is a single csv file about 286 MB which includes productID, userID, rating of the product, review summary and text of details.\n",
    "\n",
    "The dataset is pretty clean. There is no missing data for each feature/column. However, it is required to do some transformation and cleaning to build up a user product matrix and to process the text data of the reviews."
   ]
  },
  {
   "cell_type": "code",
   "execution_count": 1,
   "metadata": {
    "collapsed": true
   },
   "outputs": [],
   "source": [
    "import pandas as pd\n",
    "from pandas import DataFrame, Series\n",
    "import numpy as np\n",
    "from scipy.sparse import lil_matrix\n",
    "import string\n",
    "import matplotlib.pyplot as plt\n",
    "import nltk\n",
    "from collections import Counter, defaultdict\n",
    "import re\n",
    "%matplotlib inline"
   ]
  },
  {
   "cell_type": "code",
   "execution_count": 2,
   "metadata": {
    "collapsed": false
   },
   "outputs": [
    {
     "data": {
      "text/html": [
       "<div>\n",
       "<table border=\"1\" class=\"dataframe\">\n",
       "  <thead>\n",
       "    <tr style=\"text-align: right;\">\n",
       "      <th></th>\n",
       "      <th>Id</th>\n",
       "      <th>ProductId</th>\n",
       "      <th>UserId</th>\n",
       "      <th>ProfileName</th>\n",
       "      <th>HelpfulnessNumerator</th>\n",
       "      <th>HelpfulnessDenominator</th>\n",
       "      <th>Score</th>\n",
       "      <th>Time</th>\n",
       "      <th>Summary</th>\n",
       "      <th>Text</th>\n",
       "    </tr>\n",
       "  </thead>\n",
       "  <tbody>\n",
       "    <tr>\n",
       "      <th>0</th>\n",
       "      <td>1</td>\n",
       "      <td>B001E4KFG0</td>\n",
       "      <td>A3SGXH7AUHU8GW</td>\n",
       "      <td>delmartian</td>\n",
       "      <td>1</td>\n",
       "      <td>1</td>\n",
       "      <td>5</td>\n",
       "      <td>1303862400</td>\n",
       "      <td>Good Quality Dog Food</td>\n",
       "      <td>I have bought several of the Vitality canned d...</td>\n",
       "    </tr>\n",
       "    <tr>\n",
       "      <th>1</th>\n",
       "      <td>2</td>\n",
       "      <td>B00813GRG4</td>\n",
       "      <td>A1D87F6ZCVE5NK</td>\n",
       "      <td>dll pa</td>\n",
       "      <td>0</td>\n",
       "      <td>0</td>\n",
       "      <td>1</td>\n",
       "      <td>1346976000</td>\n",
       "      <td>Not as Advertised</td>\n",
       "      <td>Product arrived labeled as Jumbo Salted Peanut...</td>\n",
       "    </tr>\n",
       "    <tr>\n",
       "      <th>2</th>\n",
       "      <td>3</td>\n",
       "      <td>B000LQOCH0</td>\n",
       "      <td>ABXLMWJIXXAIN</td>\n",
       "      <td>Natalia Corres \"Natalia Corres\"</td>\n",
       "      <td>1</td>\n",
       "      <td>1</td>\n",
       "      <td>4</td>\n",
       "      <td>1219017600</td>\n",
       "      <td>\"Delight\" says it all</td>\n",
       "      <td>This is a confection that has been around a fe...</td>\n",
       "    </tr>\n",
       "  </tbody>\n",
       "</table>\n",
       "</div>"
      ],
      "text/plain": [
       "   Id   ProductId          UserId                      ProfileName  \\\n",
       "0   1  B001E4KFG0  A3SGXH7AUHU8GW                       delmartian   \n",
       "1   2  B00813GRG4  A1D87F6ZCVE5NK                           dll pa   \n",
       "2   3  B000LQOCH0   ABXLMWJIXXAIN  Natalia Corres \"Natalia Corres\"   \n",
       "\n",
       "   HelpfulnessNumerator  HelpfulnessDenominator  Score        Time  \\\n",
       "0                     1                       1      5  1303862400   \n",
       "1                     0                       0      1  1346976000   \n",
       "2                     1                       1      4  1219017600   \n",
       "\n",
       "                 Summary                                               Text  \n",
       "0  Good Quality Dog Food  I have bought several of the Vitality canned d...  \n",
       "1      Not as Advertised  Product arrived labeled as Jumbo Salted Peanut...  \n",
       "2  \"Delight\" says it all  This is a confection that has been around a fe...  "
      ]
     },
     "execution_count": 2,
     "metadata": {},
     "output_type": "execute_result"
    }
   ],
   "source": [
    "food_reviews = pd.read_csv('./amazon-fine-foods/Reviews.csv')\n",
    "food_reviews[:3]"
   ]
  },
  {
   "cell_type": "code",
   "execution_count": 3,
   "metadata": {
    "collapsed": false
   },
   "outputs": [
    {
     "name": "stdout",
     "output_type": "stream",
     "text": [
      "<class 'pandas.core.frame.DataFrame'>\n",
      "RangeIndex: 568454 entries, 0 to 568453\n",
      "Data columns (total 10 columns):\n",
      "Id                        568454 non-null int64\n",
      "ProductId                 568454 non-null object\n",
      "UserId                    568454 non-null object\n",
      "ProfileName               568438 non-null object\n",
      "HelpfulnessNumerator      568454 non-null int64\n",
      "HelpfulnessDenominator    568454 non-null int64\n",
      "Score                     568454 non-null int64\n",
      "Time                      568454 non-null int64\n",
      "Summary                   568428 non-null object\n",
      "Text                      568454 non-null object\n",
      "dtypes: int64(5), object(5)\n",
      "memory usage: 43.4+ MB\n"
     ]
    }
   ],
   "source": [
    "food_reviews.info()"
   ]
  },
  {
   "cell_type": "code",
   "execution_count": 3,
   "metadata": {
    "collapsed": false
   },
   "outputs": [
    {
     "name": "stdout",
     "output_type": "stream",
     "text": [
      "There are 74258 products reviewed by 256059 users with total 568454 ratings.\n"
     ]
    }
   ],
   "source": [
    "num_products = len(food_reviews['ProductId'].unique())\n",
    "num_users = len(food_reviews['UserId'].unique())\n",
    "print(\"There are {0} products reviewed by {1} users with total {2} ratings.\".format(num_products, num_users, len(food_reviews)))"
   ]
  },
  {
   "cell_type": "markdown",
   "metadata": {},
   "source": [
    "## Rating distribution"
   ]
  },
  {
   "cell_type": "code",
   "execution_count": 5,
   "metadata": {
    "collapsed": false
   },
   "outputs": [
    {
     "name": "stdout",
     "output_type": "stream",
     "text": [
      "The accuracy of majority class classifier is 84.40%\n"
     ]
    }
   ],
   "source": [
    "rating_count = food_reviews['Score'].value_counts(sort=False)\n",
    "# rating_count\n",
    "rating_pct = food_reviews[food_reviews['Score'] != 3]['Score'].value_counts(normalize=True, sort=False)\n",
    "# rating_pct\n",
    "neg_pct = rating_pct[[1, 2]].sum()\n",
    "pos_pct = rating_pct[[4, 5]].sum()\n",
    "print('The accuracy of majority class classifier is {0:2.2%}'.format(pos_pct))\n",
    "ratings = Series([neg_pct*100, pos_pct*100], index=['negative', 'positive'])"
   ]
  },
  {
   "cell_type": "markdown",
   "metadata": {},
   "source": [
    "This is an imbalanced dataset biased towards 5 in terms of Score (or rating). If we are going to build a sentiment classifier, we should use the **majority class classifier ** as the baseline model to evaluate our classifier. We will ignore the reviews with *Score = 3* as they tend to have a neutral sentiment. *Score = [1,2]* will be negative rating and *Score = [4,5]* will be positive rating. So the **majority class classifier ** will be positive rating."
   ]
  },
  {
   "cell_type": "code",
   "execution_count": 19,
   "metadata": {
    "collapsed": false
   },
   "outputs": [
    {
     "data": {
      "image/png": "[encoded data removed]",
      "text/plain": [
       "<matplotlib.figure.Figure at 0x1d9a8b41780>"
      ]
     },
     "metadata": {},
     "output_type": "display_data"
    }
   ],
   "source": [
    "plt.figure(figsize=(15,5))\n",
    "plt.subplot(121)\n",
    "rating_count.plot(kind='bar', title='Review Rating Distribution', rot=0)\n",
    "plt.xlabel('Scores', {'fontsize': 'large'})\n",
    "plt.ylabel('# of Reviews', {'fontsize': 'large'})\n",
    "plt.subplot(122)\n",
    "ratings.plot(kind='bar', title='Sentiment Rating (%)', rot=0)\n",
    "plt.show()"
   ]
  },
  {
   "cell_type": "markdown",
   "metadata": {},
   "source": [
    "# Section 1: Setup \n",
    "We are going to implement two different models as classifiers for sentiment analysis: Logistic Regression (LR), and Support Vector Machine (SVM) from sci-kit learn. \n",
    "\n",
    "*Null hypothesis:* These two models are performing the same for sentiment analysis.\n"
   ]
  },
  {
   "cell_type": "markdown",
   "metadata": {},
   "source": [
    "## Cleaning and transforming text data ##\n",
    "We are going to use the review text as the features of sentiment classifier model. Text information is naturally unstructure data. It is difficult to fit the raw text data into most of the machine learning models which are designed efficiently for numerical operations. Hence we need to perform some text processing to conert text data to numerical representation.\n",
    "\n",
    "Because of the large size of the dataset, we need to clean and transform the text data with the following process as part of the  feature selection and to speed up the training and predicting process.\n",
    "\n",
    "* Changing the characters to lower case\n",
    "* Removing special words (i.e. HTML tags) punctuation\n",
    "* Tokenisation\n",
    "* Removing pure digits which are lest significant in term of sentiment analysis\n",
    "* Removing any words with length less than 3 which intend to be common (or neutral) words\n",
    "* Stemming each token to its \"base form\" (i.e. `goes` to `go`)"
   ]
  },
  {
   "cell_type": "code",
   "execution_count": 4,
   "metadata": {
    "collapsed": false
   },
   "outputs": [
    {
     "name": "stdout",
     "output_type": "stream",
     "text": [
      "['bought', 'these', 'for', 'husband', 'who', 'current', 'oversea', 'love', 'these', 'and', 'appar', 'hi', 'staff', 'like', 'them', 'also', 'there', 'are', 'gener', 'amount', 'twizzler', 'each', 'ounc', 'bag', 'and', 'thi', 'wa', 'well', 'worth', 'the', 'price', 'twizzler', 'strawberri', 'ounc', 'bag', 'pack']\n",
      "['hi', 'world']\n"
     ]
    }
   ],
   "source": [
    "text = \"\"\"I've bought these for my husband who is currently overseas. He loves these, and apparently his staff \n",
    "likes them also.<br />There are generous amounts of Twizzlers in each 16-ounce bag, and this was well worth the price.\n",
    "<a href=\"\"http://www.amazon.com/gp/product/B001GVISJM\"\">Twizzlers, Strawberry, 16-Ounce Bags (Pack of 6)</a>\"\"\"\n",
    "# print(nltk.tokenize.wordpunct_tokenize(text.lower()))\n",
    "# print(nltk.tokenize.TreebankWordTokenizer().tokenize(text.lower()))\n",
    "def word_tokenised_stemmed(text):\n",
    "    text = str(text)    # convert to string\n",
    "    text = text.lower()\n",
    "    text = re.sub(r'<.*?>', ' ', text)\n",
    "    intab = string.punctuation\n",
    "    outtab = \" \" * len(string.punctuation)\n",
    "    transtab = str.maketrans(intab, outtab)\n",
    "    text = text.translate(transtab)\n",
    "    tokens = nltk.tokenize.word_tokenize(text)\n",
    "    stemmer = nltk.stem.PorterStemmer()\n",
    "    res = [stemmer.stem(t) for t in tokens if len(t) > 2 and not t.isnumeric()]\n",
    "    return res\n",
    "    \n",
    "print(word_tokenised_stemmed(text))\n",
    "print(word_tokenised_stemmed(\"Hi his world\"))"
   ]
  },
  {
   "cell_type": "markdown",
   "metadata": {},
   "source": [
    "## Data prepration\n",
    "We are interested in the review text provided by the user as well as the score which indicates a positive or negative sentiment. We will ignore the reviews with `Score = 3` as they tend to have a neutral sentiment. "
   ]
  },
  {
   "cell_type": "code",
   "execution_count": 5,
   "metadata": {
    "collapsed": false
   },
   "outputs": [
    {
     "name": "stdout",
     "output_type": "stream",
     "text": [
      "568454\n"
     ]
    }
   ],
   "source": [
    "print(len(food_reviews))\n",
    "food_sentiments = food_reviews[food_reviews[\"Score\"] != 3][[\"Score\", \"Text\"]]"
   ]
  },
  {
   "cell_type": "code",
   "execution_count": 6,
   "metadata": {
    "collapsed": false
   },
   "outputs": [
    {
     "name": "stdout",
     "output_type": "stream",
     "text": [
      "525814\n"
     ]
    }
   ],
   "source": [
    "food_sentiments[\"Sentiment\"] = food_sentiments[\"Score\"].apply(lambda x: \"Positive\" if x > 3 else \"Negative\")\n",
    "print(len(food_sentiments))"
   ]
  },
  {
   "cell_type": "markdown",
   "metadata": {},
   "source": [
    "## Training and test data split"
   ]
  },
  {
   "cell_type": "code",
   "execution_count": 7,
   "metadata": {
    "collapsed": false
   },
   "outputs": [],
   "source": [
    "from sklearn.cross_validation import train_test_split, cross_val_score\n",
    "X_train,X_test, y_train, y_test = train_test_split(food_sentiments['Text'], food_sentiments['Sentiment'], test_size=0.2, \n",
    "                                                   random_state=1)"
   ]
  },
  {
   "cell_type": "markdown",
   "metadata": {},
   "source": [
    "## Build up pipelines for  LR and SVM models\n",
    "We use the common processing tasks bag of word and TF-IDF weighted scores to transform review texts into numeric form. Then we build the pipeline for LR and SVM models."
   ]
  },
  {
   "cell_type": "code",
   "execution_count": 8,
   "metadata": {
    "collapsed": false
   },
   "outputs": [],
   "source": [
    "from sklearn.pipeline import Pipeline\n",
    "from sklearn.feature_extraction.text import CountVectorizer, TfidfTransformer\n",
    "from sklearn.linear_model import LogisticRegression\n",
    "from sklearn.svm import LinearSVC\n",
    "from sklearn.metrics import classification_report, accuracy_score, precision_score, recall_score, f1_score, confusion_matrix\n",
    "\n",
    "lr_clf = Pipeline([('vect', CountVectorizer(analyzer=word_tokenised_stemmed)),\n",
    "               ('tfidf', TfidfTransformer()),\n",
    "               ('clf', LogisticRegression(C=0.1, class_weight='balanced'))\n",
    "              ])\n",
    "\n",
    "svm_clf = Pipeline([('vect', CountVectorizer(analyzer=word_tokenised_stemmed)),\n",
    "                ('tfidf', TfidfTransformer()),\n",
    "                ('clf', LinearSVC(C=0.1, class_weight='balanced'))])\n",
    "\n"
   ]
  },
  {
   "cell_type": "markdown",
   "metadata": {},
   "source": [
    "## Using 5-fold cross validation to compare accuracy score for LR and SVM models"
   ]
  },
  {
   "cell_type": "code",
   "execution_count": 9,
   "metadata": {
    "collapsed": true
   },
   "outputs": [],
   "source": [
    "lr_scores = cross_val_score(lr_clf, X_train, y_train, cv=5, scoring='accuracy')\n",
    "svm_scores = cross_val_score(svm_clf, X_train, y_train, cv=5, scoring='accuracy')"
   ]
  },
  {
   "cell_type": "markdown",
   "metadata": {},
   "source": [
    "### Comparing mean and standard deviation of accuracy scores of cross validation for LR and SVM"
   ]
  },
  {
   "cell_type": "code",
   "execution_count": 65,
   "metadata": {
    "collapsed": false
   },
   "outputs": [
    {
     "name": "stdout",
     "output_type": "stream",
     "text": [
      "LR model accuracy score mu, sigma: 0.890 0.00078\n",
      "SVM model accuracy score mu, sigma: 0.906 0.00055\n"
     ]
    }
   ],
   "source": [
    "# lr_scores = np.array([ 0.89099143,  0.89029014,  0.88899322,  0.8892785 ,  0.889087  ])\n",
    "# svm_scores = np.array([ 0.90678822,  0.90611071,  0.90520623,  0.90654939,  0.90645318])\n",
    "print(\"LR model accuracy score mu, sigma: {:.03f} {:.05f}\".format(lr_scores.mean(), lr_scores.std()))\n",
    "print(\"SVM model accuracy score mu, sigma: {:.03f} {:.05f}\".format(svm_scores.mean(), svm_scores.std()))"
   ]
  },
  {
   "cell_type": "code",
   "execution_count": 63,
   "metadata": {
    "collapsed": false
   },
   "outputs": [
    {
     "data": {
      "image/png": "[encoded data removed]",
      "text/plain": [
       "<matplotlib.figure.Figure at 0x2970b4f37f0>"
      ]
     },
     "metadata": {},
     "output_type": "display_data"
    }
   ],
   "source": [
    "cv_fold = np.arange(1, 6)\n",
    "# plt.figure(figsize=(7, 5))\n",
    "plt.plot(cv_fold, lr_scores, \"o-\", color=\"g\", label=\"LR CV\")\n",
    "plt.plot(cv_fold, svm_scores, \"o-\", color=\"r\", label=\"SVM CV\")\n",
    "plt.xlim(0, 6); plt.ylim(0.88, 0.92)\n",
    "plt.title(\"CV Accuracy scores LR vs SVM\")\n",
    "plt.xlabel(\"Cross Validation\"); plt.ylabel(\"Accuracy Score\")\n",
    "plt.grid(); plt.legend()\n",
    "plt.show()"
   ]
  },
  {
   "cell_type": "markdown",
   "metadata": {},
   "source": [
    "### Calculate two-sided paired t-test for accuracy scores"
   ]
  },
  {
   "cell_type": "code",
   "execution_count": 20,
   "metadata": {
    "collapsed": false
   },
   "outputs": [
    {
     "name": "stdout",
     "output_type": "stream",
     "text": [
      "P-value for H1 LR (mu=0.890)and SVM (mu=0.906) models are not performing the same\n",
      "0.00000057\n"
     ]
    }
   ],
   "source": [
    "from scipy import stats\n",
    "print(\"P-value for H1 LR (mu={:.03f})and SVM (mu={:.03f}) models are not performing the same\"\\\n",
    "      .format(lr_scores.mean(), svm_scores.mean()))\n",
    "print(\"{:.08f}\".format(stats.ttest_rel(lr_scores, svm_scores).pvalue*0.5))"
   ]
  },
  {
   "cell_type": "markdown",
   "metadata": {},
   "source": [
    "## Training LR and SVM models for the whole training set and making predictions on test set"
   ]
  },
  {
   "cell_type": "code",
   "execution_count": 21,
   "metadata": {
    "collapsed": false
   },
   "outputs": [],
   "source": [
    "lr_clf.fit(X_train, y_train)\n",
    "svm_clf.fit(X_train, y_train)\n",
    "\n",
    "y_pred_lr = lr_clf.predict(X_test)\n",
    "y_pred_svm = svm_clf.predict(X_test)"
   ]
  },
  {
   "cell_type": "markdown",
   "metadata": {},
   "source": [
    "## Evaluating accuray and f1 scores for the test set"
   ]
  },
  {
   "cell_type": "code",
   "execution_count": 24,
   "metadata": {
    "collapsed": false
   },
   "outputs": [
    {
     "name": "stdout",
     "output_type": "stream",
     "text": [
      "LR classifier accuracy: 0.891\n",
      "SVM classifier accuracy:0.906\n",
      "LR classifier f1 score: 0.932\n",
      "SVM classifier f1 score: 0.942\n"
     ]
    }
   ],
   "source": [
    "print(\"LR classifier accuracy: {:.03f}\".format(accuracy_score(y_test, y_pred_lr)))\n",
    "print(\"SVM classifier accuracy:{:.03f}\".format(accuracy_score(y_test, y_pred_svm)))\n",
    "print(\"LR classifier f1 score: {:.03f}\".format(f1_score(y_test, y_pred_lr, pos_label=\"Positive\", average='binary')))\n",
    "print(\"SVM classifier f1 score: {:.03f}\".format(f1_score(y_test, y_pred_svm, pos_label=\"Positive\", average='binary')))"
   ]
  },
  {
   "cell_type": "code",
   "execution_count": 26,
   "metadata": {
    "collapsed": false
   },
   "outputs": [
    {
     "name": "stdout",
     "output_type": "stream",
     "text": [
      "LR classification report: \n",
      "              precision    recall  f1-score   support\n",
      "\n",
      "   Negative       0.60      0.90      0.72     16433\n",
      "   Positive       0.98      0.89      0.93     88730\n",
      "\n",
      "avg / total       0.92      0.89      0.90    105163\n",
      "\n",
      "\n",
      "SVM classification report: \n",
      "              precision    recall  f1-score   support\n",
      "\n",
      "   Negative       0.64      0.90      0.75     16433\n",
      "   Positive       0.98      0.91      0.94     88730\n",
      "\n",
      "avg / total       0.93      0.91      0.91    105163\n",
      "\n"
     ]
    }
   ],
   "source": [
    "print(\"LR classification report: \\n\", classification_report(y_test, y_pred_lr))\n",
    "print(\"\\nSVM classification report: \\n\", classification_report(y_test, y_pred_svm))"
   ]
  },
  {
   "cell_type": "markdown",
   "metadata": {},
   "source": [
    "## What are the frequent words appearing in positive reviews?"
   ]
  },
  {
   "cell_type": "code",
   "execution_count": 44,
   "metadata": {
    "collapsed": false
   },
   "outputs": [
    {
     "data": {
      "text/plain": [
       "[('great', [10.905557120270318]),\n",
       " ('best', [8.811787676748434]),\n",
       " ('delici', [8.430359589369932]),\n",
       " ('love', [8.390362816278104]),\n",
       " ('perfect', [7.647820944028153]),\n",
       " ('good', [6.48239086766923]),\n",
       " ('excel', [6.409365400304012]),\n",
       " ('nice', [5.7909471181697425]),\n",
       " ('favorit', [5.786130304184956]),\n",
       " ('highli', [5.473517173499416])]"
      ]
     },
     "execution_count": 44,
     "metadata": {},
     "output_type": "execute_result"
    }
   ],
   "source": [
    "lr_weights = [(f, w) for f, w in zip(lr_clf.steps[0][1].get_feature_names(), lr_clf.steps[2][1].coef_.T.tolist())]\n",
    "sorted(lr_weights, key=lambda x: x[1],reverse=True)[:10]"
   ]
  },
  {
   "cell_type": "code",
   "execution_count": 45,
   "metadata": {
    "collapsed": false
   },
   "outputs": [
    {
     "data": {
      "text/plain": [
       "[('great', [4.5844942031345575]),\n",
       " ('delici', [4.125527424365717]),\n",
       " ('best', [3.966381050105042]),\n",
       " ('perfect', [3.9057759652894246]),\n",
       " ('love', [3.393833110872298]),\n",
       " ('excel', [3.1707742776375873]),\n",
       " ('pleasantli', [3.118068372239215]),\n",
       " ('highli', [2.938321914929848]),\n",
       " ('skeptic', [2.930959633181658]),\n",
       " ('hook', [2.852077728913655])]"
      ]
     },
     "execution_count": 45,
     "metadata": {},
     "output_type": "execute_result"
    }
   ],
   "source": [
    "svm_weights = [(f, w) for f, w in zip(svm_clf.steps[0][1].get_feature_names(), svm_clf.steps[2][1].coef_.T.tolist())]\n",
    "sorted(svm_weights, key=lambda x: x[1],reverse=True)[:10]"
   ]
  },
  {
   "cell_type": "code",
   "execution_count": 68,
   "metadata": {
    "collapsed": true
   },
   "outputs": [],
   "source": [
    "import pickle\n",
    "with open(\"lr_clf.pkl\", \"wb\") as f:\n",
    "    pickle.dump(lr_clf, f)\n",
    "\n",
    "with open(\"svm_clf.pkl\", \"wb\") as f:\n",
    "    pickle.dump(svm_clf, f)    "
   ]
  }
 ],
 "metadata": {
  "kernelspec": {
   "display_name": "Python 3",
   "language": "python",
   "name": "python3"
  },
  "language_info": {
   "codemirror_mode": {
    "name": "ipython",
    "version": 3
   },
   "file_extension": ".py",
   "mimetype": "text/x-python",
   "name": "python",
   "nbconvert_exporter": "python",
   "pygments_lexer": "ipython3",
   "version": "3.5.1"
  }
 },
 "nbformat": 4,
 "nbformat_minor": 0
}
