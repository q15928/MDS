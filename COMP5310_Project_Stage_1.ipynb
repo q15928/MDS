{
 "cells": [
  {
   "cell_type": "markdown",
   "metadata": {},
   "source": [
    "# Section 1: Problem #"
   ]
  },
  {
   "cell_type": "markdown",
   "metadata": {},
   "source": [
    "The dataset I am going to use is \"[Amazon Fine Food Reviews](https://www.kaggle.com/snap/amazon-fine-food-reviews)\" from Kaggle. One of the problems is to perform sentiment analysis and classification based on the reviews from users. Another one is to recommend new products to the users based on their past rating and other users' rating with similar tastes.\n",
    "\n",
    "From a broader perspective, there is a need for an intelligent classifier based on text information process. There most common example we have seen everyday is probably the spam or junk mail filter in the email system which is telling you whether the email is a junk mail or not. This is a typical binary classifier. Another one is the Webpage classifcation based on its content. For example, when browsing [Google News](http://news.google.com.au/), we can see the news from different categories like \"Business\", \"Technology\", \"Sports\", etc.. It is the intelligent machine learning applications which automatically classify each webpage into different categories. This is an example of multiclass classifier.\n",
    "\n",
    "Recommender system has been widely used in recent years. It has become a important aspect for companies with marketing strategy targetting to tailor for each customer's preferences and interests. Personalisation is now transforming and improving customer experience for all kinds of businesses, for example, making product recommendation for online shopping, suggesting movies, music and news.The most famous one is [Netflix Prize](https://en.wikipedia.org/wiki/Netflix_Prize) to compete for the best collaborative filtering algorithm.\n",
    "\n",
    "\n",
    "**The problems of interest I am going to explore are: **\n",
    "\n",
    "* Which product has the most positive reviews and which has the most negative reviews?\n",
    "* Who are the users tending to have more negative reviews?\n",
    "* Which are the important words that lead to a positive or negative reviews?\n",
    "* How to recommend new fine foods to the users based on  other users' reviews?\n",
    "* Besides Accuracy, what are the other evaluation metrics to consider for classification problem?\n"
   ]
  },
  {
   "cell_type": "markdown",
   "metadata": {},
   "source": [
    "# Section 2: Data"
   ]
  },
  {
   "cell_type": "markdown",
   "metadata": {},
   "source": [
    "The dataset is downloaded from [Kaggle](https://www.kaggle.com/snap/amazon-fine-food-reviews), it was originally published on [SNAP](http://snap.stanford.edu/data/web-FineFoods.html). \n",
    "\n",
    "The dataset contains around 500,000 food reviews from Amazon with a period between 1999 and 2012. It is a single csv file about 286 MB which includes productID, userID, rating of the product, review summary and text of details.\n",
    "\n",
    "The dataset is pretty clean. There is no missing data for each feature/column. However, it is required to do some transformation and cleaning to build up a user product matrix and to process the text data of the reviews."
   ]
  },
  {
   "cell_type": "code",
   "execution_count": 15,
   "metadata": {
    "collapsed": true
   },
   "outputs": [],
   "source": [
    "import pandas as pd\n",
    "from pandas import DataFrame, Series\n",
    "import numpy as np\n",
    "from scipy.sparse import lil_matrix\n",
    "import string\n",
    "import matplotlib.pyplot as plt\n",
    "import nltk\n",
    "from collections import Counter, defaultdict\n",
    "import re\n",
    "%matplotlib inline"
   ]
  },
  {
   "cell_type": "code",
   "execution_count": 2,
   "metadata": {
    "collapsed": false
   },
   "outputs": [
    {
     "data": {
      "text/html": [
       "<div>\n",
       "<table border=\"1\" class=\"dataframe\">\n",
       "  <thead>\n",
       "    <tr style=\"text-align: right;\">\n",
       "      <th></th>\n",
       "      <th>Id</th>\n",
       "      <th>ProductId</th>\n",
       "      <th>UserId</th>\n",
       "      <th>ProfileName</th>\n",
       "      <th>HelpfulnessNumerator</th>\n",
       "      <th>HelpfulnessDenominator</th>\n",
       "      <th>Score</th>\n",
       "      <th>Time</th>\n",
       "      <th>Summary</th>\n",
       "      <th>Text</th>\n",
       "    </tr>\n",
       "  </thead>\n",
       "  <tbody>\n",
       "    <tr>\n",
       "      <th>0</th>\n",
       "      <td>1</td>\n",
       "      <td>B001E4KFG0</td>\n",
       "      <td>A3SGXH7AUHU8GW</td>\n",
       "      <td>delmartian</td>\n",
       "      <td>1</td>\n",
       "      <td>1</td>\n",
       "      <td>5</td>\n",
       "      <td>1303862400</td>\n",
       "      <td>Good Quality Dog Food</td>\n",
       "      <td>I have bought several of the Vitality canned d...</td>\n",
       "    </tr>\n",
       "    <tr>\n",
       "      <th>1</th>\n",
       "      <td>2</td>\n",
       "      <td>B00813GRG4</td>\n",
       "      <td>A1D87F6ZCVE5NK</td>\n",
       "      <td>dll pa</td>\n",
       "      <td>0</td>\n",
       "      <td>0</td>\n",
       "      <td>1</td>\n",
       "      <td>1346976000</td>\n",
       "      <td>Not as Advertised</td>\n",
       "      <td>Product arrived labeled as Jumbo Salted Peanut...</td>\n",
       "    </tr>\n",
       "    <tr>\n",
       "      <th>2</th>\n",
       "      <td>3</td>\n",
       "      <td>B000LQOCH0</td>\n",
       "      <td>ABXLMWJIXXAIN</td>\n",
       "      <td>Natalia Corres \"Natalia Corres\"</td>\n",
       "      <td>1</td>\n",
       "      <td>1</td>\n",
       "      <td>4</td>\n",
       "      <td>1219017600</td>\n",
       "      <td>\"Delight\" says it all</td>\n",
       "      <td>This is a confection that has been around a fe...</td>\n",
       "    </tr>\n",
       "  </tbody>\n",
       "</table>\n",
       "</div>"
      ],
      "text/plain": [
       "   Id   ProductId          UserId                      ProfileName  \\\n",
       "0   1  B001E4KFG0  A3SGXH7AUHU8GW                       delmartian   \n",
       "1   2  B00813GRG4  A1D87F6ZCVE5NK                           dll pa   \n",
       "2   3  B000LQOCH0   ABXLMWJIXXAIN  Natalia Corres \"Natalia Corres\"   \n",
       "\n",
       "   HelpfulnessNumerator  HelpfulnessDenominator  Score        Time  \\\n",
       "0                     1                       1      5  1303862400   \n",
       "1                     0                       0      1  1346976000   \n",
       "2                     1                       1      4  1219017600   \n",
       "\n",
       "                 Summary                                               Text  \n",
       "0  Good Quality Dog Food  I have bought several of the Vitality canned d...  \n",
       "1      Not as Advertised  Product arrived labeled as Jumbo Salted Peanut...  \n",
       "2  \"Delight\" says it all  This is a confection that has been around a fe...  "
      ]
     },
     "execution_count": 2,
     "metadata": {},
     "output_type": "execute_result"
    }
   ],
   "source": [
    "food_reviews = pd.read_csv('./amazon-fine-foods/Reviews.csv')\n",
    "food_reviews[:3]"
   ]
  },
  {
   "cell_type": "code",
   "execution_count": 3,
   "metadata": {
    "collapsed": false
   },
   "outputs": [
    {
     "data": {
      "text/html": [
       "<div>\n",
       "<table border=\"1\" class=\"dataframe\">\n",
       "  <thead>\n",
       "    <tr style=\"text-align: right;\">\n",
       "      <th></th>\n",
       "      <th>Id</th>\n",
       "      <th>HelpfulnessNumerator</th>\n",
       "      <th>HelpfulnessDenominator</th>\n",
       "      <th>Score</th>\n",
       "      <th>Time</th>\n",
       "    </tr>\n",
       "  </thead>\n",
       "  <tbody>\n",
       "    <tr>\n",
       "      <th>count</th>\n",
       "      <td>568454.000000</td>\n",
       "      <td>568454.000000</td>\n",
       "      <td>568454.00000</td>\n",
       "      <td>568454.000000</td>\n",
       "      <td>5.684540e+05</td>\n",
       "    </tr>\n",
       "    <tr>\n",
       "      <th>mean</th>\n",
       "      <td>284227.500000</td>\n",
       "      <td>1.743817</td>\n",
       "      <td>2.22881</td>\n",
       "      <td>4.183199</td>\n",
       "      <td>1.296257e+09</td>\n",
       "    </tr>\n",
       "    <tr>\n",
       "      <th>std</th>\n",
       "      <td>164098.679298</td>\n",
       "      <td>7.636513</td>\n",
       "      <td>8.28974</td>\n",
       "      <td>1.310436</td>\n",
       "      <td>4.804331e+07</td>\n",
       "    </tr>\n",
       "    <tr>\n",
       "      <th>min</th>\n",
       "      <td>1.000000</td>\n",
       "      <td>0.000000</td>\n",
       "      <td>0.00000</td>\n",
       "      <td>1.000000</td>\n",
       "      <td>9.393408e+08</td>\n",
       "    </tr>\n",
       "    <tr>\n",
       "      <th>25%</th>\n",
       "      <td>142114.250000</td>\n",
       "      <td>0.000000</td>\n",
       "      <td>0.00000</td>\n",
       "      <td>4.000000</td>\n",
       "      <td>1.271290e+09</td>\n",
       "    </tr>\n",
       "    <tr>\n",
       "      <th>50%</th>\n",
       "      <td>284227.500000</td>\n",
       "      <td>0.000000</td>\n",
       "      <td>1.00000</td>\n",
       "      <td>5.000000</td>\n",
       "      <td>1.311120e+09</td>\n",
       "    </tr>\n",
       "    <tr>\n",
       "      <th>75%</th>\n",
       "      <td>426340.750000</td>\n",
       "      <td>2.000000</td>\n",
       "      <td>2.00000</td>\n",
       "      <td>5.000000</td>\n",
       "      <td>1.332720e+09</td>\n",
       "    </tr>\n",
       "    <tr>\n",
       "      <th>max</th>\n",
       "      <td>568454.000000</td>\n",
       "      <td>866.000000</td>\n",
       "      <td>923.00000</td>\n",
       "      <td>5.000000</td>\n",
       "      <td>1.351210e+09</td>\n",
       "    </tr>\n",
       "  </tbody>\n",
       "</table>\n",
       "</div>"
      ],
      "text/plain": [
       "                  Id  HelpfulnessNumerator  HelpfulnessDenominator  \\\n",
       "count  568454.000000         568454.000000            568454.00000   \n",
       "mean   284227.500000              1.743817                 2.22881   \n",
       "std    164098.679298              7.636513                 8.28974   \n",
       "min         1.000000              0.000000                 0.00000   \n",
       "25%    142114.250000              0.000000                 0.00000   \n",
       "50%    284227.500000              0.000000                 1.00000   \n",
       "75%    426340.750000              2.000000                 2.00000   \n",
       "max    568454.000000            866.000000               923.00000   \n",
       "\n",
       "               Score          Time  \n",
       "count  568454.000000  5.684540e+05  \n",
       "mean        4.183199  1.296257e+09  \n",
       "std         1.310436  4.804331e+07  \n",
       "min         1.000000  9.393408e+08  \n",
       "25%         4.000000  1.271290e+09  \n",
       "50%         5.000000  1.311120e+09  \n",
       "75%         5.000000  1.332720e+09  \n",
       "max         5.000000  1.351210e+09  "
      ]
     },
     "execution_count": 3,
     "metadata": {},
     "output_type": "execute_result"
    }
   ],
   "source": [
    "# food_reviews.head()\n",
    "food_reviews.describe()"
   ]
  },
  {
   "cell_type": "code",
   "execution_count": 4,
   "metadata": {
    "collapsed": false
   },
   "outputs": [
    {
     "name": "stdout",
     "output_type": "stream",
     "text": [
      "<class 'pandas.core.frame.DataFrame'>\n",
      "RangeIndex: 568454 entries, 0 to 568453\n",
      "Data columns (total 10 columns):\n",
      "Id                        568454 non-null int64\n",
      "ProductId                 568454 non-null object\n",
      "UserId                    568454 non-null object\n",
      "ProfileName               568438 non-null object\n",
      "HelpfulnessNumerator      568454 non-null int64\n",
      "HelpfulnessDenominator    568454 non-null int64\n",
      "Score                     568454 non-null int64\n",
      "Time                      568454 non-null int64\n",
      "Summary                   568428 non-null object\n",
      "Text                      568454 non-null object\n",
      "dtypes: int64(5), object(5)\n",
      "memory usage: 43.4+ MB\n"
     ]
    }
   ],
   "source": [
    "food_reviews.info()"
   ]
  },
  {
   "cell_type": "code",
   "execution_count": 5,
   "metadata": {
    "collapsed": false
   },
   "outputs": [
    {
     "name": "stdout",
     "output_type": "stream",
     "text": [
      "There are 74258 products reviewed by 256059 users with total 568454 ratings.\n"
     ]
    }
   ],
   "source": [
    "num_products = len(food_reviews['ProductId'].unique())\n",
    "num_users = len(food_reviews['UserId'].unique())\n",
    "print(\"There are {0} products reviewed by {1} users with total {2} ratings.\".format(num_products, num_users, len(food_reviews)))"
   ]
  },
  {
   "cell_type": "markdown",
   "metadata": {},
   "source": [
    "## Rating distribution"
   ]
  },
  {
   "cell_type": "code",
   "execution_count": 6,
   "metadata": {
    "collapsed": false
   },
   "outputs": [
    {
     "name": "stdout",
     "output_type": "stream",
     "text": [
      "The accuracy of majority class classifier is 84.40%\n"
     ]
    }
   ],
   "source": [
    "rating_count = food_reviews['Score'].value_counts(sort=False)\n",
    "# rating_count\n",
    "rating_pct = food_reviews[food_reviews['Score'] != 3]['Score'].value_counts(normalize=True, sort=False)\n",
    "# rating_pct\n",
    "neg_pct = rating_pct[[1, 2]].sum()\n",
    "pos_pct = rating_pct[[4, 5]].sum()\n",
    "print('The accuracy of majority class classifier is {0:2.2%}'.format(pos_pct))\n",
    "ratings = Series([neg_pct*100, pos_pct*100], index=['negative', 'positive'])"
   ]
  },
  {
   "cell_type": "markdown",
   "metadata": {},
   "source": [
    "This is an imbalanced dataset biased towards 5 in terms of Score (or rating). If we are going to build a sentiment classifier, we should use the **majority class classifier ** as the baseline model to evaluate our classifier. We will ignore the reviews with *Score = 3* as they tend to have a neutral sentiment. *Score = [1,2]* will be negative rating and *Score = [4,5]* will be positive rating. So the **majority class classifier ** will be positive rating."
   ]
  },
  {
   "cell_type": "code",
   "execution_count": 7,
   "metadata": {
    "collapsed": false
   },
   "outputs": [
    {
     "data": {
      "image/png": "[encoded data removed]",
      "text/plain": [
       "<matplotlib.figure.Figure at 0x1473e6629b0>"
      ]
     },
     "metadata": {},
     "output_type": "display_data"
    }
   ],
   "source": [
    "plt.figure(figsize=(15,5))\n",
    "plt.subplot(121)\n",
    "rating_count.plot(kind='bar', title='Review Rating Distribution', rot=0)\n",
    "plt.xlabel('Scores', {'fontsize': 'large'})\n",
    "plt.ylabel('# of Reviews', {'fontsize': 'large'})\n",
    "plt.subplot(122)\n",
    "ratings.plot(kind='bar', title='Sentiment Rating (%)', rot=0)\n",
    "plt.show()"
   ]
  },
  {
   "cell_type": "markdown",
   "metadata": {},
   "source": [
    "## What is the ratings for the highly reviewed products?\n",
    "First we need to check the mean rating for each product. And we will get the products will reviews in descending order. We can then check the mean Scores for the top 10 reviewed products."
   ]
  },
  {
   "cell_type": "code",
   "execution_count": 8,
   "metadata": {
    "collapsed": false
   },
   "outputs": [
    {
     "data": {
      "text/plain": [
       "ProductId\n",
       "0006641040    4.351351\n",
       "141278509X    5.000000\n",
       "2734888454    3.500000\n",
       "2841233731    5.000000\n",
       "7310172001    4.751445\n",
       "Name: Score, dtype: float64"
      ]
     },
     "execution_count": 8,
     "metadata": {},
     "output_type": "execute_result"
    }
   ],
   "source": [
    "ratings_mean = food_reviews.pivot_table('Score', index='ProductId', aggfunc='mean')\n",
    "ratings_mean[:5]"
   ]
  },
  {
   "cell_type": "code",
   "execution_count": 9,
   "metadata": {
    "collapsed": false
   },
   "outputs": [
    {
     "data": {
      "text/plain": [
       "B007JFMH8M    913\n",
       "B0026RQTGE    632\n",
       "B002QWHJOU    632\n",
       "B002QWP89S    632\n",
       "B002QWP8H0    632\n",
       "Name: ProductId, dtype: int64"
      ]
     },
     "execution_count": 9,
     "metadata": {},
     "output_type": "execute_result"
    }
   ],
   "source": [
    "products_cnt = food_reviews['ProductId'].value_counts()\n",
    "products_cnt[:5]"
   ]
  },
  {
   "cell_type": "code",
   "execution_count": 10,
   "metadata": {
    "collapsed": false
   },
   "outputs": [
    {
     "data": {
      "text/plain": [
       "B007JFMH8M    4.582694\n",
       "B0026RQTGE    4.588608\n",
       "B002QWHJOU    4.588608\n",
       "B002QWP89S    4.588608\n",
       "B002QWP8H0    4.588608\n",
       "B003B3OOPA    4.739968\n",
       "B001EO5Q64    4.746032\n",
       "B001RVFEP2    4.310284\n",
       "B001RVFERK    4.310284\n",
       "B0013NUGDE    4.310284\n",
       "Name: Score, dtype: float64"
      ]
     },
     "execution_count": 10,
     "metadata": {},
     "output_type": "execute_result"
    }
   ],
   "source": [
    "products_top10 = products_cnt.index[:10]\n",
    "products_top10\n",
    "ratings_mean.ix[products_top10]"
   ]
  },
  {
   "cell_type": "markdown",
   "metadata": {},
   "source": [
    "## Cleaning and transforming text data ##\n",
    "We are going to use the review text as the features of sentiment classifier model. We need to clean and transform the text data with the following process:\n",
    "\n",
    "* Changing the characters to lower case\n",
    "* Removing special words (i.e. HTML tags) punctuation\n",
    "* Tokenisation\n",
    "* Counting the words\n",
    "\n",
    "The result is a dict of word count for each row."
   ]
  },
  {
   "cell_type": "code",
   "execution_count": 11,
   "metadata": {
    "collapsed": false
   },
   "outputs": [],
   "source": [
    "text = \"\"\"I've bought these for my husband who is currently overseas. He loves these, and apparently his staff \n",
    "likes them also.<br />There are generous amounts of Twizzlers in each 16-ounce bag, and this was well worth the price.\n",
    "<a href=\"\"http://www.amazon.com/gp/product/B001GVISJM\"\">Twizzlers, Strawberry, 16-Ounce Bags (Pack of 6)</a>\"\"\"\n",
    "# print(nltk.tokenize.wordpunct_tokenize(text.lower()))\n",
    "# print(nltk.tokenize.TreebankWordTokenizer().tokenize(text.lower()))\n",
    "def word_count(text):\n",
    "    text = str(text)    # convert to string\n",
    "    text = text.lower()\n",
    "    text = re.sub(r'<.*?>', ' ', text)\n",
    "    intab = string.punctuation\n",
    "    outtab = \" \" * len(string.punctuation)\n",
    "    transtab = str.maketrans(intab, outtab)\n",
    "    text = text.translate(transtab)\n",
    "    tokens = nltk.tokenize.word_tokenize(text)\n",
    "    res = Counter(tokens)\n",
    "    return res\n",
    "    \n",
    "# word_count(text)"
   ]
  },
  {
   "cell_type": "code",
   "execution_count": 12,
   "metadata": {
    "collapsed": false
   },
   "outputs": [
    {
     "data": {
      "text/html": [
       "<div>\n",
       "<table border=\"1\" class=\"dataframe\">\n",
       "  <thead>\n",
       "    <tr style=\"text-align: right;\">\n",
       "      <th></th>\n",
       "      <th>Summary</th>\n",
       "      <th>wordCount</th>\n",
       "    </tr>\n",
       "  </thead>\n",
       "  <tbody>\n",
       "    <tr>\n",
       "      <th>0</th>\n",
       "      <td>Good Quality Dog Food</td>\n",
       "      <td>{'dog': 1, 'good': 1, 'food': 1, 'quality': 1}</td>\n",
       "    </tr>\n",
       "    <tr>\n",
       "      <th>1</th>\n",
       "      <td>Not as Advertised</td>\n",
       "      <td>{'advertised': 1, 'as': 1, 'not': 1}</td>\n",
       "    </tr>\n",
       "    <tr>\n",
       "      <th>2</th>\n",
       "      <td>\"Delight\" says it all</td>\n",
       "      <td>{'it': 1, 'all': 1, 'delight': 1, 'says': 1}</td>\n",
       "    </tr>\n",
       "    <tr>\n",
       "      <th>3</th>\n",
       "      <td>Cough Medicine</td>\n",
       "      <td>{'medicine': 1, 'cough': 1}</td>\n",
       "    </tr>\n",
       "    <tr>\n",
       "      <th>4</th>\n",
       "      <td>Great taffy</td>\n",
       "      <td>{'great': 1, 'taffy': 1}</td>\n",
       "    </tr>\n",
       "  </tbody>\n",
       "</table>\n",
       "</div>"
      ],
      "text/plain": [
       "                 Summary                                       wordCount\n",
       "0  Good Quality Dog Food  {'dog': 1, 'good': 1, 'food': 1, 'quality': 1}\n",
       "1      Not as Advertised            {'advertised': 1, 'as': 1, 'not': 1}\n",
       "2  \"Delight\" says it all    {'it': 1, 'all': 1, 'delight': 1, 'says': 1}\n",
       "3         Cough Medicine                     {'medicine': 1, 'cough': 1}\n",
       "4            Great taffy                        {'great': 1, 'taffy': 1}"
      ]
     },
     "execution_count": 12,
     "metadata": {},
     "output_type": "execute_result"
    }
   ],
   "source": [
    "food_reviews['wordCount'] = food_reviews['Summary'].apply(word_count)\n",
    "food_reviews[['Summary', 'wordCount']][:5]"
   ]
  },
  {
   "cell_type": "markdown",
   "metadata": {},
   "source": [
    "### What are the frequent words appearing in positive reviews?"
   ]
  },
  {
   "cell_type": "markdown",
   "metadata": {},
   "source": [
    "It is required an extra step to remove the common words by using NLTK stopwords set."
   ]
  },
  {
   "cell_type": "code",
   "execution_count": 29,
   "metadata": {
    "collapsed": false
   },
   "outputs": [],
   "source": [
    "stopwords = nltk.corpus.stopwords.words('english')\n",
    "positive_words = defaultdict(int)\n",
    "negative_words = defaultdict(int)\n",
    "for words in food_reviews[food_reviews['Score'] > 3]['wordCount']:\n",
    "    for w, c in words.items():\n",
    "        if w not in stopwords:\n",
    "            positive_words[w] += c\n",
    "        \n",
    "for words in food_reviews[food_reviews['Score'] < 3]['wordCount']:\n",
    "    for w, c in words.items():\n",
    "        if w not in stopwords:\n",
    "            negative_words[w] += c        "
   ]
  },
  {
   "cell_type": "code",
   "execution_count": 43,
   "metadata": {
    "collapsed": false
   },
   "outputs": [
    {
     "data": {
      "text/plain": [
       "<matplotlib.axes._subplots.AxesSubplot at 0x1473f6f6898>"
      ]
     },
     "execution_count": 43,
     "metadata": {},
     "output_type": "execute_result"
    },
    {
     "data": {
      "image/png": "[encoded data removed]",
      "text/plain": [
       "<matplotlib.figure.Figure at 0x1473f6e3940>"
      ]
     },
     "metadata": {},
     "output_type": "display_data"
    }
   ],
   "source": [
    "# len(negative_words)\n",
    "# sorted(negative_words, key=lambda x: x.items()[1], reverse=True)[:10]\n",
    "# pos_words_series.plot(kind='barh', title='Most Frequent words in positive reviews')\n",
    "pos_words_series = Series(positive_words)\n",
    "plt.figure(figsize=(8,5))\n",
    "pos_words_series.sort_values(ascending=False)[:10].plot(kind='barh', title='Most Frequent words in positive reviews')"
   ]
  },
  {
   "cell_type": "markdown",
   "metadata": {},
   "source": [
    "## User-Product-Rating Matrix\n",
    "I am trying to use Pandas pivot_table to generate the matrix with the dimension of 74258 (products) x 256059 (users). However, I encounter `index out of bound` error. Here I will use a subset (20,000) of reviews to construct the matrix.\n",
    "\n",
    "The result is a sparse matrix. For any cell that are missing data (i.e. the user didn't rate the product), we are going to set to 0.\n",
    "\n",
    "**Will explore to use sparse matrix to implement the rating matrix in stage 2 **"
   ]
  },
  {
   "cell_type": "code",
   "execution_count": 13,
   "metadata": {
    "collapsed": false
   },
   "outputs": [
    {
     "data": {
      "text/html": [
       "<div>\n",
       "<table border=\"1\" class=\"dataframe\">\n",
       "  <thead>\n",
       "    <tr style=\"text-align: right;\">\n",
       "      <th>ProductId</th>\n",
       "      <th>B00002NCJC</th>\n",
       "      <th>B00002Z754</th>\n",
       "      <th>B00005V3DC</th>\n",
       "      <th>B000084DVR</th>\n",
       "      <th>B000084E1U</th>\n",
       "      <th>B000084EK4</th>\n",
       "      <th>B000084EK5</th>\n",
       "      <th>B000084EK6</th>\n",
       "      <th>B000084EK7</th>\n",
       "      <th>B000084EK8</th>\n",
       "      <th>...</th>\n",
       "      <th>B0093NIWVO</th>\n",
       "      <th>B00959DMWK</th>\n",
       "      <th>B00961CUXO</th>\n",
       "      <th>B0096E5196</th>\n",
       "      <th>B009AVDFCK</th>\n",
       "      <th>B009D668KS</th>\n",
       "      <th>B009HINRX8</th>\n",
       "      <th>B009KP6HBM</th>\n",
       "      <th>B009UOFU20</th>\n",
       "      <th>B009WSNWC4</th>\n",
       "    </tr>\n",
       "    <tr>\n",
       "      <th>UserId</th>\n",
       "      <th></th>\n",
       "      <th></th>\n",
       "      <th></th>\n",
       "      <th></th>\n",
       "      <th></th>\n",
       "      <th></th>\n",
       "      <th></th>\n",
       "      <th></th>\n",
       "      <th></th>\n",
       "      <th></th>\n",
       "      <th></th>\n",
       "      <th></th>\n",
       "      <th></th>\n",
       "      <th></th>\n",
       "      <th></th>\n",
       "      <th></th>\n",
       "      <th></th>\n",
       "      <th></th>\n",
       "      <th></th>\n",
       "      <th></th>\n",
       "      <th></th>\n",
       "    </tr>\n",
       "  </thead>\n",
       "  <tbody>\n",
       "    <tr>\n",
       "      <th>A10012K7DF3SBQ</th>\n",
       "      <td>0.0</td>\n",
       "      <td>0.0</td>\n",
       "      <td>0.0</td>\n",
       "      <td>0.0</td>\n",
       "      <td>0.0</td>\n",
       "      <td>0.0</td>\n",
       "      <td>0.0</td>\n",
       "      <td>0.0</td>\n",
       "      <td>0.0</td>\n",
       "      <td>0.0</td>\n",
       "      <td>...</td>\n",
       "      <td>0.0</td>\n",
       "      <td>0.0</td>\n",
       "      <td>0.0</td>\n",
       "      <td>0.0</td>\n",
       "      <td>0.0</td>\n",
       "      <td>0.0</td>\n",
       "      <td>0.0</td>\n",
       "      <td>0.0</td>\n",
       "      <td>0.0</td>\n",
       "      <td>0.0</td>\n",
       "    </tr>\n",
       "    <tr>\n",
       "      <th>A1001TYW5FZYD9</th>\n",
       "      <td>0.0</td>\n",
       "      <td>0.0</td>\n",
       "      <td>0.0</td>\n",
       "      <td>0.0</td>\n",
       "      <td>0.0</td>\n",
       "      <td>0.0</td>\n",
       "      <td>0.0</td>\n",
       "      <td>0.0</td>\n",
       "      <td>0.0</td>\n",
       "      <td>0.0</td>\n",
       "      <td>...</td>\n",
       "      <td>0.0</td>\n",
       "      <td>0.0</td>\n",
       "      <td>0.0</td>\n",
       "      <td>0.0</td>\n",
       "      <td>0.0</td>\n",
       "      <td>0.0</td>\n",
       "      <td>0.0</td>\n",
       "      <td>0.0</td>\n",
       "      <td>0.0</td>\n",
       "      <td>0.0</td>\n",
       "    </tr>\n",
       "    <tr>\n",
       "      <th>A1001WVQ2UV7DD</th>\n",
       "      <td>0.0</td>\n",
       "      <td>0.0</td>\n",
       "      <td>0.0</td>\n",
       "      <td>0.0</td>\n",
       "      <td>0.0</td>\n",
       "      <td>0.0</td>\n",
       "      <td>0.0</td>\n",
       "      <td>0.0</td>\n",
       "      <td>0.0</td>\n",
       "      <td>0.0</td>\n",
       "      <td>...</td>\n",
       "      <td>0.0</td>\n",
       "      <td>0.0</td>\n",
       "      <td>0.0</td>\n",
       "      <td>0.0</td>\n",
       "      <td>0.0</td>\n",
       "      <td>0.0</td>\n",
       "      <td>0.0</td>\n",
       "      <td>0.0</td>\n",
       "      <td>0.0</td>\n",
       "      <td>0.0</td>\n",
       "    </tr>\n",
       "    <tr>\n",
       "      <th>A1003ACBU13X6E</th>\n",
       "      <td>0.0</td>\n",
       "      <td>0.0</td>\n",
       "      <td>0.0</td>\n",
       "      <td>0.0</td>\n",
       "      <td>0.0</td>\n",
       "      <td>0.0</td>\n",
       "      <td>0.0</td>\n",
       "      <td>0.0</td>\n",
       "      <td>0.0</td>\n",
       "      <td>0.0</td>\n",
       "      <td>...</td>\n",
       "      <td>0.0</td>\n",
       "      <td>0.0</td>\n",
       "      <td>0.0</td>\n",
       "      <td>0.0</td>\n",
       "      <td>0.0</td>\n",
       "      <td>0.0</td>\n",
       "      <td>0.0</td>\n",
       "      <td>0.0</td>\n",
       "      <td>0.0</td>\n",
       "      <td>0.0</td>\n",
       "    </tr>\n",
       "    <tr>\n",
       "      <th>A1004703RC79J9</th>\n",
       "      <td>0.0</td>\n",
       "      <td>0.0</td>\n",
       "      <td>0.0</td>\n",
       "      <td>0.0</td>\n",
       "      <td>0.0</td>\n",
       "      <td>0.0</td>\n",
       "      <td>0.0</td>\n",
       "      <td>0.0</td>\n",
       "      <td>0.0</td>\n",
       "      <td>0.0</td>\n",
       "      <td>...</td>\n",
       "      <td>0.0</td>\n",
       "      <td>0.0</td>\n",
       "      <td>0.0</td>\n",
       "      <td>0.0</td>\n",
       "      <td>0.0</td>\n",
       "      <td>0.0</td>\n",
       "      <td>0.0</td>\n",
       "      <td>0.0</td>\n",
       "      <td>0.0</td>\n",
       "      <td>0.0</td>\n",
       "    </tr>\n",
       "    <tr>\n",
       "      <th>A10080F3BO83XV</th>\n",
       "      <td>0.0</td>\n",
       "      <td>0.0</td>\n",
       "      <td>0.0</td>\n",
       "      <td>0.0</td>\n",
       "      <td>0.0</td>\n",
       "      <td>0.0</td>\n",
       "      <td>0.0</td>\n",
       "      <td>0.0</td>\n",
       "      <td>0.0</td>\n",
       "      <td>0.0</td>\n",
       "      <td>...</td>\n",
       "      <td>0.0</td>\n",
       "      <td>0.0</td>\n",
       "      <td>0.0</td>\n",
       "      <td>0.0</td>\n",
       "      <td>0.0</td>\n",
       "      <td>0.0</td>\n",
       "      <td>0.0</td>\n",
       "      <td>0.0</td>\n",
       "      <td>0.0</td>\n",
       "      <td>0.0</td>\n",
       "    </tr>\n",
       "    <tr>\n",
       "      <th>A1008DPSP6KC9J</th>\n",
       "      <td>0.0</td>\n",
       "      <td>0.0</td>\n",
       "      <td>0.0</td>\n",
       "      <td>0.0</td>\n",
       "      <td>0.0</td>\n",
       "      <td>0.0</td>\n",
       "      <td>0.0</td>\n",
       "      <td>0.0</td>\n",
       "      <td>0.0</td>\n",
       "      <td>0.0</td>\n",
       "      <td>...</td>\n",
       "      <td>0.0</td>\n",
       "      <td>0.0</td>\n",
       "      <td>0.0</td>\n",
       "      <td>0.0</td>\n",
       "      <td>0.0</td>\n",
       "      <td>0.0</td>\n",
       "      <td>0.0</td>\n",
       "      <td>0.0</td>\n",
       "      <td>0.0</td>\n",
       "      <td>0.0</td>\n",
       "    </tr>\n",
       "    <tr>\n",
       "      <th>A100WO06OQR8BQ</th>\n",
       "      <td>0.0</td>\n",
       "      <td>0.0</td>\n",
       "      <td>0.0</td>\n",
       "      <td>0.0</td>\n",
       "      <td>0.0</td>\n",
       "      <td>0.0</td>\n",
       "      <td>0.0</td>\n",
       "      <td>0.0</td>\n",
       "      <td>0.0</td>\n",
       "      <td>0.0</td>\n",
       "      <td>...</td>\n",
       "      <td>0.0</td>\n",
       "      <td>0.0</td>\n",
       "      <td>0.0</td>\n",
       "      <td>0.0</td>\n",
       "      <td>0.0</td>\n",
       "      <td>0.0</td>\n",
       "      <td>0.0</td>\n",
       "      <td>0.0</td>\n",
       "      <td>0.0</td>\n",
       "      <td>0.0</td>\n",
       "    </tr>\n",
       "    <tr>\n",
       "      <th>A1011I2PCI4K8B</th>\n",
       "      <td>0.0</td>\n",
       "      <td>0.0</td>\n",
       "      <td>0.0</td>\n",
       "      <td>0.0</td>\n",
       "      <td>0.0</td>\n",
       "      <td>0.0</td>\n",
       "      <td>0.0</td>\n",
       "      <td>0.0</td>\n",
       "      <td>0.0</td>\n",
       "      <td>0.0</td>\n",
       "      <td>...</td>\n",
       "      <td>0.0</td>\n",
       "      <td>0.0</td>\n",
       "      <td>0.0</td>\n",
       "      <td>0.0</td>\n",
       "      <td>0.0</td>\n",
       "      <td>0.0</td>\n",
       "      <td>0.0</td>\n",
       "      <td>0.0</td>\n",
       "      <td>0.0</td>\n",
       "      <td>0.0</td>\n",
       "    </tr>\n",
       "    <tr>\n",
       "      <th>A10164SJUITMKQ</th>\n",
       "      <td>0.0</td>\n",
       "      <td>0.0</td>\n",
       "      <td>0.0</td>\n",
       "      <td>0.0</td>\n",
       "      <td>0.0</td>\n",
       "      <td>0.0</td>\n",
       "      <td>0.0</td>\n",
       "      <td>0.0</td>\n",
       "      <td>0.0</td>\n",
       "      <td>0.0</td>\n",
       "      <td>...</td>\n",
       "      <td>0.0</td>\n",
       "      <td>0.0</td>\n",
       "      <td>0.0</td>\n",
       "      <td>0.0</td>\n",
       "      <td>0.0</td>\n",
       "      <td>0.0</td>\n",
       "      <td>0.0</td>\n",
       "      <td>0.0</td>\n",
       "      <td>0.0</td>\n",
       "      <td>0.0</td>\n",
       "    </tr>\n",
       "  </tbody>\n",
       "</table>\n",
       "<p>10 rows × 2657 columns</p>\n",
       "</div>"
      ],
      "text/plain": [
       "ProductId       B00002NCJC  B00002Z754  B00005V3DC  B000084DVR  B000084E1U  \\\n",
       "UserId                                                                       \n",
       "A10012K7DF3SBQ         0.0         0.0         0.0         0.0         0.0   \n",
       "A1001TYW5FZYD9         0.0         0.0         0.0         0.0         0.0   \n",
       "A1001WVQ2UV7DD         0.0         0.0         0.0         0.0         0.0   \n",
       "A1003ACBU13X6E         0.0         0.0         0.0         0.0         0.0   \n",
       "A1004703RC79J9         0.0         0.0         0.0         0.0         0.0   \n",
       "A10080F3BO83XV         0.0         0.0         0.0         0.0         0.0   \n",
       "A1008DPSP6KC9J         0.0         0.0         0.0         0.0         0.0   \n",
       "A100WO06OQR8BQ         0.0         0.0         0.0         0.0         0.0   \n",
       "A1011I2PCI4K8B         0.0         0.0         0.0         0.0         0.0   \n",
       "A10164SJUITMKQ         0.0         0.0         0.0         0.0         0.0   \n",
       "\n",
       "ProductId       B000084EK4  B000084EK5  B000084EK6  B000084EK7  B000084EK8  \\\n",
       "UserId                                                                       \n",
       "A10012K7DF3SBQ         0.0         0.0         0.0         0.0         0.0   \n",
       "A1001TYW5FZYD9         0.0         0.0         0.0         0.0         0.0   \n",
       "A1001WVQ2UV7DD         0.0         0.0         0.0         0.0         0.0   \n",
       "A1003ACBU13X6E         0.0         0.0         0.0         0.0         0.0   \n",
       "A1004703RC79J9         0.0         0.0         0.0         0.0         0.0   \n",
       "A10080F3BO83XV         0.0         0.0         0.0         0.0         0.0   \n",
       "A1008DPSP6KC9J         0.0         0.0         0.0         0.0         0.0   \n",
       "A100WO06OQR8BQ         0.0         0.0         0.0         0.0         0.0   \n",
       "A1011I2PCI4K8B         0.0         0.0         0.0         0.0         0.0   \n",
       "A10164SJUITMKQ         0.0         0.0         0.0         0.0         0.0   \n",
       "\n",
       "ProductId          ...      B0093NIWVO  B00959DMWK  B00961CUXO  B0096E5196  \\\n",
       "UserId             ...                                                       \n",
       "A10012K7DF3SBQ     ...             0.0         0.0         0.0         0.0   \n",
       "A1001TYW5FZYD9     ...             0.0         0.0         0.0         0.0   \n",
       "A1001WVQ2UV7DD     ...             0.0         0.0         0.0         0.0   \n",
       "A1003ACBU13X6E     ...             0.0         0.0         0.0         0.0   \n",
       "A1004703RC79J9     ...             0.0         0.0         0.0         0.0   \n",
       "A10080F3BO83XV     ...             0.0         0.0         0.0         0.0   \n",
       "A1008DPSP6KC9J     ...             0.0         0.0         0.0         0.0   \n",
       "A100WO06OQR8BQ     ...             0.0         0.0         0.0         0.0   \n",
       "A1011I2PCI4K8B     ...             0.0         0.0         0.0         0.0   \n",
       "A10164SJUITMKQ     ...             0.0         0.0         0.0         0.0   \n",
       "\n",
       "ProductId       B009AVDFCK  B009D668KS  B009HINRX8  B009KP6HBM  B009UOFU20  \\\n",
       "UserId                                                                       \n",
       "A10012K7DF3SBQ         0.0         0.0         0.0         0.0         0.0   \n",
       "A1001TYW5FZYD9         0.0         0.0         0.0         0.0         0.0   \n",
       "A1001WVQ2UV7DD         0.0         0.0         0.0         0.0         0.0   \n",
       "A1003ACBU13X6E         0.0         0.0         0.0         0.0         0.0   \n",
       "A1004703RC79J9         0.0         0.0         0.0         0.0         0.0   \n",
       "A10080F3BO83XV         0.0         0.0         0.0         0.0         0.0   \n",
       "A1008DPSP6KC9J         0.0         0.0         0.0         0.0         0.0   \n",
       "A100WO06OQR8BQ         0.0         0.0         0.0         0.0         0.0   \n",
       "A1011I2PCI4K8B         0.0         0.0         0.0         0.0         0.0   \n",
       "A10164SJUITMKQ         0.0         0.0         0.0         0.0         0.0   \n",
       "\n",
       "ProductId       B009WSNWC4  \n",
       "UserId                      \n",
       "A10012K7DF3SBQ         0.0  \n",
       "A1001TYW5FZYD9         0.0  \n",
       "A1001WVQ2UV7DD         0.0  \n",
       "A1003ACBU13X6E         0.0  \n",
       "A1004703RC79J9         0.0  \n",
       "A10080F3BO83XV         0.0  \n",
       "A1008DPSP6KC9J         0.0  \n",
       "A100WO06OQR8BQ         0.0  \n",
       "A1011I2PCI4K8B         0.0  \n",
       "A10164SJUITMKQ         0.0  \n",
       "\n",
       "[10 rows x 2657 columns]"
      ]
     },
     "execution_count": 13,
     "metadata": {},
     "output_type": "execute_result"
    }
   ],
   "source": [
    "user_product_rating = food_reviews[:20000].pivot_table(values='Score', index='UserId', columns='ProductId')\n",
    "user_product_rating = user_product_rating.fillna(value=0)\n",
    "user_product_rating[:10]"
   ]
  },
  {
   "cell_type": "code",
   "execution_count": 14,
   "metadata": {
    "collapsed": false
   },
   "outputs": [
    {
     "data": {
      "text/html": [
       "<div>\n",
       "<table border=\"1\" class=\"dataframe\">\n",
       "  <thead>\n",
       "    <tr style=\"text-align: right;\">\n",
       "      <th>ProductId</th>\n",
       "      <th>B00002NCJC</th>\n",
       "      <th>B00002Z754</th>\n",
       "      <th>B00005V3DC</th>\n",
       "      <th>B000084DVR</th>\n",
       "      <th>B000084E1U</th>\n",
       "      <th>B000084EK4</th>\n",
       "      <th>B000084EK5</th>\n",
       "      <th>B000084EK6</th>\n",
       "      <th>B000084EK7</th>\n",
       "      <th>B000084EK8</th>\n",
       "      <th>...</th>\n",
       "      <th>B0093NIWVO</th>\n",
       "      <th>B00959DMWK</th>\n",
       "      <th>B00961CUXO</th>\n",
       "      <th>B0096E5196</th>\n",
       "      <th>B009AVDFCK</th>\n",
       "      <th>B009D668KS</th>\n",
       "      <th>B009HINRX8</th>\n",
       "      <th>B009KP6HBM</th>\n",
       "      <th>B009UOFU20</th>\n",
       "      <th>B009WSNWC4</th>\n",
       "    </tr>\n",
       "    <tr>\n",
       "      <th>UserId</th>\n",
       "      <th></th>\n",
       "      <th></th>\n",
       "      <th></th>\n",
       "      <th></th>\n",
       "      <th></th>\n",
       "      <th></th>\n",
       "      <th></th>\n",
       "      <th></th>\n",
       "      <th></th>\n",
       "      <th></th>\n",
       "      <th></th>\n",
       "      <th></th>\n",
       "      <th></th>\n",
       "      <th></th>\n",
       "      <th></th>\n",
       "      <th></th>\n",
       "      <th></th>\n",
       "      <th></th>\n",
       "      <th></th>\n",
       "      <th></th>\n",
       "      <th></th>\n",
       "    </tr>\n",
       "  </thead>\n",
       "  <tbody>\n",
       "    <tr>\n",
       "      <th>A13RRPGE79XFFH</th>\n",
       "      <td>5.0</td>\n",
       "      <td>0.0</td>\n",
       "      <td>0.0</td>\n",
       "      <td>0.0</td>\n",
       "      <td>0.0</td>\n",
       "      <td>0.0</td>\n",
       "      <td>0.0</td>\n",
       "      <td>0.0</td>\n",
       "      <td>0.0</td>\n",
       "      <td>0.0</td>\n",
       "      <td>...</td>\n",
       "      <td>0.0</td>\n",
       "      <td>0.0</td>\n",
       "      <td>0.0</td>\n",
       "      <td>0.0</td>\n",
       "      <td>0.0</td>\n",
       "      <td>0.0</td>\n",
       "      <td>0.0</td>\n",
       "      <td>0.0</td>\n",
       "      <td>0.0</td>\n",
       "      <td>0.0</td>\n",
       "    </tr>\n",
       "    <tr>\n",
       "      <th>A196AJHU9EASJN</th>\n",
       "      <td>4.0</td>\n",
       "      <td>0.0</td>\n",
       "      <td>0.0</td>\n",
       "      <td>0.0</td>\n",
       "      <td>0.0</td>\n",
       "      <td>0.0</td>\n",
       "      <td>0.0</td>\n",
       "      <td>0.0</td>\n",
       "      <td>0.0</td>\n",
       "      <td>0.0</td>\n",
       "      <td>...</td>\n",
       "      <td>0.0</td>\n",
       "      <td>0.0</td>\n",
       "      <td>0.0</td>\n",
       "      <td>0.0</td>\n",
       "      <td>0.0</td>\n",
       "      <td>0.0</td>\n",
       "      <td>0.0</td>\n",
       "      <td>0.0</td>\n",
       "      <td>0.0</td>\n",
       "      <td>0.0</td>\n",
       "    </tr>\n",
       "  </tbody>\n",
       "</table>\n",
       "<p>2 rows × 2657 columns</p>\n",
       "</div>"
      ],
      "text/plain": [
       "ProductId       B00002NCJC  B00002Z754  B00005V3DC  B000084DVR  B000084E1U  \\\n",
       "UserId                                                                       \n",
       "A13RRPGE79XFFH         5.0         0.0         0.0         0.0         0.0   \n",
       "A196AJHU9EASJN         4.0         0.0         0.0         0.0         0.0   \n",
       "\n",
       "ProductId       B000084EK4  B000084EK5  B000084EK6  B000084EK7  B000084EK8  \\\n",
       "UserId                                                                       \n",
       "A13RRPGE79XFFH         0.0         0.0         0.0         0.0         0.0   \n",
       "A196AJHU9EASJN         0.0         0.0         0.0         0.0         0.0   \n",
       "\n",
       "ProductId          ...      B0093NIWVO  B00959DMWK  B00961CUXO  B0096E5196  \\\n",
       "UserId             ...                                                       \n",
       "A13RRPGE79XFFH     ...             0.0         0.0         0.0         0.0   \n",
       "A196AJHU9EASJN     ...             0.0         0.0         0.0         0.0   \n",
       "\n",
       "ProductId       B009AVDFCK  B009D668KS  B009HINRX8  B009KP6HBM  B009UOFU20  \\\n",
       "UserId                                                                       \n",
       "A13RRPGE79XFFH         0.0         0.0         0.0         0.0         0.0   \n",
       "A196AJHU9EASJN         0.0         0.0         0.0         0.0         0.0   \n",
       "\n",
       "ProductId       B009WSNWC4  \n",
       "UserId                      \n",
       "A13RRPGE79XFFH         0.0  \n",
       "A196AJHU9EASJN         0.0  \n",
       "\n",
       "[2 rows x 2657 columns]"
      ]
     },
     "execution_count": 14,
     "metadata": {},
     "output_type": "execute_result"
    }
   ],
   "source": [
    "user_product_rating[user_product_rating.ix[:, 0] != 0]\n",
    "# user_product_rating.ix[, 0]"
   ]
  },
  {
   "cell_type": "code",
   "execution_count": 15,
   "metadata": {
    "collapsed": false
   },
   "outputs": [],
   "source": [
    "# explore scipy sparse matrix\n",
    "rating_matrix = lil_matrix((256059, 74258))"
   ]
  },
  {
   "cell_type": "markdown",
   "metadata": {
    "collapsed": false
   },
   "source": [
    "# Section 3: Proposal\n",
    "\n",
    "I am going to build a sentiment classifier using logistic regreesion model with bag-of-words as features. I will also explore other text analysis options like TF-IDF, bigram for the feature engineering. Based on the weights (coefficients) of the model, it will reveal the positive and negative word sets.\n",
    "\n",
    "For recommender system, I will explore [Collaborative filtering][CF] approach to recommend products based on the similar preferences of different users. I need to investigate to utilise sparse matrix (from numpy and scipy) and how to solve sparsity problem.\n",
    "\n",
    "For classification model, the baseline is the majority class classifier. Moreover, we will evaluate metrics like the confusion matrix, Precision, Recall, F-score. \n",
    "\n",
    "For recommender system, we need to evaluate the trade-off of Precision and Recall or precision-recall curve. \n",
    "\n",
    "[CF]:https://en.wikipedia.org/wiki/Collaborative_filtering"
   ]
  }
 ],
 "metadata": {
  "kernelspec": {
   "display_name": "Python 3",
   "language": "python",
   "name": "python3"
  },
  "language_info": {
   "codemirror_mode": {
    "name": "ipython",
    "version": 3
   },
   "file_extension": ".py",
   "mimetype": "text/x-python",
   "name": "python",
   "nbconvert_exporter": "python",
   "pygments_lexer": "ipython3",
   "version": "3.5.1"
  }
 },
 "nbformat": 4,
 "nbformat_minor": 0
}
