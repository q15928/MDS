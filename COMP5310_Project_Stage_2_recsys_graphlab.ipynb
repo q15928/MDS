{
 "cells": [
  {
   "cell_type": "markdown",
   "metadata": {},
   "source": [
    "# Section 1: Problem #"
   ]
  },
  {
   "cell_type": "markdown",
   "metadata": {},
   "source": [
    "The dataset I am going to use is \"[Amazon Fine Food Reviews](https://www.kaggle.com/snap/amazon-fine-food-reviews)\" from Kaggle. The problem is to recommend new products to the users based on their past rating and other users' rating with similar tastes.\n",
    "\n",
    "Recommender system has been widely used in recent years. It has become a important aspect for companies with marketing strategy targetting to tailor for each customer's preferences and interests. Personalisation is now transforming and improving customer experience for all kinds of businesses, for example, making product recommendation for online shopping, suggesting movies, music and news.The most famous one is [Netflix Prize](https://en.wikipedia.org/wiki/Netflix_Prize) to compete for the best collaborative filtering algorithm."
   ]
  },
  {
   "cell_type": "markdown",
   "metadata": {},
   "source": [
    "# Section 2: Data"
   ]
  },
  {
   "cell_type": "markdown",
   "metadata": {},
   "source": [
    "The dataset is downloaded from [Kaggle](https://www.kaggle.com/snap/amazon-fine-food-reviews), it was originally published on [SNAP](http://snap.stanford.edu/data/web-FineFoods.html). \n",
    "\n",
    "The dataset contains around 500,000 food reviews from Amazon with a period between 1999 and 2012. It is a single csv file about 286 MB which includes productID, userID, rating of the product, review summary and text of details."
   ]
  },
  {
   "cell_type": "code",
   "execution_count": 16,
   "metadata": {
    "collapsed": true
   },
   "outputs": [],
   "source": [
    "import graphlab"
   ]
  },
  {
   "cell_type": "markdown",
   "metadata": {},
   "source": [
    "## Load data into SFrame"
   ]
  },
  {
   "cell_type": "code",
   "execution_count": 2,
   "metadata": {
    "collapsed": false
   },
   "outputs": [
    {
     "name": "stdout",
     "output_type": "stream",
     "text": [
      "This non-commercial license of GraphLab Create is assigned to q15928@hotmail.com and will expire on September 27, 2016. For commercial licensing options, visit https://dato.com/buy/.\n"
     ]
    },
    {
     "name": "stderr",
     "output_type": "stream",
     "text": [
      "2016-05-23 09:39:11,686 [INFO] graphlab.cython.cy_server, 176: GraphLab Create v1.9 started. Logging: C:\\Users\\Jason\\AppData\\Local\\Temp\\graphlab_server_1463960347.log.0\n"
     ]
    },
    {
     "data": {
      "text/html": [
       "<pre>Unable to parse line \"95303,B00401OZ1U,ATO7WKMVJD6XQ,\"Curcio \"\"\\\"\"\",0,0,5,1335398400,Metromint Water,Wonderful tasting water.  For one that doesn't like to drink soda's or juices because of the high sugar content this product is a great addition to the healthy drinking.  Also p...\"</pre>"
      ],
      "text/plain": [
       "Unable to parse line \"95303,B00401OZ1U,ATO7WKMVJD6XQ,\"Curcio \"\"\\\"\"\",0,0,5,1335398400,Metromint Water,Wonderful tasting water.  For one that doesn't like to drink soda's or juices because of the high sugar content this product is a great addition to the healthy drinking.  Also p...\""
      ]
     },
     "metadata": {},
     "output_type": "display_data"
    },
    {
     "data": {
      "text/html": [
       "<pre>1 lines failed to parse correctly</pre>"
      ],
      "text/plain": [
       "1 lines failed to parse correctly"
      ]
     },
     "metadata": {},
     "output_type": "display_data"
    },
    {
     "data": {
      "text/html": [
       "<pre>Finished parsing file C:\\Jason\\uniSyd\\Master-Data-Science\\COMP5310\\Assignment\\amazon-fine-foods\\Reviews.csv</pre>"
      ],
      "text/plain": [
       "Finished parsing file C:\\Jason\\uniSyd\\Master-Data-Science\\COMP5310\\Assignment\\amazon-fine-foods\\Reviews.csv"
      ]
     },
     "metadata": {},
     "output_type": "display_data"
    },
    {
     "data": {
      "text/html": [
       "<pre>Parsing completed. Parsed 100 lines in 1.39037 secs.</pre>"
      ],
      "text/plain": [
       "Parsing completed. Parsed 100 lines in 1.39037 secs."
      ]
     },
     "metadata": {},
     "output_type": "display_data"
    },
    {
     "name": "stdout",
     "output_type": "stream",
     "text": [
      "------------------------------------------------------\n",
      "Inferred types from first 100 line(s) of file as \n",
      "column_type_hints=[long,str,str,str,long,long,long,long,str,str]\n",
      "If parsing fails due to incorrect types, you can correct\n",
      "the inferred type list above and pass it to read_csv in\n",
      "the column_type_hints argument\n",
      "------------------------------------------------------\n"
     ]
    },
    {
     "data": {
      "text/html": [
       "<pre>Unable to parse line \"95303,B00401OZ1U,ATO7WKMVJD6XQ,\"Curcio \"\"\\\"\"\",0,0,5,1335398400,Metromint Water,Wonderful tasting water.  For one that doesn't like to drink soda's or juices because of the high sugar content this product is a great addition to the healthy drinking.  Also p...\"</pre>"
      ],
      "text/plain": [
       "Unable to parse line \"95303,B00401OZ1U,ATO7WKMVJD6XQ,\"Curcio \"\"\\\"\"\",0,0,5,1335398400,Metromint Water,Wonderful tasting water.  For one that doesn't like to drink soda's or juices because of the high sugar content this product is a great addition to the healthy drinking.  Also p...\""
      ]
     },
     "metadata": {},
     "output_type": "display_data"
    },
    {
     "data": {
      "text/html": [
       "<pre>Read 98051 lines. Lines per second: 68953.9</pre>"
      ],
      "text/plain": [
       "Read 98051 lines. Lines per second: 68953.9"
      ]
     },
     "metadata": {},
     "output_type": "display_data"
    },
    {
     "data": {
      "text/html": [
       "<pre>Unable to parse line \"514285,B0081X097M,ATO7WKMVJD6XQ,\"Curcio \"\"\\\"\"\",0,0,5,1335398400,Metromint Water,Wonderful tasting water.  For one that doesn't like to drink soda's or juices because of the high sugar content this product is a great addition to the healthy drinking.  Also ...\"</pre>"
      ],
      "text/plain": [
       "Unable to parse line \"514285,B0081X097M,ATO7WKMVJD6XQ,\"Curcio \"\"\\\"\"\",0,0,5,1335398400,Metromint Water,Wonderful tasting water.  For one that doesn't like to drink soda's or juices because of the high sugar content this product is a great addition to the healthy drinking.  Also ...\""
      ]
     },
     "metadata": {},
     "output_type": "display_data"
    },
    {
     "data": {
      "text/html": [
       "<pre>2 lines failed to parse correctly</pre>"
      ],
      "text/plain": [
       "2 lines failed to parse correctly"
      ]
     },
     "metadata": {},
     "output_type": "display_data"
    },
    {
     "data": {
      "text/html": [
       "<pre>Finished parsing file C:\\Jason\\uniSyd\\Master-Data-Science\\COMP5310\\Assignment\\amazon-fine-foods\\Reviews.csv</pre>"
      ],
      "text/plain": [
       "Finished parsing file C:\\Jason\\uniSyd\\Master-Data-Science\\COMP5310\\Assignment\\amazon-fine-foods\\Reviews.csv"
      ]
     },
     "metadata": {},
     "output_type": "display_data"
    },
    {
     "data": {
      "text/html": [
       "<pre>Parsing completed. Parsed 568452 lines in 5.44252 secs.</pre>"
      ],
      "text/plain": [
       "Parsing completed. Parsed 568452 lines in 5.44252 secs."
      ]
     },
     "metadata": {},
     "output_type": "display_data"
    }
   ],
   "source": [
    "# food_reviews = pd.read_csv('./amazon-fine-foods/Reviews.csv')\n",
    "food_reviews = graphlab.SFrame.read_csv('./amazon-fine-foods/Reviews.csv', escape_char=\"\")"
   ]
  },
  {
   "cell_type": "code",
   "execution_count": 3,
   "metadata": {
    "collapsed": false
   },
   "outputs": [
    {
     "data": {
      "text/html": [
       "<div style=\"max-height:1000px;max-width:1500px;overflow:auto;\"><table frame=\"box\" rules=\"cols\">\n",
       "    <tr>\n",
       "        <th style=\"padding-left: 1em; padding-right: 1em; text-align: center\">Id</th>\n",
       "        <th style=\"padding-left: 1em; padding-right: 1em; text-align: center\">ProductId</th>\n",
       "        <th style=\"padding-left: 1em; padding-right: 1em; text-align: center\">UserId</th>\n",
       "        <th style=\"padding-left: 1em; padding-right: 1em; text-align: center\">ProfileName</th>\n",
       "        <th style=\"padding-left: 1em; padding-right: 1em; text-align: center\">HelpfulnessNumerator</th>\n",
       "        <th style=\"padding-left: 1em; padding-right: 1em; text-align: center\">HelpfulnessDenominator</th>\n",
       "        <th style=\"padding-left: 1em; padding-right: 1em; text-align: center\">Score</th>\n",
       "    </tr>\n",
       "    <tr>\n",
       "        <td style=\"padding-left: 1em; padding-right: 1em; text-align: center; vertical-align: top\">1</td>\n",
       "        <td style=\"padding-left: 1em; padding-right: 1em; text-align: center; vertical-align: top\">B001E4KFG0</td>\n",
       "        <td style=\"padding-left: 1em; padding-right: 1em; text-align: center; vertical-align: top\">A3SGXH7AUHU8GW</td>\n",
       "        <td style=\"padding-left: 1em; padding-right: 1em; text-align: center; vertical-align: top\">delmartian</td>\n",
       "        <td style=\"padding-left: 1em; padding-right: 1em; text-align: center; vertical-align: top\">1</td>\n",
       "        <td style=\"padding-left: 1em; padding-right: 1em; text-align: center; vertical-align: top\">1</td>\n",
       "        <td style=\"padding-left: 1em; padding-right: 1em; text-align: center; vertical-align: top\">5</td>\n",
       "    </tr>\n",
       "    <tr>\n",
       "        <td style=\"padding-left: 1em; padding-right: 1em; text-align: center; vertical-align: top\">2</td>\n",
       "        <td style=\"padding-left: 1em; padding-right: 1em; text-align: center; vertical-align: top\">B00813GRG4</td>\n",
       "        <td style=\"padding-left: 1em; padding-right: 1em; text-align: center; vertical-align: top\">A1D87F6ZCVE5NK</td>\n",
       "        <td style=\"padding-left: 1em; padding-right: 1em; text-align: center; vertical-align: top\">dll pa</td>\n",
       "        <td style=\"padding-left: 1em; padding-right: 1em; text-align: center; vertical-align: top\">0</td>\n",
       "        <td style=\"padding-left: 1em; padding-right: 1em; text-align: center; vertical-align: top\">0</td>\n",
       "        <td style=\"padding-left: 1em; padding-right: 1em; text-align: center; vertical-align: top\">1</td>\n",
       "    </tr>\n",
       "    <tr>\n",
       "        <td style=\"padding-left: 1em; padding-right: 1em; text-align: center; vertical-align: top\">3</td>\n",
       "        <td style=\"padding-left: 1em; padding-right: 1em; text-align: center; vertical-align: top\">B000LQOCH0</td>\n",
       "        <td style=\"padding-left: 1em; padding-right: 1em; text-align: center; vertical-align: top\">ABXLMWJIXXAIN</td>\n",
       "        <td style=\"padding-left: 1em; padding-right: 1em; text-align: center; vertical-align: top\">Natalia Corres \"Natalia<br>Corres\" ...</td>\n",
       "        <td style=\"padding-left: 1em; padding-right: 1em; text-align: center; vertical-align: top\">1</td>\n",
       "        <td style=\"padding-left: 1em; padding-right: 1em; text-align: center; vertical-align: top\">1</td>\n",
       "        <td style=\"padding-left: 1em; padding-right: 1em; text-align: center; vertical-align: top\">4</td>\n",
       "    </tr>\n",
       "    <tr>\n",
       "        <td style=\"padding-left: 1em; padding-right: 1em; text-align: center; vertical-align: top\">4</td>\n",
       "        <td style=\"padding-left: 1em; padding-right: 1em; text-align: center; vertical-align: top\">B000UA0QIQ</td>\n",
       "        <td style=\"padding-left: 1em; padding-right: 1em; text-align: center; vertical-align: top\">A395BORC6FGVXV</td>\n",
       "        <td style=\"padding-left: 1em; padding-right: 1em; text-align: center; vertical-align: top\">Karl</td>\n",
       "        <td style=\"padding-left: 1em; padding-right: 1em; text-align: center; vertical-align: top\">3</td>\n",
       "        <td style=\"padding-left: 1em; padding-right: 1em; text-align: center; vertical-align: top\">3</td>\n",
       "        <td style=\"padding-left: 1em; padding-right: 1em; text-align: center; vertical-align: top\">2</td>\n",
       "    </tr>\n",
       "    <tr>\n",
       "        <td style=\"padding-left: 1em; padding-right: 1em; text-align: center; vertical-align: top\">5</td>\n",
       "        <td style=\"padding-left: 1em; padding-right: 1em; text-align: center; vertical-align: top\">B006K2ZZ7K</td>\n",
       "        <td style=\"padding-left: 1em; padding-right: 1em; text-align: center; vertical-align: top\">A1UQRSCLF8GW1T</td>\n",
       "        <td style=\"padding-left: 1em; padding-right: 1em; text-align: center; vertical-align: top\">Michael D. Bigham \"M.<br>Wassir\" ...</td>\n",
       "        <td style=\"padding-left: 1em; padding-right: 1em; text-align: center; vertical-align: top\">0</td>\n",
       "        <td style=\"padding-left: 1em; padding-right: 1em; text-align: center; vertical-align: top\">0</td>\n",
       "        <td style=\"padding-left: 1em; padding-right: 1em; text-align: center; vertical-align: top\">5</td>\n",
       "    </tr>\n",
       "</table>\n",
       "<table frame=\"box\" rules=\"cols\">\n",
       "    <tr>\n",
       "        <th style=\"padding-left: 1em; padding-right: 1em; text-align: center\">Time</th>\n",
       "        <th style=\"padding-left: 1em; padding-right: 1em; text-align: center\">Summary</th>\n",
       "        <th style=\"padding-left: 1em; padding-right: 1em; text-align: center\">Text</th>\n",
       "    </tr>\n",
       "    <tr>\n",
       "        <td style=\"padding-left: 1em; padding-right: 1em; text-align: center; vertical-align: top\">1303862400</td>\n",
       "        <td style=\"padding-left: 1em; padding-right: 1em; text-align: center; vertical-align: top\">Good Quality Dog Food</td>\n",
       "        <td style=\"padding-left: 1em; padding-right: 1em; text-align: center; vertical-align: top\">I have bought several of<br>the Vitality canned dog ...</td>\n",
       "    </tr>\n",
       "    <tr>\n",
       "        <td style=\"padding-left: 1em; padding-right: 1em; text-align: center; vertical-align: top\">1346976000</td>\n",
       "        <td style=\"padding-left: 1em; padding-right: 1em; text-align: center; vertical-align: top\">Not as Advertised</td>\n",
       "        <td style=\"padding-left: 1em; padding-right: 1em; text-align: center; vertical-align: top\">Product arrived labeled<br>as Jumbo Salted ...</td>\n",
       "    </tr>\n",
       "    <tr>\n",
       "        <td style=\"padding-left: 1em; padding-right: 1em; text-align: center; vertical-align: top\">1219017600</td>\n",
       "        <td style=\"padding-left: 1em; padding-right: 1em; text-align: center; vertical-align: top\">\"Delight\" says it all</td>\n",
       "        <td style=\"padding-left: 1em; padding-right: 1em; text-align: center; vertical-align: top\">This is a confection that<br>has been around a few ...</td>\n",
       "    </tr>\n",
       "    <tr>\n",
       "        <td style=\"padding-left: 1em; padding-right: 1em; text-align: center; vertical-align: top\">1307923200</td>\n",
       "        <td style=\"padding-left: 1em; padding-right: 1em; text-align: center; vertical-align: top\">Cough Medicine</td>\n",
       "        <td style=\"padding-left: 1em; padding-right: 1em; text-align: center; vertical-align: top\">If you are looking for<br>the secret ingredient in ...</td>\n",
       "    </tr>\n",
       "    <tr>\n",
       "        <td style=\"padding-left: 1em; padding-right: 1em; text-align: center; vertical-align: top\">1350777600</td>\n",
       "        <td style=\"padding-left: 1em; padding-right: 1em; text-align: center; vertical-align: top\">Great taffy</td>\n",
       "        <td style=\"padding-left: 1em; padding-right: 1em; text-align: center; vertical-align: top\">Great taffy at a great<br>price.  There was a wide ...</td>\n",
       "    </tr>\n",
       "</table>\n",
       "[5 rows x 10 columns]<br/>\n",
       "</div>"
      ],
      "text/plain": [
       "Columns:\n",
       "\tId\tint\n",
       "\tProductId\tstr\n",
       "\tUserId\tstr\n",
       "\tProfileName\tstr\n",
       "\tHelpfulnessNumerator\tint\n",
       "\tHelpfulnessDenominator\tint\n",
       "\tScore\tint\n",
       "\tTime\tint\n",
       "\tSummary\tstr\n",
       "\tText\tstr\n",
       "\n",
       "Rows: 5\n",
       "\n",
       "Data:\n",
       "+----+------------+----------------+-------------------------------+----------------------+\n",
       "| Id | ProductId  |     UserId     |          ProfileName          | HelpfulnessNumerator |\n",
       "+----+------------+----------------+-------------------------------+----------------------+\n",
       "| 1  | B001E4KFG0 | A3SGXH7AUHU8GW |           delmartian          |          1           |\n",
       "| 2  | B00813GRG4 | A1D87F6ZCVE5NK |             dll pa            |          0           |\n",
       "| 3  | B000LQOCH0 | ABXLMWJIXXAIN  | Natalia Corres \"Natalia Co... |          1           |\n",
       "| 4  | B000UA0QIQ | A395BORC6FGVXV |              Karl             |          3           |\n",
       "| 5  | B006K2ZZ7K | A1UQRSCLF8GW1T | Michael D. Bigham \"M. Wassir\" |          0           |\n",
       "+----+------------+----------------+-------------------------------+----------------------+\n",
       "+------------------------+-------+------------+-----------------------+\n",
       "| HelpfulnessDenominator | Score |    Time    |        Summary        |\n",
       "+------------------------+-------+------------+-----------------------+\n",
       "|           1            |   5   | 1303862400 | Good Quality Dog Food |\n",
       "|           0            |   1   | 1346976000 |   Not as Advertised   |\n",
       "|           1            |   4   | 1219017600 | \"Delight\" says it all |\n",
       "|           3            |   2   | 1307923200 |     Cough Medicine    |\n",
       "|           0            |   5   | 1350777600 |      Great taffy      |\n",
       "+------------------------+-------+------------+-----------------------+\n",
       "+-------------------------------+\n",
       "|              Text             |\n",
       "+-------------------------------+\n",
       "| I have bought several of t... |\n",
       "| Product arrived labeled as... |\n",
       "| This is a confection that ... |\n",
       "| If you are looking for the... |\n",
       "| Great taffy at a great pri... |\n",
       "+-------------------------------+\n",
       "[5 rows x 10 columns]"
      ]
     },
     "execution_count": 3,
     "metadata": {},
     "output_type": "execute_result"
    }
   ],
   "source": [
    "food_reviews.head(5)"
   ]
  },
  {
   "cell_type": "markdown",
   "metadata": {},
   "source": [
    "## Split data into training set and test set"
   ]
  },
  {
   "cell_type": "code",
   "execution_count": 4,
   "metadata": {
    "collapsed": true
   },
   "outputs": [],
   "source": [
    "training_set, test_set = graphlab.recommender.util.random_split_by_user(food_reviews, user_id='UserId', item_id='ProductId',\\\n",
    "                                                                        max_num_users=None, item_test_proportion=0.2, random_seed=5)"
   ]
  },
  {
   "cell_type": "markdown",
   "metadata": {},
   "source": [
    "# Section 3: Training recommender models\n",
    "## item-based collaborative filtering"
   ]
  },
  {
   "cell_type": "code",
   "execution_count": 10,
   "metadata": {
    "collapsed": false
   },
   "outputs": [
    {
     "data": {
      "text/html": [
       "<pre>Recsys training: model = item_similarity</pre>"
      ],
      "text/plain": [
       "Recsys training: model = item_similarity"
      ]
     },
     "metadata": {},
     "output_type": "display_data"
    },
    {
     "data": {
      "text/html": [
       "<pre>Warning: Ignoring columns Id, ProfileName, HelpfulnessNumerator, HelpfulnessDenominator, Time, Summary, Text;</pre>"
      ],
      "text/plain": [
       "Warning: Ignoring columns Id, ProfileName, HelpfulnessNumerator, HelpfulnessDenominator, Time, Summary, Text;"
      ]
     },
     "metadata": {},
     "output_type": "display_data"
    },
    {
     "data": {
      "text/html": [
       "<pre>    To use these columns in scoring predictions, use a model that allows the use of additional features.</pre>"
      ],
      "text/plain": [
       "    To use these columns in scoring predictions, use a model that allows the use of additional features."
      ]
     },
     "metadata": {},
     "output_type": "display_data"
    },
    {
     "data": {
      "text/html": [
       "<pre>Preparing data set.</pre>"
      ],
      "text/plain": [
       "Preparing data set."
      ]
     },
     "metadata": {},
     "output_type": "display_data"
    },
    {
     "data": {
      "text/html": [
       "<pre>    Data has 454702 observations with 219597 users and 67727 items.</pre>"
      ],
      "text/plain": [
       "    Data has 454702 observations with 219597 users and 67727 items."
      ]
     },
     "metadata": {},
     "output_type": "display_data"
    },
    {
     "data": {
      "text/html": [
       "<pre>    Data prepared in: 0.922619s</pre>"
      ],
      "text/plain": [
       "    Data prepared in: 0.922619s"
      ]
     },
     "metadata": {},
     "output_type": "display_data"
    },
    {
     "data": {
      "text/html": [
       "<pre>Processing 454702 observations:</pre>"
      ],
      "text/plain": [
       "Processing 454702 observations:"
      ]
     },
     "metadata": {},
     "output_type": "display_data"
    },
    {
     "data": {
      "text/html": [
       "<pre>   Observations   Seconds</pre>"
      ],
      "text/plain": [
       "   Observations   Seconds"
      ]
     },
     "metadata": {},
     "output_type": "display_data"
    },
    {
     "data": {
      "text/html": [
       "<pre>         454702   2.87675</pre>"
      ],
      "text/plain": [
       "         454702   2.87675"
      ]
     },
     "metadata": {},
     "output_type": "display_data"
    },
    {
     "data": {
      "text/html": [
       "<pre>Computing similar items for 67727 items using 8 partitions:</pre>"
      ],
      "text/plain": [
       "Computing similar items for 67727 items using 8 partitions:"
      ]
     },
     "metadata": {},
     "output_type": "display_data"
    },
    {
     "data": {
      "text/html": [
       "<pre> Partition     Items   Seconds</pre>"
      ],
      "text/plain": [
       " Partition     Items   Seconds"
      ]
     },
     "metadata": {},
     "output_type": "display_data"
    },
    {
     "data": {
      "text/html": [
       "<pre>         0      8468   3.05324</pre>"
      ],
      "text/plain": [
       "         0      8468   3.05324"
      ]
     },
     "metadata": {},
     "output_type": "display_data"
    },
    {
     "data": {
      "text/html": [
       "<pre>         1     16930   3.18668</pre>"
      ],
      "text/plain": [
       "         1     16930   3.18668"
      ]
     },
     "metadata": {},
     "output_type": "display_data"
    },
    {
     "data": {
      "text/html": [
       "<pre>         2     25398   3.33251</pre>"
      ],
      "text/plain": [
       "         2     25398   3.33251"
      ]
     },
     "metadata": {},
     "output_type": "display_data"
    },
    {
     "data": {
      "text/html": [
       "<pre>         3     33863   3.43606</pre>"
      ],
      "text/plain": [
       "         3     33863   3.43606"
      ]
     },
     "metadata": {},
     "output_type": "display_data"
    },
    {
     "data": {
      "text/html": [
       "<pre>         4     42327    3.5721</pre>"
      ],
      "text/plain": [
       "         4     42327    3.5721"
      ]
     },
     "metadata": {},
     "output_type": "display_data"
    },
    {
     "data": {
      "text/html": [
       "<pre>         5     50790   3.71685</pre>"
      ],
      "text/plain": [
       "         5     50790   3.71685"
      ]
     },
     "metadata": {},
     "output_type": "display_data"
    },
    {
     "data": {
      "text/html": [
       "<pre>         6     59258   3.85038</pre>"
      ],
      "text/plain": [
       "         6     59258   3.85038"
      ]
     },
     "metadata": {},
     "output_type": "display_data"
    },
    {
     "data": {
      "text/html": [
       "<pre>         7     67727   3.98361</pre>"
      ],
      "text/plain": [
       "         7     67727   3.98361"
      ]
     },
     "metadata": {},
     "output_type": "display_data"
    },
    {
     "data": {
      "text/html": [
       "<pre>Finished getting similar items for 67727 items in 3.98361s.</pre>"
      ],
      "text/plain": [
       "Finished getting similar items for 67727 items in 3.98361s."
      ]
     },
     "metadata": {},
     "output_type": "display_data"
    },
    {
     "data": {
      "text/html": [
       "<pre>Finished training in 6.76584s</pre>"
      ],
      "text/plain": [
       "Finished training in 6.76584s"
      ]
     },
     "metadata": {},
     "output_type": "display_data"
    },
    {
     "data": {
      "text/html": [
       "<pre>Finished prediction in 0.261301s</pre>"
      ],
      "text/plain": [
       "Finished prediction in 0.261301s"
      ]
     },
     "metadata": {},
     "output_type": "display_data"
    }
   ],
   "source": [
    "model1 =graphlab.item_similarity_recommender.create(training_set, user_id='UserId', item_id='ProductId', target='Score',\n",
    "                                                   similarity_type='cosine')"
   ]
  },
  {
   "cell_type": "markdown",
   "metadata": {},
   "source": [
    "### Evaluation on training set"
   ]
  },
  {
   "cell_type": "code",
   "execution_count": 12,
   "metadata": {
    "collapsed": false
   },
   "outputs": [
    {
     "data": {
      "text/html": [
       "<pre>recommendations finished on 1000/219597 queries. users per second: 417.569</pre>"
      ],
      "text/plain": [
       "recommendations finished on 1000/219597 queries. users per second: 417.569"
      ]
     },
     "metadata": {},
     "output_type": "display_data"
    },
    {
     "data": {
      "text/html": [
       "<pre>recommendations finished on 2000/219597 queries. users per second: 425.573</pre>"
      ],
      "text/plain": [
       "recommendations finished on 2000/219597 queries. users per second: 425.573"
      ]
     },
     "metadata": {},
     "output_type": "display_data"
    },
    {
     "data": {
      "text/html": [
       "<pre>recommendations finished on 3000/219597 queries. users per second: 436.835</pre>"
      ],
      "text/plain": [
       "recommendations finished on 3000/219597 queries. users per second: 436.835"
      ]
     },
     "metadata": {},
     "output_type": "display_data"
    },
    {
     "data": {
      "text/html": [
       "<pre>recommendations finished on 4000/219597 queries. users per second: 443.915</pre>"
      ],
      "text/plain": [
       "recommendations finished on 4000/219597 queries. users per second: 443.915"
      ]
     },
     "metadata": {},
     "output_type": "display_data"
    },
    {
     "data": {
      "text/html": [
       "<pre>recommendations finished on 5000/219597 queries. users per second: 443.518</pre>"
      ],
      "text/plain": [
       "recommendations finished on 5000/219597 queries. users per second: 443.518"
      ]
     },
     "metadata": {},
     "output_type": "display_data"
    },
    {
     "data": {
      "text/html": [
       "<pre>recommendations finished on 6000/219597 queries. users per second: 445.668</pre>"
      ],
      "text/plain": [
       "recommendations finished on 6000/219597 queries. users per second: 445.668"
      ]
     },
     "metadata": {},
     "output_type": "display_data"
    },
    {
     "data": {
      "text/html": [
       "<pre>recommendations finished on 7000/219597 queries. users per second: 449.107</pre>"
      ],
      "text/plain": [
       "recommendations finished on 7000/219597 queries. users per second: 449.107"
      ]
     },
     "metadata": {},
     "output_type": "display_data"
    },
    {
     "data": {
      "text/html": [
       "<pre>recommendations finished on 8000/219597 queries. users per second: 451.498</pre>"
      ],
      "text/plain": [
       "recommendations finished on 8000/219597 queries. users per second: 451.498"
      ]
     },
     "metadata": {},
     "output_type": "display_data"
    },
    {
     "data": {
      "text/html": [
       "<pre>recommendations finished on 9000/219597 queries. users per second: 452.972</pre>"
      ],
      "text/plain": [
       "recommendations finished on 9000/219597 queries. users per second: 452.972"
      ]
     },
     "metadata": {},
     "output_type": "display_data"
    },
    {
     "data": {
      "text/html": [
       "<pre>recommendations finished on 10000/219597 queries. users per second: 452.017</pre>"
      ],
      "text/plain": [
       "recommendations finished on 10000/219597 queries. users per second: 452.017"
      ]
     },
     "metadata": {},
     "output_type": "display_data"
    },
    {
     "data": {
      "text/html": [
       "<pre>recommendations finished on 11000/219597 queries. users per second: 451.671</pre>"
      ],
      "text/plain": [
       "recommendations finished on 11000/219597 queries. users per second: 451.671"
      ]
     },
     "metadata": {},
     "output_type": "display_data"
    },
    {
     "data": {
      "text/html": [
       "<pre>recommendations finished on 12000/219597 queries. users per second: 452.292</pre>"
      ],
      "text/plain": [
       "recommendations finished on 12000/219597 queries. users per second: 452.292"
      ]
     },
     "metadata": {},
     "output_type": "display_data"
    },
    {
     "data": {
      "text/html": [
       "<pre>recommendations finished on 13000/219597 queries. users per second: 453.198</pre>"
      ],
      "text/plain": [
       "recommendations finished on 13000/219597 queries. users per second: 453.198"
      ]
     },
     "metadata": {},
     "output_type": "display_data"
    },
    {
     "data": {
      "text/html": [
       "<pre>recommendations finished on 14000/219597 queries. users per second: 453.858</pre>"
      ],
      "text/plain": [
       "recommendations finished on 14000/219597 queries. users per second: 453.858"
      ]
     },
     "metadata": {},
     "output_type": "display_data"
    },
    {
     "data": {
      "text/html": [
       "<pre>recommendations finished on 15000/219597 queries. users per second: 454.403</pre>"
      ],
      "text/plain": [
       "recommendations finished on 15000/219597 queries. users per second: 454.403"
      ]
     },
     "metadata": {},
     "output_type": "display_data"
    },
    {
     "data": {
      "text/html": [
       "<pre>recommendations finished on 16000/219597 queries. users per second: 455.009</pre>"
      ],
      "text/plain": [
       "recommendations finished on 16000/219597 queries. users per second: 455.009"
      ]
     },
     "metadata": {},
     "output_type": "display_data"
    },
    {
     "data": {
      "text/html": [
       "<pre>recommendations finished on 17000/219597 queries. users per second: 454.313</pre>"
      ],
      "text/plain": [
       "recommendations finished on 17000/219597 queries. users per second: 454.313"
      ]
     },
     "metadata": {},
     "output_type": "display_data"
    },
    {
     "data": {
      "text/html": [
       "<pre>recommendations finished on 18000/219597 queries. users per second: 451.413</pre>"
      ],
      "text/plain": [
       "recommendations finished on 18000/219597 queries. users per second: 451.413"
      ]
     },
     "metadata": {},
     "output_type": "display_data"
    },
    {
     "data": {
      "text/html": [
       "<pre>recommendations finished on 19000/219597 queries. users per second: 449.647</pre>"
      ],
      "text/plain": [
       "recommendations finished on 19000/219597 queries. users per second: 449.647"
      ]
     },
     "metadata": {},
     "output_type": "display_data"
    },
    {
     "data": {
      "text/html": [
       "<pre>recommendations finished on 20000/219597 queries. users per second: 449.655</pre>"
      ],
      "text/plain": [
       "recommendations finished on 20000/219597 queries. users per second: 449.655"
      ]
     },
     "metadata": {},
     "output_type": "display_data"
    },
    {
     "data": {
      "text/html": [
       "<pre>recommendations finished on 21000/219597 queries. users per second: 447.99</pre>"
      ],
      "text/plain": [
       "recommendations finished on 21000/219597 queries. users per second: 447.99"
      ]
     },
     "metadata": {},
     "output_type": "display_data"
    },
    {
     "data": {
      "text/html": [
       "<pre>recommendations finished on 22000/219597 queries. users per second: 448.556</pre>"
      ],
      "text/plain": [
       "recommendations finished on 22000/219597 queries. users per second: 448.556"
      ]
     },
     "metadata": {},
     "output_type": "display_data"
    },
    {
     "data": {
      "text/html": [
       "<pre>recommendations finished on 23000/219597 queries. users per second: 449.119</pre>"
      ],
      "text/plain": [
       "recommendations finished on 23000/219597 queries. users per second: 449.119"
      ]
     },
     "metadata": {},
     "output_type": "display_data"
    },
    {
     "data": {
      "text/html": [
       "<pre>recommendations finished on 24000/219597 queries. users per second: 449.668</pre>"
      ],
      "text/plain": [
       "recommendations finished on 24000/219597 queries. users per second: 449.668"
      ]
     },
     "metadata": {},
     "output_type": "display_data"
    },
    {
     "data": {
      "text/html": [
       "<pre>recommendations finished on 25000/219597 queries. users per second: 450.234</pre>"
      ],
      "text/plain": [
       "recommendations finished on 25000/219597 queries. users per second: 450.234"
      ]
     },
     "metadata": {},
     "output_type": "display_data"
    },
    {
     "data": {
      "text/html": [
       "<pre>recommendations finished on 26000/219597 queries. users per second: 450.582</pre>"
      ],
      "text/plain": [
       "recommendations finished on 26000/219597 queries. users per second: 450.582"
      ]
     },
     "metadata": {},
     "output_type": "display_data"
    },
    {
     "data": {
      "text/html": [
       "<pre>recommendations finished on 27000/219597 queries. users per second: 451.15</pre>"
      ],
      "text/plain": [
       "recommendations finished on 27000/219597 queries. users per second: 451.15"
      ]
     },
     "metadata": {},
     "output_type": "display_data"
    },
    {
     "data": {
      "text/html": [
       "<pre>recommendations finished on 28000/219597 queries. users per second: 451.693</pre>"
      ],
      "text/plain": [
       "recommendations finished on 28000/219597 queries. users per second: 451.693"
      ]
     },
     "metadata": {},
     "output_type": "display_data"
    },
    {
     "data": {
      "text/html": [
       "<pre>recommendations finished on 29000/219597 queries. users per second: 452.142</pre>"
      ],
      "text/plain": [
       "recommendations finished on 29000/219597 queries. users per second: 452.142"
      ]
     },
     "metadata": {},
     "output_type": "display_data"
    },
    {
     "data": {
      "text/html": [
       "<pre>recommendations finished on 30000/219597 queries. users per second: 452.677</pre>"
      ],
      "text/plain": [
       "recommendations finished on 30000/219597 queries. users per second: 452.677"
      ]
     },
     "metadata": {},
     "output_type": "display_data"
    },
    {
     "data": {
      "text/html": [
       "<pre>recommendations finished on 31000/219597 queries. users per second: 453.13</pre>"
      ],
      "text/plain": [
       "recommendations finished on 31000/219597 queries. users per second: 453.13"
      ]
     },
     "metadata": {},
     "output_type": "display_data"
    },
    {
     "data": {
      "text/html": [
       "<pre>recommendations finished on 32000/219597 queries. users per second: 453.596</pre>"
      ],
      "text/plain": [
       "recommendations finished on 32000/219597 queries. users per second: 453.596"
      ]
     },
     "metadata": {},
     "output_type": "display_data"
    },
    {
     "data": {
      "text/html": [
       "<pre>recommendations finished on 33000/219597 queries. users per second: 453.957</pre>"
      ],
      "text/plain": [
       "recommendations finished on 33000/219597 queries. users per second: 453.957"
      ]
     },
     "metadata": {},
     "output_type": "display_data"
    },
    {
     "data": {
      "text/html": [
       "<pre>recommendations finished on 34000/219597 queries. users per second: 454.291</pre>"
      ],
      "text/plain": [
       "recommendations finished on 34000/219597 queries. users per second: 454.291"
      ]
     },
     "metadata": {},
     "output_type": "display_data"
    },
    {
     "data": {
      "text/html": [
       "<pre>recommendations finished on 35000/219597 queries. users per second: 454.522</pre>"
      ],
      "text/plain": [
       "recommendations finished on 35000/219597 queries. users per second: 454.522"
      ]
     },
     "metadata": {},
     "output_type": "display_data"
    },
    {
     "data": {
      "text/html": [
       "<pre>recommendations finished on 36000/219597 queries. users per second: 454.553</pre>"
      ],
      "text/plain": [
       "recommendations finished on 36000/219597 queries. users per second: 454.553"
      ]
     },
     "metadata": {},
     "output_type": "display_data"
    },
    {
     "data": {
      "text/html": [
       "<pre>recommendations finished on 37000/219597 queries. users per second: 454.31</pre>"
      ],
      "text/plain": [
       "recommendations finished on 37000/219597 queries. users per second: 454.31"
      ]
     },
     "metadata": {},
     "output_type": "display_data"
    },
    {
     "data": {
      "text/html": [
       "<pre>recommendations finished on 38000/219597 queries. users per second: 454.123</pre>"
      ],
      "text/plain": [
       "recommendations finished on 38000/219597 queries. users per second: 454.123"
      ]
     },
     "metadata": {},
     "output_type": "display_data"
    },
    {
     "data": {
      "text/html": [
       "<pre>recommendations finished on 39000/219597 queries. users per second: 453.741</pre>"
      ],
      "text/plain": [
       "recommendations finished on 39000/219597 queries. users per second: 453.741"
      ]
     },
     "metadata": {},
     "output_type": "display_data"
    },
    {
     "data": {
      "text/html": [
       "<pre>recommendations finished on 40000/219597 queries. users per second: 453.519</pre>"
      ],
      "text/plain": [
       "recommendations finished on 40000/219597 queries. users per second: 453.519"
      ]
     },
     "metadata": {},
     "output_type": "display_data"
    },
    {
     "data": {
      "text/html": [
       "<pre>recommendations finished on 41000/219597 queries. users per second: 453.494</pre>"
      ],
      "text/plain": [
       "recommendations finished on 41000/219597 queries. users per second: 453.494"
      ]
     },
     "metadata": {},
     "output_type": "display_data"
    },
    {
     "data": {
      "text/html": [
       "<pre>recommendations finished on 42000/219597 queries. users per second: 453.301</pre>"
      ],
      "text/plain": [
       "recommendations finished on 42000/219597 queries. users per second: 453.301"
      ]
     },
     "metadata": {},
     "output_type": "display_data"
    },
    {
     "data": {
      "text/html": [
       "<pre>recommendations finished on 43000/219597 queries. users per second: 453.233</pre>"
      ],
      "text/plain": [
       "recommendations finished on 43000/219597 queries. users per second: 453.233"
      ]
     },
     "metadata": {},
     "output_type": "display_data"
    },
    {
     "data": {
      "text/html": [
       "<pre>recommendations finished on 44000/219597 queries. users per second: 453.256</pre>"
      ],
      "text/plain": [
       "recommendations finished on 44000/219597 queries. users per second: 453.256"
      ]
     },
     "metadata": {},
     "output_type": "display_data"
    },
    {
     "data": {
      "text/html": [
       "<pre>recommendations finished on 45000/219597 queries. users per second: 452.676</pre>"
      ],
      "text/plain": [
       "recommendations finished on 45000/219597 queries. users per second: 452.676"
      ]
     },
     "metadata": {},
     "output_type": "display_data"
    },
    {
     "data": {
      "text/html": [
       "<pre>recommendations finished on 46000/219597 queries. users per second: 451.888</pre>"
      ],
      "text/plain": [
       "recommendations finished on 46000/219597 queries. users per second: 451.888"
      ]
     },
     "metadata": {},
     "output_type": "display_data"
    },
    {
     "data": {
      "text/html": [
       "<pre>recommendations finished on 47000/219597 queries. users per second: 451.33</pre>"
      ],
      "text/plain": [
       "recommendations finished on 47000/219597 queries. users per second: 451.33"
      ]
     },
     "metadata": {},
     "output_type": "display_data"
    },
    {
     "data": {
      "text/html": [
       "<pre>recommendations finished on 48000/219597 queries. users per second: 450.572</pre>"
      ],
      "text/plain": [
       "recommendations finished on 48000/219597 queries. users per second: 450.572"
      ]
     },
     "metadata": {},
     "output_type": "display_data"
    },
    {
     "data": {
      "text/html": [
       "<pre>recommendations finished on 49000/219597 queries. users per second: 448.237</pre>"
      ],
      "text/plain": [
       "recommendations finished on 49000/219597 queries. users per second: 448.237"
      ]
     },
     "metadata": {},
     "output_type": "display_data"
    },
    {
     "data": {
      "text/html": [
       "<pre>recommendations finished on 50000/219597 queries. users per second: 446.589</pre>"
      ],
      "text/plain": [
       "recommendations finished on 50000/219597 queries. users per second: 446.589"
      ]
     },
     "metadata": {},
     "output_type": "display_data"
    },
    {
     "data": {
      "text/html": [
       "<pre>recommendations finished on 51000/219597 queries. users per second: 444.027</pre>"
      ],
      "text/plain": [
       "recommendations finished on 51000/219597 queries. users per second: 444.027"
      ]
     },
     "metadata": {},
     "output_type": "display_data"
    },
    {
     "data": {
      "text/html": [
       "<pre>recommendations finished on 52000/219597 queries. users per second: 443.003</pre>"
      ],
      "text/plain": [
       "recommendations finished on 52000/219597 queries. users per second: 443.003"
      ]
     },
     "metadata": {},
     "output_type": "display_data"
    },
    {
     "data": {
      "text/html": [
       "<pre>recommendations finished on 53000/219597 queries. users per second: 442.63</pre>"
      ],
      "text/plain": [
       "recommendations finished on 53000/219597 queries. users per second: 442.63"
      ]
     },
     "metadata": {},
     "output_type": "display_data"
    },
    {
     "data": {
      "text/html": [
       "<pre>recommendations finished on 54000/219597 queries. users per second: 442.669</pre>"
      ],
      "text/plain": [
       "recommendations finished on 54000/219597 queries. users per second: 442.669"
      ]
     },
     "metadata": {},
     "output_type": "display_data"
    },
    {
     "data": {
      "text/html": [
       "<pre>recommendations finished on 55000/219597 queries. users per second: 443.059</pre>"
      ],
      "text/plain": [
       "recommendations finished on 55000/219597 queries. users per second: 443.059"
      ]
     },
     "metadata": {},
     "output_type": "display_data"
    },
    {
     "data": {
      "text/html": [
       "<pre>recommendations finished on 56000/219597 queries. users per second: 443.412</pre>"
      ],
      "text/plain": [
       "recommendations finished on 56000/219597 queries. users per second: 443.412"
      ]
     },
     "metadata": {},
     "output_type": "display_data"
    },
    {
     "data": {
      "text/html": [
       "<pre>recommendations finished on 57000/219597 queries. users per second: 443.864</pre>"
      ],
      "text/plain": [
       "recommendations finished on 57000/219597 queries. users per second: 443.864"
      ]
     },
     "metadata": {},
     "output_type": "display_data"
    },
    {
     "data": {
      "text/html": [
       "<pre>recommendations finished on 58000/219597 queries. users per second: 444.131</pre>"
      ],
      "text/plain": [
       "recommendations finished on 58000/219597 queries. users per second: 444.131"
      ]
     },
     "metadata": {},
     "output_type": "display_data"
    },
    {
     "data": {
      "text/html": [
       "<pre>recommendations finished on 59000/219597 queries. users per second: 444.463</pre>"
      ],
      "text/plain": [
       "recommendations finished on 59000/219597 queries. users per second: 444.463"
      ]
     },
     "metadata": {},
     "output_type": "display_data"
    },
    {
     "data": {
      "text/html": [
       "<pre>recommendations finished on 60000/219597 queries. users per second: 444.764</pre>"
      ],
      "text/plain": [
       "recommendations finished on 60000/219597 queries. users per second: 444.764"
      ]
     },
     "metadata": {},
     "output_type": "display_data"
    },
    {
     "data": {
      "text/html": [
       "<pre>recommendations finished on 61000/219597 queries. users per second: 445.134</pre>"
      ],
      "text/plain": [
       "recommendations finished on 61000/219597 queries. users per second: 445.134"
      ]
     },
     "metadata": {},
     "output_type": "display_data"
    },
    {
     "data": {
      "text/html": [
       "<pre>recommendations finished on 62000/219597 queries. users per second: 445.444</pre>"
      ],
      "text/plain": [
       "recommendations finished on 62000/219597 queries. users per second: 445.444"
      ]
     },
     "metadata": {},
     "output_type": "display_data"
    },
    {
     "data": {
      "text/html": [
       "<pre>recommendations finished on 63000/219597 queries. users per second: 445.66</pre>"
      ],
      "text/plain": [
       "recommendations finished on 63000/219597 queries. users per second: 445.66"
      ]
     },
     "metadata": {},
     "output_type": "display_data"
    },
    {
     "data": {
      "text/html": [
       "<pre>recommendations finished on 64000/219597 queries. users per second: 445.801</pre>"
      ],
      "text/plain": [
       "recommendations finished on 64000/219597 queries. users per second: 445.801"
      ]
     },
     "metadata": {},
     "output_type": "display_data"
    },
    {
     "data": {
      "text/html": [
       "<pre>recommendations finished on 65000/219597 queries. users per second: 446.079</pre>"
      ],
      "text/plain": [
       "recommendations finished on 65000/219597 queries. users per second: 446.079"
      ]
     },
     "metadata": {},
     "output_type": "display_data"
    },
    {
     "data": {
      "text/html": [
       "<pre>recommendations finished on 66000/219597 queries. users per second: 446.36</pre>"
      ],
      "text/plain": [
       "recommendations finished on 66000/219597 queries. users per second: 446.36"
      ]
     },
     "metadata": {},
     "output_type": "display_data"
    },
    {
     "data": {
      "text/html": [
       "<pre>recommendations finished on 67000/219597 queries. users per second: 446.622</pre>"
      ],
      "text/plain": [
       "recommendations finished on 67000/219597 queries. users per second: 446.622"
      ]
     },
     "metadata": {},
     "output_type": "display_data"
    },
    {
     "data": {
      "text/html": [
       "<pre>recommendations finished on 68000/219597 queries. users per second: 446.982</pre>"
      ],
      "text/plain": [
       "recommendations finished on 68000/219597 queries. users per second: 446.982"
      ]
     },
     "metadata": {},
     "output_type": "display_data"
    },
    {
     "data": {
      "text/html": [
       "<pre>recommendations finished on 69000/219597 queries. users per second: 447.172</pre>"
      ],
      "text/plain": [
       "recommendations finished on 69000/219597 queries. users per second: 447.172"
      ]
     },
     "metadata": {},
     "output_type": "display_data"
    },
    {
     "data": {
      "text/html": [
       "<pre>recommendations finished on 70000/219597 queries. users per second: 447.464</pre>"
      ],
      "text/plain": [
       "recommendations finished on 70000/219597 queries. users per second: 447.464"
      ]
     },
     "metadata": {},
     "output_type": "display_data"
    },
    {
     "data": {
      "text/html": [
       "<pre>recommendations finished on 71000/219597 queries. users per second: 447.738</pre>"
      ],
      "text/plain": [
       "recommendations finished on 71000/219597 queries. users per second: 447.738"
      ]
     },
     "metadata": {},
     "output_type": "display_data"
    },
    {
     "data": {
      "text/html": [
       "<pre>recommendations finished on 72000/219597 queries. users per second: 447.97</pre>"
      ],
      "text/plain": [
       "recommendations finished on 72000/219597 queries. users per second: 447.97"
      ]
     },
     "metadata": {},
     "output_type": "display_data"
    },
    {
     "data": {
      "text/html": [
       "<pre>recommendations finished on 73000/219597 queries. users per second: 448.258</pre>"
      ],
      "text/plain": [
       "recommendations finished on 73000/219597 queries. users per second: 448.258"
      ]
     },
     "metadata": {},
     "output_type": "display_data"
    },
    {
     "data": {
      "text/html": [
       "<pre>recommendations finished on 74000/219597 queries. users per second: 448.457</pre>"
      ],
      "text/plain": [
       "recommendations finished on 74000/219597 queries. users per second: 448.457"
      ]
     },
     "metadata": {},
     "output_type": "display_data"
    },
    {
     "data": {
      "text/html": [
       "<pre>recommendations finished on 75000/219597 queries. users per second: 448.665</pre>"
      ],
      "text/plain": [
       "recommendations finished on 75000/219597 queries. users per second: 448.665"
      ]
     },
     "metadata": {},
     "output_type": "display_data"
    },
    {
     "data": {
      "text/html": [
       "<pre>recommendations finished on 76000/219597 queries. users per second: 448.706</pre>"
      ],
      "text/plain": [
       "recommendations finished on 76000/219597 queries. users per second: 448.706"
      ]
     },
     "metadata": {},
     "output_type": "display_data"
    },
    {
     "data": {
      "text/html": [
       "<pre>recommendations finished on 77000/219597 queries. users per second: 448.871</pre>"
      ],
      "text/plain": [
       "recommendations finished on 77000/219597 queries. users per second: 448.871"
      ]
     },
     "metadata": {},
     "output_type": "display_data"
    },
    {
     "data": {
      "text/html": [
       "<pre>recommendations finished on 78000/219597 queries. users per second: 449.095</pre>"
      ],
      "text/plain": [
       "recommendations finished on 78000/219597 queries. users per second: 449.095"
      ]
     },
     "metadata": {},
     "output_type": "display_data"
    },
    {
     "data": {
      "text/html": [
       "<pre>recommendations finished on 79000/219597 queries. users per second: 449.083</pre>"
      ],
      "text/plain": [
       "recommendations finished on 79000/219597 queries. users per second: 449.083"
      ]
     },
     "metadata": {},
     "output_type": "display_data"
    },
    {
     "data": {
      "text/html": [
       "<pre>recommendations finished on 80000/219597 queries. users per second: 449.109</pre>"
      ],
      "text/plain": [
       "recommendations finished on 80000/219597 queries. users per second: 449.109"
      ]
     },
     "metadata": {},
     "output_type": "display_data"
    },
    {
     "data": {
      "text/html": [
       "<pre>recommendations finished on 81000/219597 queries. users per second: 448.485</pre>"
      ],
      "text/plain": [
       "recommendations finished on 81000/219597 queries. users per second: 448.485"
      ]
     },
     "metadata": {},
     "output_type": "display_data"
    },
    {
     "data": {
      "text/html": [
       "<pre>recommendations finished on 82000/219597 queries. users per second: 448.189</pre>"
      ],
      "text/plain": [
       "recommendations finished on 82000/219597 queries. users per second: 448.189"
      ]
     },
     "metadata": {},
     "output_type": "display_data"
    },
    {
     "data": {
      "text/html": [
       "<pre>recommendations finished on 83000/219597 queries. users per second: 447.883</pre>"
      ],
      "text/plain": [
       "recommendations finished on 83000/219597 queries. users per second: 447.883"
      ]
     },
     "metadata": {},
     "output_type": "display_data"
    },
    {
     "data": {
      "text/html": [
       "<pre>recommendations finished on 84000/219597 queries. users per second: 447.783</pre>"
      ],
      "text/plain": [
       "recommendations finished on 84000/219597 queries. users per second: 447.783"
      ]
     },
     "metadata": {},
     "output_type": "display_data"
    },
    {
     "data": {
      "text/html": [
       "<pre>recommendations finished on 85000/219597 queries. users per second: 447.83</pre>"
      ],
      "text/plain": [
       "recommendations finished on 85000/219597 queries. users per second: 447.83"
      ]
     },
     "metadata": {},
     "output_type": "display_data"
    },
    {
     "data": {
      "text/html": [
       "<pre>recommendations finished on 86000/219597 queries. users per second: 447.964</pre>"
      ],
      "text/plain": [
       "recommendations finished on 86000/219597 queries. users per second: 447.964"
      ]
     },
     "metadata": {},
     "output_type": "display_data"
    },
    {
     "data": {
      "text/html": [
       "<pre>recommendations finished on 87000/219597 queries. users per second: 448.105</pre>"
      ],
      "text/plain": [
       "recommendations finished on 87000/219597 queries. users per second: 448.105"
      ]
     },
     "metadata": {},
     "output_type": "display_data"
    },
    {
     "data": {
      "text/html": [
       "<pre>recommendations finished on 88000/219597 queries. users per second: 448.375</pre>"
      ],
      "text/plain": [
       "recommendations finished on 88000/219597 queries. users per second: 448.375"
      ]
     },
     "metadata": {},
     "output_type": "display_data"
    },
    {
     "data": {
      "text/html": [
       "<pre>recommendations finished on 89000/219597 queries. users per second: 448.422</pre>"
      ],
      "text/plain": [
       "recommendations finished on 89000/219597 queries. users per second: 448.422"
      ]
     },
     "metadata": {},
     "output_type": "display_data"
    },
    {
     "data": {
      "text/html": [
       "<pre>recommendations finished on 90000/219597 queries. users per second: 448.497</pre>"
      ],
      "text/plain": [
       "recommendations finished on 90000/219597 queries. users per second: 448.497"
      ]
     },
     "metadata": {},
     "output_type": "display_data"
    },
    {
     "data": {
      "text/html": [
       "<pre>recommendations finished on 91000/219597 queries. users per second: 448.636</pre>"
      ],
      "text/plain": [
       "recommendations finished on 91000/219597 queries. users per second: 448.636"
      ]
     },
     "metadata": {},
     "output_type": "display_data"
    },
    {
     "data": {
      "text/html": [
       "<pre>recommendations finished on 92000/219597 queries. users per second: 448.802</pre>"
      ],
      "text/plain": [
       "recommendations finished on 92000/219597 queries. users per second: 448.802"
      ]
     },
     "metadata": {},
     "output_type": "display_data"
    },
    {
     "data": {
      "text/html": [
       "<pre>recommendations finished on 93000/219597 queries. users per second: 448.922</pre>"
      ],
      "text/plain": [
       "recommendations finished on 93000/219597 queries. users per second: 448.922"
      ]
     },
     "metadata": {},
     "output_type": "display_data"
    },
    {
     "data": {
      "text/html": [
       "<pre>recommendations finished on 94000/219597 queries. users per second: 449.006</pre>"
      ],
      "text/plain": [
       "recommendations finished on 94000/219597 queries. users per second: 449.006"
      ]
     },
     "metadata": {},
     "output_type": "display_data"
    },
    {
     "data": {
      "text/html": [
       "<pre>recommendations finished on 95000/219597 queries. users per second: 448.842</pre>"
      ],
      "text/plain": [
       "recommendations finished on 95000/219597 queries. users per second: 448.842"
      ]
     },
     "metadata": {},
     "output_type": "display_data"
    },
    {
     "data": {
      "text/html": [
       "<pre>recommendations finished on 96000/219597 queries. users per second: 448.367</pre>"
      ],
      "text/plain": [
       "recommendations finished on 96000/219597 queries. users per second: 448.367"
      ]
     },
     "metadata": {},
     "output_type": "display_data"
    },
    {
     "data": {
      "text/html": [
       "<pre>recommendations finished on 97000/219597 queries. users per second: 447.596</pre>"
      ],
      "text/plain": [
       "recommendations finished on 97000/219597 queries. users per second: 447.596"
      ]
     },
     "metadata": {},
     "output_type": "display_data"
    },
    {
     "data": {
      "text/html": [
       "<pre>recommendations finished on 98000/219597 queries. users per second: 446.168</pre>"
      ],
      "text/plain": [
       "recommendations finished on 98000/219597 queries. users per second: 446.168"
      ]
     },
     "metadata": {},
     "output_type": "display_data"
    },
    {
     "data": {
      "text/html": [
       "<pre>recommendations finished on 99000/219597 queries. users per second: 445.515</pre>"
      ],
      "text/plain": [
       "recommendations finished on 99000/219597 queries. users per second: 445.515"
      ]
     },
     "metadata": {},
     "output_type": "display_data"
    },
    {
     "data": {
      "text/html": [
       "<pre>recommendations finished on 100000/219597 queries. users per second: 444.628</pre>"
      ],
      "text/plain": [
       "recommendations finished on 100000/219597 queries. users per second: 444.628"
      ]
     },
     "metadata": {},
     "output_type": "display_data"
    },
    {
     "data": {
      "text/html": [
       "<pre>recommendations finished on 101000/219597 queries. users per second: 444.174</pre>"
      ],
      "text/plain": [
       "recommendations finished on 101000/219597 queries. users per second: 444.174"
      ]
     },
     "metadata": {},
     "output_type": "display_data"
    },
    {
     "data": {
      "text/html": [
       "<pre>recommendations finished on 102000/219597 queries. users per second: 444.054</pre>"
      ],
      "text/plain": [
       "recommendations finished on 102000/219597 queries. users per second: 444.054"
      ]
     },
     "metadata": {},
     "output_type": "display_data"
    },
    {
     "data": {
      "text/html": [
       "<pre>recommendations finished on 103000/219597 queries. users per second: 444.288</pre>"
      ],
      "text/plain": [
       "recommendations finished on 103000/219597 queries. users per second: 444.288"
      ]
     },
     "metadata": {},
     "output_type": "display_data"
    },
    {
     "data": {
      "text/html": [
       "<pre>recommendations finished on 104000/219597 queries. users per second: 444.534</pre>"
      ],
      "text/plain": [
       "recommendations finished on 104000/219597 queries. users per second: 444.534"
      ]
     },
     "metadata": {},
     "output_type": "display_data"
    },
    {
     "data": {
      "text/html": [
       "<pre>recommendations finished on 105000/219597 queries. users per second: 444.785</pre>"
      ],
      "text/plain": [
       "recommendations finished on 105000/219597 queries. users per second: 444.785"
      ]
     },
     "metadata": {},
     "output_type": "display_data"
    },
    {
     "data": {
      "text/html": [
       "<pre>recommendations finished on 106000/219597 queries. users per second: 445.106</pre>"
      ],
      "text/plain": [
       "recommendations finished on 106000/219597 queries. users per second: 445.106"
      ]
     },
     "metadata": {},
     "output_type": "display_data"
    },
    {
     "data": {
      "text/html": [
       "<pre>recommendations finished on 107000/219597 queries. users per second: 445.34</pre>"
      ],
      "text/plain": [
       "recommendations finished on 107000/219597 queries. users per second: 445.34"
      ]
     },
     "metadata": {},
     "output_type": "display_data"
    },
    {
     "data": {
      "text/html": [
       "<pre>recommendations finished on 108000/219597 queries. users per second: 445.591</pre>"
      ],
      "text/plain": [
       "recommendations finished on 108000/219597 queries. users per second: 445.591"
      ]
     },
     "metadata": {},
     "output_type": "display_data"
    },
    {
     "data": {
      "text/html": [
       "<pre>recommendations finished on 109000/219597 queries. users per second: 445.753</pre>"
      ],
      "text/plain": [
       "recommendations finished on 109000/219597 queries. users per second: 445.753"
      ]
     },
     "metadata": {},
     "output_type": "display_data"
    },
    {
     "data": {
      "text/html": [
       "<pre>recommendations finished on 110000/219597 queries. users per second: 446.038</pre>"
      ],
      "text/plain": [
       "recommendations finished on 110000/219597 queries. users per second: 446.038"
      ]
     },
     "metadata": {},
     "output_type": "display_data"
    },
    {
     "data": {
      "text/html": [
       "<pre>recommendations finished on 111000/219597 queries. users per second: 446.255</pre>"
      ],
      "text/plain": [
       "recommendations finished on 111000/219597 queries. users per second: 446.255"
      ]
     },
     "metadata": {},
     "output_type": "display_data"
    },
    {
     "data": {
      "text/html": [
       "<pre>recommendations finished on 112000/219597 queries. users per second: 446.481</pre>"
      ],
      "text/plain": [
       "recommendations finished on 112000/219597 queries. users per second: 446.481"
      ]
     },
     "metadata": {},
     "output_type": "display_data"
    },
    {
     "data": {
      "text/html": [
       "<pre>recommendations finished on 113000/219597 queries. users per second: 446.678</pre>"
      ],
      "text/plain": [
       "recommendations finished on 113000/219597 queries. users per second: 446.678"
      ]
     },
     "metadata": {},
     "output_type": "display_data"
    },
    {
     "data": {
      "text/html": [
       "<pre>recommendations finished on 114000/219597 queries. users per second: 446.853</pre>"
      ],
      "text/plain": [
       "recommendations finished on 114000/219597 queries. users per second: 446.853"
      ]
     },
     "metadata": {},
     "output_type": "display_data"
    },
    {
     "data": {
      "text/html": [
       "<pre>recommendations finished on 115000/219597 queries. users per second: 447.082</pre>"
      ],
      "text/plain": [
       "recommendations finished on 115000/219597 queries. users per second: 447.082"
      ]
     },
     "metadata": {},
     "output_type": "display_data"
    },
    {
     "data": {
      "text/html": [
       "<pre>recommendations finished on 116000/219597 queries. users per second: 447.258</pre>"
      ],
      "text/plain": [
       "recommendations finished on 116000/219597 queries. users per second: 447.258"
      ]
     },
     "metadata": {},
     "output_type": "display_data"
    },
    {
     "data": {
      "text/html": [
       "<pre>recommendations finished on 117000/219597 queries. users per second: 447.475</pre>"
      ],
      "text/plain": [
       "recommendations finished on 117000/219597 queries. users per second: 447.475"
      ]
     },
     "metadata": {},
     "output_type": "display_data"
    },
    {
     "data": {
      "text/html": [
       "<pre>recommendations finished on 118000/219597 queries. users per second: 447.682</pre>"
      ],
      "text/plain": [
       "recommendations finished on 118000/219597 queries. users per second: 447.682"
      ]
     },
     "metadata": {},
     "output_type": "display_data"
    },
    {
     "data": {
      "text/html": [
       "<pre>recommendations finished on 119000/219597 queries. users per second: 447.853</pre>"
      ],
      "text/plain": [
       "recommendations finished on 119000/219597 queries. users per second: 447.853"
      ]
     },
     "metadata": {},
     "output_type": "display_data"
    },
    {
     "data": {
      "text/html": [
       "<pre>recommendations finished on 120000/219597 queries. users per second: 447.888</pre>"
      ],
      "text/plain": [
       "recommendations finished on 120000/219597 queries. users per second: 447.888"
      ]
     },
     "metadata": {},
     "output_type": "display_data"
    },
    {
     "data": {
      "text/html": [
       "<pre>recommendations finished on 121000/219597 queries. users per second: 448.108</pre>"
      ],
      "text/plain": [
       "recommendations finished on 121000/219597 queries. users per second: 448.108"
      ]
     },
     "metadata": {},
     "output_type": "display_data"
    },
    {
     "data": {
      "text/html": [
       "<pre>recommendations finished on 122000/219597 queries. users per second: 448.267</pre>"
      ],
      "text/plain": [
       "recommendations finished on 122000/219597 queries. users per second: 448.267"
      ]
     },
     "metadata": {},
     "output_type": "display_data"
    },
    {
     "data": {
      "text/html": [
       "<pre>recommendations finished on 123000/219597 queries. users per second: 448.49</pre>"
      ],
      "text/plain": [
       "recommendations finished on 123000/219597 queries. users per second: 448.49"
      ]
     },
     "metadata": {},
     "output_type": "display_data"
    },
    {
     "data": {
      "text/html": [
       "<pre>recommendations finished on 124000/219597 queries. users per second: 448.655</pre>"
      ],
      "text/plain": [
       "recommendations finished on 124000/219597 queries. users per second: 448.655"
      ]
     },
     "metadata": {},
     "output_type": "display_data"
    },
    {
     "data": {
      "text/html": [
       "<pre>recommendations finished on 125000/219597 queries. users per second: 448.814</pre>"
      ],
      "text/plain": [
       "recommendations finished on 125000/219597 queries. users per second: 448.814"
      ]
     },
     "metadata": {},
     "output_type": "display_data"
    },
    {
     "data": {
      "text/html": [
       "<pre>recommendations finished on 126000/219597 queries. users per second: 448.979</pre>"
      ],
      "text/plain": [
       "recommendations finished on 126000/219597 queries. users per second: 448.979"
      ]
     },
     "metadata": {},
     "output_type": "display_data"
    },
    {
     "data": {
      "text/html": [
       "<pre>recommendations finished on 127000/219597 queries. users per second: 449.134</pre>"
      ],
      "text/plain": [
       "recommendations finished on 127000/219597 queries. users per second: 449.134"
      ]
     },
     "metadata": {},
     "output_type": "display_data"
    },
    {
     "data": {
      "text/html": [
       "<pre>recommendations finished on 128000/219597 queries. users per second: 449.206</pre>"
      ],
      "text/plain": [
       "recommendations finished on 128000/219597 queries. users per second: 449.206"
      ]
     },
     "metadata": {},
     "output_type": "display_data"
    },
    {
     "data": {
      "text/html": [
       "<pre>recommendations finished on 129000/219597 queries. users per second: 449.247</pre>"
      ],
      "text/plain": [
       "recommendations finished on 129000/219597 queries. users per second: 449.247"
      ]
     },
     "metadata": {},
     "output_type": "display_data"
    },
    {
     "data": {
      "text/html": [
       "<pre>recommendations finished on 130000/219597 queries. users per second: 449.286</pre>"
      ],
      "text/plain": [
       "recommendations finished on 130000/219597 queries. users per second: 449.286"
      ]
     },
     "metadata": {},
     "output_type": "display_data"
    },
    {
     "data": {
      "text/html": [
       "<pre>recommendations finished on 131000/219597 queries. users per second: 449.451</pre>"
      ],
      "text/plain": [
       "recommendations finished on 131000/219597 queries. users per second: 449.451"
      ]
     },
     "metadata": {},
     "output_type": "display_data"
    },
    {
     "data": {
      "text/html": [
       "<pre>recommendations finished on 132000/219597 queries. users per second: 449.564</pre>"
      ],
      "text/plain": [
       "recommendations finished on 132000/219597 queries. users per second: 449.564"
      ]
     },
     "metadata": {},
     "output_type": "display_data"
    },
    {
     "data": {
      "text/html": [
       "<pre>recommendations finished on 133000/219597 queries. users per second: 449.727</pre>"
      ],
      "text/plain": [
       "recommendations finished on 133000/219597 queries. users per second: 449.727"
      ]
     },
     "metadata": {},
     "output_type": "display_data"
    },
    {
     "data": {
      "text/html": [
       "<pre>recommendations finished on 134000/219597 queries. users per second: 449.896</pre>"
      ],
      "text/plain": [
       "recommendations finished on 134000/219597 queries. users per second: 449.896"
      ]
     },
     "metadata": {},
     "output_type": "display_data"
    },
    {
     "data": {
      "text/html": [
       "<pre>recommendations finished on 135000/219597 queries. users per second: 450.085</pre>"
      ],
      "text/plain": [
       "recommendations finished on 135000/219597 queries. users per second: 450.085"
      ]
     },
     "metadata": {},
     "output_type": "display_data"
    },
    {
     "data": {
      "text/html": [
       "<pre>recommendations finished on 136000/219597 queries. users per second: 450.217</pre>"
      ],
      "text/plain": [
       "recommendations finished on 136000/219597 queries. users per second: 450.217"
      ]
     },
     "metadata": {},
     "output_type": "display_data"
    },
    {
     "data": {
      "text/html": [
       "<pre>recommendations finished on 137000/219597 queries. users per second: 450.414</pre>"
      ],
      "text/plain": [
       "recommendations finished on 137000/219597 queries. users per second: 450.414"
      ]
     },
     "metadata": {},
     "output_type": "display_data"
    },
    {
     "data": {
      "text/html": [
       "<pre>recommendations finished on 138000/219597 queries. users per second: 450.587</pre>"
      ],
      "text/plain": [
       "recommendations finished on 138000/219597 queries. users per second: 450.587"
      ]
     },
     "metadata": {},
     "output_type": "display_data"
    },
    {
     "data": {
      "text/html": [
       "<pre>recommendations finished on 139000/219597 queries. users per second: 450.705</pre>"
      ],
      "text/plain": [
       "recommendations finished on 139000/219597 queries. users per second: 450.705"
      ]
     },
     "metadata": {},
     "output_type": "display_data"
    },
    {
     "data": {
      "text/html": [
       "<pre>recommendations finished on 140000/219597 queries. users per second: 450.845</pre>"
      ],
      "text/plain": [
       "recommendations finished on 140000/219597 queries. users per second: 450.845"
      ]
     },
     "metadata": {},
     "output_type": "display_data"
    },
    {
     "data": {
      "text/html": [
       "<pre>recommendations finished on 141000/219597 queries. users per second: 450.938</pre>"
      ],
      "text/plain": [
       "recommendations finished on 141000/219597 queries. users per second: 450.938"
      ]
     },
     "metadata": {},
     "output_type": "display_data"
    },
    {
     "data": {
      "text/html": [
       "<pre>recommendations finished on 142000/219597 queries. users per second: 451.107</pre>"
      ],
      "text/plain": [
       "recommendations finished on 142000/219597 queries. users per second: 451.107"
      ]
     },
     "metadata": {},
     "output_type": "display_data"
    },
    {
     "data": {
      "text/html": [
       "<pre>recommendations finished on 143000/219597 queries. users per second: 451.226</pre>"
      ],
      "text/plain": [
       "recommendations finished on 143000/219597 queries. users per second: 451.226"
      ]
     },
     "metadata": {},
     "output_type": "display_data"
    },
    {
     "data": {
      "text/html": [
       "<pre>recommendations finished on 144000/219597 queries. users per second: 451.347</pre>"
      ],
      "text/plain": [
       "recommendations finished on 144000/219597 queries. users per second: 451.347"
      ]
     },
     "metadata": {},
     "output_type": "display_data"
    },
    {
     "data": {
      "text/html": [
       "<pre>recommendations finished on 145000/219597 queries. users per second: 451.46</pre>"
      ],
      "text/plain": [
       "recommendations finished on 145000/219597 queries. users per second: 451.46"
      ]
     },
     "metadata": {},
     "output_type": "display_data"
    },
    {
     "data": {
      "text/html": [
       "<pre>recommendations finished on 146000/219597 queries. users per second: 451.585</pre>"
      ],
      "text/plain": [
       "recommendations finished on 146000/219597 queries. users per second: 451.585"
      ]
     },
     "metadata": {},
     "output_type": "display_data"
    },
    {
     "data": {
      "text/html": [
       "<pre>recommendations finished on 147000/219597 queries. users per second: 451.635</pre>"
      ],
      "text/plain": [
       "recommendations finished on 147000/219597 queries. users per second: 451.635"
      ]
     },
     "metadata": {},
     "output_type": "display_data"
    },
    {
     "data": {
      "text/html": [
       "<pre>recommendations finished on 148000/219597 queries. users per second: 451.76</pre>"
      ],
      "text/plain": [
       "recommendations finished on 148000/219597 queries. users per second: 451.76"
      ]
     },
     "metadata": {},
     "output_type": "display_data"
    },
    {
     "data": {
      "text/html": [
       "<pre>recommendations finished on 149000/219597 queries. users per second: 451.87</pre>"
      ],
      "text/plain": [
       "recommendations finished on 149000/219597 queries. users per second: 451.87"
      ]
     },
     "metadata": {},
     "output_type": "display_data"
    },
    {
     "data": {
      "text/html": [
       "<pre>recommendations finished on 150000/219597 queries. users per second: 451.981</pre>"
      ],
      "text/plain": [
       "recommendations finished on 150000/219597 queries. users per second: 451.981"
      ]
     },
     "metadata": {},
     "output_type": "display_data"
    },
    {
     "data": {
      "text/html": [
       "<pre>recommendations finished on 151000/219597 queries. users per second: 452.023</pre>"
      ],
      "text/plain": [
       "recommendations finished on 151000/219597 queries. users per second: 452.023"
      ]
     },
     "metadata": {},
     "output_type": "display_data"
    },
    {
     "data": {
      "text/html": [
       "<pre>recommendations finished on 152000/219597 queries. users per second: 452.175</pre>"
      ],
      "text/plain": [
       "recommendations finished on 152000/219597 queries. users per second: 452.175"
      ]
     },
     "metadata": {},
     "output_type": "display_data"
    },
    {
     "data": {
      "text/html": [
       "<pre>recommendations finished on 153000/219597 queries. users per second: 452.294</pre>"
      ],
      "text/plain": [
       "recommendations finished on 153000/219597 queries. users per second: 452.294"
      ]
     },
     "metadata": {},
     "output_type": "display_data"
    },
    {
     "data": {
      "text/html": [
       "<pre>recommendations finished on 154000/219597 queries. users per second: 452.386</pre>"
      ],
      "text/plain": [
       "recommendations finished on 154000/219597 queries. users per second: 452.386"
      ]
     },
     "metadata": {},
     "output_type": "display_data"
    },
    {
     "data": {
      "text/html": [
       "<pre>recommendations finished on 155000/219597 queries. users per second: 452.484</pre>"
      ],
      "text/plain": [
       "recommendations finished on 155000/219597 queries. users per second: 452.484"
      ]
     },
     "metadata": {},
     "output_type": "display_data"
    },
    {
     "data": {
      "text/html": [
       "<pre>recommendations finished on 156000/219597 queries. users per second: 452.629</pre>"
      ],
      "text/plain": [
       "recommendations finished on 156000/219597 queries. users per second: 452.629"
      ]
     },
     "metadata": {},
     "output_type": "display_data"
    },
    {
     "data": {
      "text/html": [
       "<pre>recommendations finished on 157000/219597 queries. users per second: 452.772</pre>"
      ],
      "text/plain": [
       "recommendations finished on 157000/219597 queries. users per second: 452.772"
      ]
     },
     "metadata": {},
     "output_type": "display_data"
    },
    {
     "data": {
      "text/html": [
       "<pre>recommendations finished on 158000/219597 queries. users per second: 452.917</pre>"
      ],
      "text/plain": [
       "recommendations finished on 158000/219597 queries. users per second: 452.917"
      ]
     },
     "metadata": {},
     "output_type": "display_data"
    },
    {
     "data": {
      "text/html": [
       "<pre>recommendations finished on 159000/219597 queries. users per second: 452.981</pre>"
      ],
      "text/plain": [
       "recommendations finished on 159000/219597 queries. users per second: 452.981"
      ]
     },
     "metadata": {},
     "output_type": "display_data"
    },
    {
     "data": {
      "text/html": [
       "<pre>recommendations finished on 160000/219597 queries. users per second: 453.064</pre>"
      ],
      "text/plain": [
       "recommendations finished on 160000/219597 queries. users per second: 453.064"
      ]
     },
     "metadata": {},
     "output_type": "display_data"
    },
    {
     "data": {
      "text/html": [
       "<pre>recommendations finished on 161000/219597 queries. users per second: 453.184</pre>"
      ],
      "text/plain": [
       "recommendations finished on 161000/219597 queries. users per second: 453.184"
      ]
     },
     "metadata": {},
     "output_type": "display_data"
    },
    {
     "data": {
      "text/html": [
       "<pre>recommendations finished on 162000/219597 queries. users per second: 453.313</pre>"
      ],
      "text/plain": [
       "recommendations finished on 162000/219597 queries. users per second: 453.313"
      ]
     },
     "metadata": {},
     "output_type": "display_data"
    },
    {
     "data": {
      "text/html": [
       "<pre>recommendations finished on 163000/219597 queries. users per second: 453.408</pre>"
      ],
      "text/plain": [
       "recommendations finished on 163000/219597 queries. users per second: 453.408"
      ]
     },
     "metadata": {},
     "output_type": "display_data"
    },
    {
     "data": {
      "text/html": [
       "<pre>recommendations finished on 164000/219597 queries. users per second: 453.492</pre>"
      ],
      "text/plain": [
       "recommendations finished on 164000/219597 queries. users per second: 453.492"
      ]
     },
     "metadata": {},
     "output_type": "display_data"
    },
    {
     "data": {
      "text/html": [
       "<pre>recommendations finished on 165000/219597 queries. users per second: 453.584</pre>"
      ],
      "text/plain": [
       "recommendations finished on 165000/219597 queries. users per second: 453.584"
      ]
     },
     "metadata": {},
     "output_type": "display_data"
    },
    {
     "data": {
      "text/html": [
       "<pre>recommendations finished on 166000/219597 queries. users per second: 453.633</pre>"
      ],
      "text/plain": [
       "recommendations finished on 166000/219597 queries. users per second: 453.633"
      ]
     },
     "metadata": {},
     "output_type": "display_data"
    },
    {
     "data": {
      "text/html": [
       "<pre>recommendations finished on 167000/219597 queries. users per second: 453.708</pre>"
      ],
      "text/plain": [
       "recommendations finished on 167000/219597 queries. users per second: 453.708"
      ]
     },
     "metadata": {},
     "output_type": "display_data"
    },
    {
     "data": {
      "text/html": [
       "<pre>recommendations finished on 168000/219597 queries. users per second: 453.816</pre>"
      ],
      "text/plain": [
       "recommendations finished on 168000/219597 queries. users per second: 453.816"
      ]
     },
     "metadata": {},
     "output_type": "display_data"
    },
    {
     "data": {
      "text/html": [
       "<pre>recommendations finished on 169000/219597 queries. users per second: 453.912</pre>"
      ],
      "text/plain": [
       "recommendations finished on 169000/219597 queries. users per second: 453.912"
      ]
     },
     "metadata": {},
     "output_type": "display_data"
    },
    {
     "data": {
      "text/html": [
       "<pre>recommendations finished on 170000/219597 queries. users per second: 453.983</pre>"
      ],
      "text/plain": [
       "recommendations finished on 170000/219597 queries. users per second: 453.983"
      ]
     },
     "metadata": {},
     "output_type": "display_data"
    },
    {
     "data": {
      "text/html": [
       "<pre>recommendations finished on 171000/219597 queries. users per second: 454.085</pre>"
      ],
      "text/plain": [
       "recommendations finished on 171000/219597 queries. users per second: 454.085"
      ]
     },
     "metadata": {},
     "output_type": "display_data"
    },
    {
     "data": {
      "text/html": [
       "<pre>recommendations finished on 172000/219597 queries. users per second: 454.197</pre>"
      ],
      "text/plain": [
       "recommendations finished on 172000/219597 queries. users per second: 454.197"
      ]
     },
     "metadata": {},
     "output_type": "display_data"
    },
    {
     "data": {
      "text/html": [
       "<pre>recommendations finished on 173000/219597 queries. users per second: 454.319</pre>"
      ],
      "text/plain": [
       "recommendations finished on 173000/219597 queries. users per second: 454.319"
      ]
     },
     "metadata": {},
     "output_type": "display_data"
    },
    {
     "data": {
      "text/html": [
       "<pre>recommendations finished on 174000/219597 queries. users per second: 454.439</pre>"
      ],
      "text/plain": [
       "recommendations finished on 174000/219597 queries. users per second: 454.439"
      ]
     },
     "metadata": {},
     "output_type": "display_data"
    },
    {
     "data": {
      "text/html": [
       "<pre>recommendations finished on 175000/219597 queries. users per second: 454.56</pre>"
      ],
      "text/plain": [
       "recommendations finished on 175000/219597 queries. users per second: 454.56"
      ]
     },
     "metadata": {},
     "output_type": "display_data"
    },
    {
     "data": {
      "text/html": [
       "<pre>recommendations finished on 176000/219597 queries. users per second: 454.618</pre>"
      ],
      "text/plain": [
       "recommendations finished on 176000/219597 queries. users per second: 454.618"
      ]
     },
     "metadata": {},
     "output_type": "display_data"
    },
    {
     "data": {
      "text/html": [
       "<pre>recommendations finished on 177000/219597 queries. users per second: 454.727</pre>"
      ],
      "text/plain": [
       "recommendations finished on 177000/219597 queries. users per second: 454.727"
      ]
     },
     "metadata": {},
     "output_type": "display_data"
    },
    {
     "data": {
      "text/html": [
       "<pre>recommendations finished on 178000/219597 queries. users per second: 454.831</pre>"
      ],
      "text/plain": [
       "recommendations finished on 178000/219597 queries. users per second: 454.831"
      ]
     },
     "metadata": {},
     "output_type": "display_data"
    },
    {
     "data": {
      "text/html": [
       "<pre>recommendations finished on 179000/219597 queries. users per second: 454.878</pre>"
      ],
      "text/plain": [
       "recommendations finished on 179000/219597 queries. users per second: 454.878"
      ]
     },
     "metadata": {},
     "output_type": "display_data"
    },
    {
     "data": {
      "text/html": [
       "<pre>recommendations finished on 180000/219597 queries. users per second: 454.958</pre>"
      ],
      "text/plain": [
       "recommendations finished on 180000/219597 queries. users per second: 454.958"
      ]
     },
     "metadata": {},
     "output_type": "display_data"
    },
    {
     "data": {
      "text/html": [
       "<pre>recommendations finished on 181000/219597 queries. users per second: 455.037</pre>"
      ],
      "text/plain": [
       "recommendations finished on 181000/219597 queries. users per second: 455.037"
      ]
     },
     "metadata": {},
     "output_type": "display_data"
    },
    {
     "data": {
      "text/html": [
       "<pre>recommendations finished on 182000/219597 queries. users per second: 455.12</pre>"
      ],
      "text/plain": [
       "recommendations finished on 182000/219597 queries. users per second: 455.12"
      ]
     },
     "metadata": {},
     "output_type": "display_data"
    },
    {
     "data": {
      "text/html": [
       "<pre>recommendations finished on 183000/219597 queries. users per second: 455.179</pre>"
      ],
      "text/plain": [
       "recommendations finished on 183000/219597 queries. users per second: 455.179"
      ]
     },
     "metadata": {},
     "output_type": "display_data"
    },
    {
     "data": {
      "text/html": [
       "<pre>recommendations finished on 184000/219597 queries. users per second: 455.195</pre>"
      ],
      "text/plain": [
       "recommendations finished on 184000/219597 queries. users per second: 455.195"
      ]
     },
     "metadata": {},
     "output_type": "display_data"
    },
    {
     "data": {
      "text/html": [
       "<pre>recommendations finished on 185000/219597 queries. users per second: 455.257</pre>"
      ],
      "text/plain": [
       "recommendations finished on 185000/219597 queries. users per second: 455.257"
      ]
     },
     "metadata": {},
     "output_type": "display_data"
    },
    {
     "data": {
      "text/html": [
       "<pre>recommendations finished on 186000/219597 queries. users per second: 455.35</pre>"
      ],
      "text/plain": [
       "recommendations finished on 186000/219597 queries. users per second: 455.35"
      ]
     },
     "metadata": {},
     "output_type": "display_data"
    },
    {
     "data": {
      "text/html": [
       "<pre>recommendations finished on 187000/219597 queries. users per second: 455.397</pre>"
      ],
      "text/plain": [
       "recommendations finished on 187000/219597 queries. users per second: 455.397"
      ]
     },
     "metadata": {},
     "output_type": "display_data"
    },
    {
     "data": {
      "text/html": [
       "<pre>recommendations finished on 188000/219597 queries. users per second: 455.426</pre>"
      ],
      "text/plain": [
       "recommendations finished on 188000/219597 queries. users per second: 455.426"
      ]
     },
     "metadata": {},
     "output_type": "display_data"
    },
    {
     "data": {
      "text/html": [
       "<pre>recommendations finished on 189000/219597 queries. users per second: 455.442</pre>"
      ],
      "text/plain": [
       "recommendations finished on 189000/219597 queries. users per second: 455.442"
      ]
     },
     "metadata": {},
     "output_type": "display_data"
    },
    {
     "data": {
      "text/html": [
       "<pre>recommendations finished on 190000/219597 queries. users per second: 455.531</pre>"
      ],
      "text/plain": [
       "recommendations finished on 190000/219597 queries. users per second: 455.531"
      ]
     },
     "metadata": {},
     "output_type": "display_data"
    },
    {
     "data": {
      "text/html": [
       "<pre>recommendations finished on 191000/219597 queries. users per second: 455.617</pre>"
      ],
      "text/plain": [
       "recommendations finished on 191000/219597 queries. users per second: 455.617"
      ]
     },
     "metadata": {},
     "output_type": "display_data"
    },
    {
     "data": {
      "text/html": [
       "<pre>recommendations finished on 192000/219597 queries. users per second: 455.669</pre>"
      ],
      "text/plain": [
       "recommendations finished on 192000/219597 queries. users per second: 455.669"
      ]
     },
     "metadata": {},
     "output_type": "display_data"
    },
    {
     "data": {
      "text/html": [
       "<pre>recommendations finished on 193000/219597 queries. users per second: 455.73</pre>"
      ],
      "text/plain": [
       "recommendations finished on 193000/219597 queries. users per second: 455.73"
      ]
     },
     "metadata": {},
     "output_type": "display_data"
    },
    {
     "data": {
      "text/html": [
       "<pre>recommendations finished on 194000/219597 queries. users per second: 455.819</pre>"
      ],
      "text/plain": [
       "recommendations finished on 194000/219597 queries. users per second: 455.819"
      ]
     },
     "metadata": {},
     "output_type": "display_data"
    },
    {
     "data": {
      "text/html": [
       "<pre>recommendations finished on 195000/219597 queries. users per second: 455.9</pre>"
      ],
      "text/plain": [
       "recommendations finished on 195000/219597 queries. users per second: 455.9"
      ]
     },
     "metadata": {},
     "output_type": "display_data"
    },
    {
     "data": {
      "text/html": [
       "<pre>recommendations finished on 196000/219597 queries. users per second: 456.005</pre>"
      ],
      "text/plain": [
       "recommendations finished on 196000/219597 queries. users per second: 456.005"
      ]
     },
     "metadata": {},
     "output_type": "display_data"
    },
    {
     "data": {
      "text/html": [
       "<pre>recommendations finished on 197000/219597 queries. users per second: 456.089</pre>"
      ],
      "text/plain": [
       "recommendations finished on 197000/219597 queries. users per second: 456.089"
      ]
     },
     "metadata": {},
     "output_type": "display_data"
    },
    {
     "data": {
      "text/html": [
       "<pre>recommendations finished on 198000/219597 queries. users per second: 456.143</pre>"
      ],
      "text/plain": [
       "recommendations finished on 198000/219597 queries. users per second: 456.143"
      ]
     },
     "metadata": {},
     "output_type": "display_data"
    },
    {
     "data": {
      "text/html": [
       "<pre>recommendations finished on 199000/219597 queries. users per second: 456.221</pre>"
      ],
      "text/plain": [
       "recommendations finished on 199000/219597 queries. users per second: 456.221"
      ]
     },
     "metadata": {},
     "output_type": "display_data"
    },
    {
     "data": {
      "text/html": [
       "<pre>recommendations finished on 200000/219597 queries. users per second: 456.263</pre>"
      ],
      "text/plain": [
       "recommendations finished on 200000/219597 queries. users per second: 456.263"
      ]
     },
     "metadata": {},
     "output_type": "display_data"
    },
    {
     "data": {
      "text/html": [
       "<pre>recommendations finished on 201000/219597 queries. users per second: 456.338</pre>"
      ],
      "text/plain": [
       "recommendations finished on 201000/219597 queries. users per second: 456.338"
      ]
     },
     "metadata": {},
     "output_type": "display_data"
    },
    {
     "data": {
      "text/html": [
       "<pre>recommendations finished on 202000/219597 queries. users per second: 456.399</pre>"
      ],
      "text/plain": [
       "recommendations finished on 202000/219597 queries. users per second: 456.399"
      ]
     },
     "metadata": {},
     "output_type": "display_data"
    },
    {
     "data": {
      "text/html": [
       "<pre>recommendations finished on 203000/219597 queries. users per second: 456.412</pre>"
      ],
      "text/plain": [
       "recommendations finished on 203000/219597 queries. users per second: 456.412"
      ]
     },
     "metadata": {},
     "output_type": "display_data"
    },
    {
     "data": {
      "text/html": [
       "<pre>recommendations finished on 204000/219597 queries. users per second: 456.485</pre>"
      ],
      "text/plain": [
       "recommendations finished on 204000/219597 queries. users per second: 456.485"
      ]
     },
     "metadata": {},
     "output_type": "display_data"
    },
    {
     "data": {
      "text/html": [
       "<pre>recommendations finished on 205000/219597 queries. users per second: 456.529</pre>"
      ],
      "text/plain": [
       "recommendations finished on 205000/219597 queries. users per second: 456.529"
      ]
     },
     "metadata": {},
     "output_type": "display_data"
    },
    {
     "data": {
      "text/html": [
       "<pre>recommendations finished on 206000/219597 queries. users per second: 456.584</pre>"
      ],
      "text/plain": [
       "recommendations finished on 206000/219597 queries. users per second: 456.584"
      ]
     },
     "metadata": {},
     "output_type": "display_data"
    },
    {
     "data": {
      "text/html": [
       "<pre>recommendations finished on 207000/219597 queries. users per second: 456.609</pre>"
      ],
      "text/plain": [
       "recommendations finished on 207000/219597 queries. users per second: 456.609"
      ]
     },
     "metadata": {},
     "output_type": "display_data"
    },
    {
     "data": {
      "text/html": [
       "<pre>recommendations finished on 208000/219597 queries. users per second: 456.637</pre>"
      ],
      "text/plain": [
       "recommendations finished on 208000/219597 queries. users per second: 456.637"
      ]
     },
     "metadata": {},
     "output_type": "display_data"
    },
    {
     "data": {
      "text/html": [
       "<pre>recommendations finished on 209000/219597 queries. users per second: 456.702</pre>"
      ],
      "text/plain": [
       "recommendations finished on 209000/219597 queries. users per second: 456.702"
      ]
     },
     "metadata": {},
     "output_type": "display_data"
    },
    {
     "data": {
      "text/html": [
       "<pre>recommendations finished on 210000/219597 queries. users per second: 456.759</pre>"
      ],
      "text/plain": [
       "recommendations finished on 210000/219597 queries. users per second: 456.759"
      ]
     },
     "metadata": {},
     "output_type": "display_data"
    },
    {
     "data": {
      "text/html": [
       "<pre>recommendations finished on 211000/219597 queries. users per second: 456.822</pre>"
      ],
      "text/plain": [
       "recommendations finished on 211000/219597 queries. users per second: 456.822"
      ]
     },
     "metadata": {},
     "output_type": "display_data"
    },
    {
     "data": {
      "text/html": [
       "<pre>recommendations finished on 212000/219597 queries. users per second: 456.877</pre>"
      ],
      "text/plain": [
       "recommendations finished on 212000/219597 queries. users per second: 456.877"
      ]
     },
     "metadata": {},
     "output_type": "display_data"
    },
    {
     "data": {
      "text/html": [
       "<pre>recommendations finished on 213000/219597 queries. users per second: 456.921</pre>"
      ],
      "text/plain": [
       "recommendations finished on 213000/219597 queries. users per second: 456.921"
      ]
     },
     "metadata": {},
     "output_type": "display_data"
    },
    {
     "data": {
      "text/html": [
       "<pre>recommendations finished on 214000/219597 queries. users per second: 456.998</pre>"
      ],
      "text/plain": [
       "recommendations finished on 214000/219597 queries. users per second: 456.998"
      ]
     },
     "metadata": {},
     "output_type": "display_data"
    },
    {
     "data": {
      "text/html": [
       "<pre>recommendations finished on 215000/219597 queries. users per second: 457.082</pre>"
      ],
      "text/plain": [
       "recommendations finished on 215000/219597 queries. users per second: 457.082"
      ]
     },
     "metadata": {},
     "output_type": "display_data"
    },
    {
     "data": {
      "text/html": [
       "<pre>recommendations finished on 216000/219597 queries. users per second: 457.169</pre>"
      ],
      "text/plain": [
       "recommendations finished on 216000/219597 queries. users per second: 457.169"
      ]
     },
     "metadata": {},
     "output_type": "display_data"
    },
    {
     "data": {
      "text/html": [
       "<pre>recommendations finished on 217000/219597 queries. users per second: 457.224</pre>"
      ],
      "text/plain": [
       "recommendations finished on 217000/219597 queries. users per second: 457.224"
      ]
     },
     "metadata": {},
     "output_type": "display_data"
    },
    {
     "data": {
      "text/html": [
       "<pre>recommendations finished on 218000/219597 queries. users per second: 457.28</pre>"
      ],
      "text/plain": [
       "recommendations finished on 218000/219597 queries. users per second: 457.28"
      ]
     },
     "metadata": {},
     "output_type": "display_data"
    },
    {
     "data": {
      "text/html": [
       "<pre>recommendations finished on 219000/219597 queries. users per second: 457.34</pre>"
      ],
      "text/plain": [
       "recommendations finished on 219000/219597 queries. users per second: 457.34"
      ]
     },
     "metadata": {},
     "output_type": "display_data"
    },
    {
     "name": "stdout",
     "output_type": "stream",
     "text": [
      "\n",
      "Precision and recall summary statistics by cutoff\n",
      "+--------+----------------+-------------+\n",
      "| cutoff | mean_precision | mean_recall |\n",
      "+--------+----------------+-------------+\n",
      "|   1    |      0.0       |     0.0     |\n",
      "|   2    |      0.0       |     0.0     |\n",
      "|   3    |      0.0       |     0.0     |\n",
      "|   4    |      0.0       |     0.0     |\n",
      "|   5    |      0.0       |     0.0     |\n",
      "|   6    |      0.0       |     0.0     |\n",
      "|   7    |      0.0       |     0.0     |\n",
      "|   8    |      0.0       |     0.0     |\n",
      "|   9    |      0.0       |     0.0     |\n",
      "|   10   |      0.0       |     0.0     |\n",
      "+--------+----------------+-------------+\n",
      "[10 rows x 3 columns]\n",
      "\n"
     ]
    },
    {
     "data": {
      "text/html": [
       "<pre>Finished prediction in 0.250013s</pre>"
      ],
      "text/plain": [
       "Finished prediction in 0.250013s"
      ]
     },
     "metadata": {},
     "output_type": "display_data"
    },
    {
     "name": "stdout",
     "output_type": "stream",
     "text": [
      "('\\nOverall RMSE: ', 0.9436548346408716)\n",
      "\n",
      "Per User RMSE (best)\n",
      "+---------------+-------+------+\n",
      "|     UserId    | count | rmse |\n",
      "+---------------+-------+------+\n",
      "| ABOYH7FKD9THJ |   1   | 0.0  |\n",
      "+---------------+-------+------+\n",
      "[1 rows x 3 columns]\n",
      "\n",
      "\n",
      "Per User RMSE (worst)\n",
      "+----------------+-------+------+\n",
      "|     UserId     | count | rmse |\n",
      "+----------------+-------+------+\n",
      "| A3I3051BZDJWGU |   2   | 4.0  |\n",
      "+----------------+-------+------+\n",
      "[1 rows x 3 columns]\n",
      "\n",
      "\n",
      "Per Item RMSE (best)\n",
      "+------------+-------+------+\n",
      "| ProductId  | count | rmse |\n",
      "+------------+-------+------+\n",
      "| B001E0VNAQ |   1   | 0.0  |\n",
      "+------------+-------+------+\n",
      "[1 rows x 3 columns]\n",
      "\n",
      "\n",
      "Per Item RMSE (worst)\n",
      "+------------+-------+------+\n",
      "| ProductId  | count | rmse |\n",
      "+------------+-------+------+\n",
      "| B003WO0H04 |   1   | 4.0  |\n",
      "+------------+-------+------+\n",
      "[1 rows x 3 columns]\n",
      "\n"
     ]
    },
    {
     "data": {
      "text/plain": [
       "{'precision_recall_by_user': Columns:\n",
       " \tUserId\tstr\n",
       " \tcutoff\tint\n",
       " \tprecision\tfloat\n",
       " \trecall\tfloat\n",
       " \tcount\tint\n",
       " \n",
       " Rows: 3952746\n",
       " \n",
       " Data:\n",
       " +--------------------+--------+-----------+--------+-------+\n",
       " |       UserId       | cutoff | precision | recall | count |\n",
       " +--------------------+--------+-----------+--------+-------+\n",
       " | #oc-R109MU5OBBZ59U |   1    |    0.0    |  0.0   |   1   |\n",
       " | #oc-R109MU5OBBZ59U |   2    |    0.0    |  0.0   |   1   |\n",
       " | #oc-R109MU5OBBZ59U |   3    |    0.0    |  0.0   |   1   |\n",
       " | #oc-R109MU5OBBZ59U |   4    |    0.0    |  0.0   |   1   |\n",
       " | #oc-R109MU5OBBZ59U |   5    |    0.0    |  0.0   |   1   |\n",
       " | #oc-R109MU5OBBZ59U |   6    |    0.0    |  0.0   |   1   |\n",
       " | #oc-R109MU5OBBZ59U |   7    |    0.0    |  0.0   |   1   |\n",
       " | #oc-R109MU5OBBZ59U |   8    |    0.0    |  0.0   |   1   |\n",
       " | #oc-R109MU5OBBZ59U |   9    |    0.0    |  0.0   |   1   |\n",
       " | #oc-R109MU5OBBZ59U |   10   |    0.0    |  0.0   |   1   |\n",
       " +--------------------+--------+-----------+--------+-------+\n",
       " [3952746 rows x 5 columns]\n",
       " Note: Only the head of the SFrame is printed.\n",
       " You can use print_rows(num_rows=m, num_columns=n) to print more rows and columns.,\n",
       " 'precision_recall_overall': Columns:\n",
       " \tcutoff\tint\n",
       " \tprecision\tfloat\n",
       " \trecall\tfloat\n",
       " \n",
       " Rows: 18\n",
       " \n",
       " Data:\n",
       " +--------+-----------+--------+\n",
       " | cutoff | precision | recall |\n",
       " +--------+-----------+--------+\n",
       " |   1    |    0.0    |  0.0   |\n",
       " |   2    |    0.0    |  0.0   |\n",
       " |   3    |    0.0    |  0.0   |\n",
       " |   4    |    0.0    |  0.0   |\n",
       " |   5    |    0.0    |  0.0   |\n",
       " |   6    |    0.0    |  0.0   |\n",
       " |   7    |    0.0    |  0.0   |\n",
       " |   8    |    0.0    |  0.0   |\n",
       " |   9    |    0.0    |  0.0   |\n",
       " |   10   |    0.0    |  0.0   |\n",
       " +--------+-----------+--------+\n",
       " [18 rows x 3 columns]\n",
       " Note: Only the head of the SFrame is printed.\n",
       " You can use print_rows(num_rows=m, num_columns=n) to print more rows and columns.,\n",
       " 'rmse_by_item': Columns:\n",
       " \tProductId\tstr\n",
       " \tcount\tint\n",
       " \trmse\tfloat\n",
       " \n",
       " Rows: 67727\n",
       " \n",
       " Data:\n",
       " +------------+-------+-----------------+\n",
       " | ProductId  | count |       rmse      |\n",
       " +------------+-------+-----------------+\n",
       " | B000QWXG9O |   1   |  0.693586595558 |\n",
       " | B003SBU3W8 |   1   |       0.0       |\n",
       " | B000BMG7DQ |   1   |       0.0       |\n",
       " | B001I8BOJO |   1   |       0.0       |\n",
       " | B0029JW9JU |   18  | 0.0908006776471 |\n",
       " | B001TM2A5G |   1   | 8.881784197e-16 |\n",
       " | B0018AD65M |   2   |       1.0       |\n",
       " | B000UX3BGC |   1   |  1.10989202291  |\n",
       " | B0060L1DPE |   2   | 0.0575579102207 |\n",
       " | B0041SI8H4 |   2   |       0.0       |\n",
       " +------------+-------+-----------------+\n",
       " [67727 rows x 3 columns]\n",
       " Note: Only the head of the SFrame is printed.\n",
       " You can use print_rows(num_rows=m, num_columns=n) to print more rows and columns.,\n",
       " 'rmse_by_user': Columns:\n",
       " \tUserId\tstr\n",
       " \tcount\tint\n",
       " \trmse\tfloat\n",
       " \n",
       " Rows: 219597\n",
       " \n",
       " Data:\n",
       " +----------------+-------+----------------+\n",
       " |     UserId     | count |      rmse      |\n",
       " +----------------+-------+----------------+\n",
       " | AK7TCHH4EL8PD  |   1   | 2.33333333333  |\n",
       " | A3R9U5IIDBBYR  |   2   |      0.0       |\n",
       " | A2FSHBZ1IGLIU0 |   1   |      0.0       |\n",
       " | A292DWAJ6DT8GQ |   1   | 0.328767123288 |\n",
       " | A3QJS6UKP4KR4Q |   1   | 1.53333333333  |\n",
       " | A38WC5TI1682XF |   1   |      0.0       |\n",
       " | A1H3V3NZ7R8D5N |   1   | 2.37037037037  |\n",
       " | A2O2B3AALBP6G2 |   1   | 0.333333333333 |\n",
       " | A1QPY1WRA6CYM  |   1   | 1.67317073171  |\n",
       " | A2WR0SLXH847YJ |   1   | 0.428571428571 |\n",
       " +----------------+-------+----------------+\n",
       " [219597 rows x 3 columns]\n",
       " Note: Only the head of the SFrame is printed.\n",
       " You can use print_rows(num_rows=m, num_columns=n) to print more rows and columns.,\n",
       " 'rmse_overall': 0.9436548346408716}"
      ]
     },
     "execution_count": 12,
     "metadata": {},
     "output_type": "execute_result"
    }
   ],
   "source": [
    "model1.evaluate(training_set)"
   ]
  },
  {
   "cell_type": "markdown",
   "metadata": {},
   "source": [
    "### Evaluation on the test set"
   ]
  },
  {
   "cell_type": "code",
   "execution_count": 11,
   "metadata": {
    "collapsed": false
   },
   "outputs": [
    {
     "data": {
      "text/html": [
       "<pre>recommendations finished on 1000/79014 queries. users per second: 521.061</pre>"
      ],
      "text/plain": [
       "recommendations finished on 1000/79014 queries. users per second: 521.061"
      ]
     },
     "metadata": {},
     "output_type": "display_data"
    },
    {
     "data": {
      "text/html": [
       "<pre>recommendations finished on 2000/79014 queries. users per second: 525.972</pre>"
      ],
      "text/plain": [
       "recommendations finished on 2000/79014 queries. users per second: 525.972"
      ]
     },
     "metadata": {},
     "output_type": "display_data"
    },
    {
     "data": {
      "text/html": [
       "<pre>recommendations finished on 3000/79014 queries. users per second: 531.311</pre>"
      ],
      "text/plain": [
       "recommendations finished on 3000/79014 queries. users per second: 531.311"
      ]
     },
     "metadata": {},
     "output_type": "display_data"
    },
    {
     "data": {
      "text/html": [
       "<pre>recommendations finished on 4000/79014 queries. users per second: 537.948</pre>"
      ],
      "text/plain": [
       "recommendations finished on 4000/79014 queries. users per second: 537.948"
      ]
     },
     "metadata": {},
     "output_type": "display_data"
    },
    {
     "data": {
      "text/html": [
       "<pre>recommendations finished on 5000/79014 queries. users per second: 537.675</pre>"
      ],
      "text/plain": [
       "recommendations finished on 5000/79014 queries. users per second: 537.675"
      ]
     },
     "metadata": {},
     "output_type": "display_data"
    },
    {
     "data": {
      "text/html": [
       "<pre>recommendations finished on 6000/79014 queries. users per second: 535.911</pre>"
      ],
      "text/plain": [
       "recommendations finished on 6000/79014 queries. users per second: 535.911"
      ]
     },
     "metadata": {},
     "output_type": "display_data"
    },
    {
     "data": {
      "text/html": [
       "<pre>recommendations finished on 7000/79014 queries. users per second: 538.867</pre>"
      ],
      "text/plain": [
       "recommendations finished on 7000/79014 queries. users per second: 538.867"
      ]
     },
     "metadata": {},
     "output_type": "display_data"
    },
    {
     "data": {
      "text/html": [
       "<pre>recommendations finished on 8000/79014 queries. users per second: 535.761</pre>"
      ],
      "text/plain": [
       "recommendations finished on 8000/79014 queries. users per second: 535.761"
      ]
     },
     "metadata": {},
     "output_type": "display_data"
    },
    {
     "data": {
      "text/html": [
       "<pre>recommendations finished on 9000/79014 queries. users per second: 535.502</pre>"
      ],
      "text/plain": [
       "recommendations finished on 9000/79014 queries. users per second: 535.502"
      ]
     },
     "metadata": {},
     "output_type": "display_data"
    },
    {
     "data": {
      "text/html": [
       "<pre>recommendations finished on 10000/79014 queries. users per second: 537.866</pre>"
      ],
      "text/plain": [
       "recommendations finished on 10000/79014 queries. users per second: 537.866"
      ]
     },
     "metadata": {},
     "output_type": "display_data"
    },
    {
     "data": {
      "text/html": [
       "<pre>recommendations finished on 11000/79014 queries. users per second: 540.185</pre>"
      ],
      "text/plain": [
       "recommendations finished on 11000/79014 queries. users per second: 540.185"
      ]
     },
     "metadata": {},
     "output_type": "display_data"
    },
    {
     "data": {
      "text/html": [
       "<pre>recommendations finished on 12000/79014 queries. users per second: 541.26</pre>"
      ],
      "text/plain": [
       "recommendations finished on 12000/79014 queries. users per second: 541.26"
      ]
     },
     "metadata": {},
     "output_type": "display_data"
    },
    {
     "data": {
      "text/html": [
       "<pre>recommendations finished on 13000/79014 queries. users per second: 542.694</pre>"
      ],
      "text/plain": [
       "recommendations finished on 13000/79014 queries. users per second: 542.694"
      ]
     },
     "metadata": {},
     "output_type": "display_data"
    },
    {
     "data": {
      "text/html": [
       "<pre>recommendations finished on 14000/79014 queries. users per second: 544.014</pre>"
      ],
      "text/plain": [
       "recommendations finished on 14000/79014 queries. users per second: 544.014"
      ]
     },
     "metadata": {},
     "output_type": "display_data"
    },
    {
     "data": {
      "text/html": [
       "<pre>recommendations finished on 15000/79014 queries. users per second: 544.445</pre>"
      ],
      "text/plain": [
       "recommendations finished on 15000/79014 queries. users per second: 544.445"
      ]
     },
     "metadata": {},
     "output_type": "display_data"
    },
    {
     "data": {
      "text/html": [
       "<pre>recommendations finished on 16000/79014 queries. users per second: 545.27</pre>"
      ],
      "text/plain": [
       "recommendations finished on 16000/79014 queries. users per second: 545.27"
      ]
     },
     "metadata": {},
     "output_type": "display_data"
    },
    {
     "data": {
      "text/html": [
       "<pre>recommendations finished on 17000/79014 queries. users per second: 546.691</pre>"
      ],
      "text/plain": [
       "recommendations finished on 17000/79014 queries. users per second: 546.691"
      ]
     },
     "metadata": {},
     "output_type": "display_data"
    },
    {
     "data": {
      "text/html": [
       "<pre>recommendations finished on 18000/79014 queries. users per second: 547.697</pre>"
      ],
      "text/plain": [
       "recommendations finished on 18000/79014 queries. users per second: 547.697"
      ]
     },
     "metadata": {},
     "output_type": "display_data"
    },
    {
     "data": {
      "text/html": [
       "<pre>recommendations finished on 19000/79014 queries. users per second: 548.808</pre>"
      ],
      "text/plain": [
       "recommendations finished on 19000/79014 queries. users per second: 548.808"
      ]
     },
     "metadata": {},
     "output_type": "display_data"
    },
    {
     "data": {
      "text/html": [
       "<pre>recommendations finished on 20000/79014 queries. users per second: 549.722</pre>"
      ],
      "text/plain": [
       "recommendations finished on 20000/79014 queries. users per second: 549.722"
      ]
     },
     "metadata": {},
     "output_type": "display_data"
    },
    {
     "data": {
      "text/html": [
       "<pre>recommendations finished on 21000/79014 queries. users per second: 550.93</pre>"
      ],
      "text/plain": [
       "recommendations finished on 21000/79014 queries. users per second: 550.93"
      ]
     },
     "metadata": {},
     "output_type": "display_data"
    },
    {
     "data": {
      "text/html": [
       "<pre>recommendations finished on 22000/79014 queries. users per second: 550.93</pre>"
      ],
      "text/plain": [
       "recommendations finished on 22000/79014 queries. users per second: 550.93"
      ]
     },
     "metadata": {},
     "output_type": "display_data"
    },
    {
     "data": {
      "text/html": [
       "<pre>recommendations finished on 23000/79014 queries. users per second: 551.454</pre>"
      ],
      "text/plain": [
       "recommendations finished on 23000/79014 queries. users per second: 551.454"
      ]
     },
     "metadata": {},
     "output_type": "display_data"
    },
    {
     "data": {
      "text/html": [
       "<pre>recommendations finished on 24000/79014 queries. users per second: 552.262</pre>"
      ],
      "text/plain": [
       "recommendations finished on 24000/79014 queries. users per second: 552.262"
      ]
     },
     "metadata": {},
     "output_type": "display_data"
    },
    {
     "data": {
      "text/html": [
       "<pre>recommendations finished on 25000/79014 queries. users per second: 552.504</pre>"
      ],
      "text/plain": [
       "recommendations finished on 25000/79014 queries. users per second: 552.504"
      ]
     },
     "metadata": {},
     "output_type": "display_data"
    },
    {
     "data": {
      "text/html": [
       "<pre>recommendations finished on 26000/79014 queries. users per second: 552.372</pre>"
      ],
      "text/plain": [
       "recommendations finished on 26000/79014 queries. users per second: 552.372"
      ]
     },
     "metadata": {},
     "output_type": "display_data"
    },
    {
     "data": {
      "text/html": [
       "<pre>recommendations finished on 27000/79014 queries. users per second: 552.758</pre>"
      ],
      "text/plain": [
       "recommendations finished on 27000/79014 queries. users per second: 552.758"
      ]
     },
     "metadata": {},
     "output_type": "display_data"
    },
    {
     "data": {
      "text/html": [
       "<pre>recommendations finished on 28000/79014 queries. users per second: 553.189</pre>"
      ],
      "text/plain": [
       "recommendations finished on 28000/79014 queries. users per second: 553.189"
      ]
     },
     "metadata": {},
     "output_type": "display_data"
    },
    {
     "data": {
      "text/html": [
       "<pre>recommendations finished on 29000/79014 queries. users per second: 553.856</pre>"
      ],
      "text/plain": [
       "recommendations finished on 29000/79014 queries. users per second: 553.856"
      ]
     },
     "metadata": {},
     "output_type": "display_data"
    },
    {
     "data": {
      "text/html": [
       "<pre>recommendations finished on 30000/79014 queries. users per second: 554.294</pre>"
      ],
      "text/plain": [
       "recommendations finished on 30000/79014 queries. users per second: 554.294"
      ]
     },
     "metadata": {},
     "output_type": "display_data"
    },
    {
     "data": {
      "text/html": [
       "<pre>recommendations finished on 31000/79014 queries. users per second: 554.599</pre>"
      ],
      "text/plain": [
       "recommendations finished on 31000/79014 queries. users per second: 554.599"
      ]
     },
     "metadata": {},
     "output_type": "display_data"
    },
    {
     "data": {
      "text/html": [
       "<pre>recommendations finished on 32000/79014 queries. users per second: 554.798</pre>"
      ],
      "text/plain": [
       "recommendations finished on 32000/79014 queries. users per second: 554.798"
      ]
     },
     "metadata": {},
     "output_type": "display_data"
    },
    {
     "data": {
      "text/html": [
       "<pre>recommendations finished on 33000/79014 queries. users per second: 554.664</pre>"
      ],
      "text/plain": [
       "recommendations finished on 33000/79014 queries. users per second: 554.664"
      ]
     },
     "metadata": {},
     "output_type": "display_data"
    },
    {
     "data": {
      "text/html": [
       "<pre>recommendations finished on 34000/79014 queries. users per second: 554.86</pre>"
      ],
      "text/plain": [
       "recommendations finished on 34000/79014 queries. users per second: 554.86"
      ]
     },
     "metadata": {},
     "output_type": "display_data"
    },
    {
     "data": {
      "text/html": [
       "<pre>recommendations finished on 35000/79014 queries. users per second: 555.192</pre>"
      ],
      "text/plain": [
       "recommendations finished on 35000/79014 queries. users per second: 555.192"
      ]
     },
     "metadata": {},
     "output_type": "display_data"
    },
    {
     "data": {
      "text/html": [
       "<pre>recommendations finished on 36000/79014 queries. users per second: 555.259</pre>"
      ],
      "text/plain": [
       "recommendations finished on 36000/79014 queries. users per second: 555.259"
      ]
     },
     "metadata": {},
     "output_type": "display_data"
    },
    {
     "data": {
      "text/html": [
       "<pre>recommendations finished on 37000/79014 queries. users per second: 555.402</pre>"
      ],
      "text/plain": [
       "recommendations finished on 37000/79014 queries. users per second: 555.402"
      ]
     },
     "metadata": {},
     "output_type": "display_data"
    },
    {
     "data": {
      "text/html": [
       "<pre>recommendations finished on 38000/79014 queries. users per second: 555.325</pre>"
      ],
      "text/plain": [
       "recommendations finished on 38000/79014 queries. users per second: 555.325"
      ]
     },
     "metadata": {},
     "output_type": "display_data"
    },
    {
     "data": {
      "text/html": [
       "<pre>recommendations finished on 39000/79014 queries. users per second: 554.815</pre>"
      ],
      "text/plain": [
       "recommendations finished on 39000/79014 queries. users per second: 554.815"
      ]
     },
     "metadata": {},
     "output_type": "display_data"
    },
    {
     "data": {
      "text/html": [
       "<pre>recommendations finished on 40000/79014 queries. users per second: 554.728</pre>"
      ],
      "text/plain": [
       "recommendations finished on 40000/79014 queries. users per second: 554.728"
      ]
     },
     "metadata": {},
     "output_type": "display_data"
    },
    {
     "data": {
      "text/html": [
       "<pre>recommendations finished on 41000/79014 queries. users per second: 554.28</pre>"
      ],
      "text/plain": [
       "recommendations finished on 41000/79014 queries. users per second: 554.28"
      ]
     },
     "metadata": {},
     "output_type": "display_data"
    },
    {
     "data": {
      "text/html": [
       "<pre>recommendations finished on 42000/79014 queries. users per second: 553.417</pre>"
      ],
      "text/plain": [
       "recommendations finished on 42000/79014 queries. users per second: 553.417"
      ]
     },
     "metadata": {},
     "output_type": "display_data"
    },
    {
     "data": {
      "text/html": [
       "<pre>recommendations finished on 43000/79014 queries. users per second: 552.665</pre>"
      ],
      "text/plain": [
       "recommendations finished on 43000/79014 queries. users per second: 552.665"
      ]
     },
     "metadata": {},
     "output_type": "display_data"
    },
    {
     "data": {
      "text/html": [
       "<pre>recommendations finished on 44000/79014 queries. users per second: 551.725</pre>"
      ],
      "text/plain": [
       "recommendations finished on 44000/79014 queries. users per second: 551.725"
      ]
     },
     "metadata": {},
     "output_type": "display_data"
    },
    {
     "data": {
      "text/html": [
       "<pre>recommendations finished on 45000/79014 queries. users per second: 550.364</pre>"
      ],
      "text/plain": [
       "recommendations finished on 45000/79014 queries. users per second: 550.364"
      ]
     },
     "metadata": {},
     "output_type": "display_data"
    },
    {
     "data": {
      "text/html": [
       "<pre>recommendations finished on 46000/79014 queries. users per second: 550.178</pre>"
      ],
      "text/plain": [
       "recommendations finished on 46000/79014 queries. users per second: 550.178"
      ]
     },
     "metadata": {},
     "output_type": "display_data"
    },
    {
     "data": {
      "text/html": [
       "<pre>recommendations finished on 47000/79014 queries. users per second: 549.642</pre>"
      ],
      "text/plain": [
       "recommendations finished on 47000/79014 queries. users per second: 549.642"
      ]
     },
     "metadata": {},
     "output_type": "display_data"
    },
    {
     "data": {
      "text/html": [
       "<pre>recommendations finished on 48000/79014 queries. users per second: 548.947</pre>"
      ],
      "text/plain": [
       "recommendations finished on 48000/79014 queries. users per second: 548.947"
      ]
     },
     "metadata": {},
     "output_type": "display_data"
    },
    {
     "data": {
      "text/html": [
       "<pre>recommendations finished on 49000/79014 queries. users per second: 549.217</pre>"
      ],
      "text/plain": [
       "recommendations finished on 49000/79014 queries. users per second: 549.217"
      ]
     },
     "metadata": {},
     "output_type": "display_data"
    },
    {
     "data": {
      "text/html": [
       "<pre>recommendations finished on 50000/79014 queries. users per second: 549.544</pre>"
      ],
      "text/plain": [
       "recommendations finished on 50000/79014 queries. users per second: 549.544"
      ]
     },
     "metadata": {},
     "output_type": "display_data"
    },
    {
     "data": {
      "text/html": [
       "<pre>recommendations finished on 51000/79014 queries. users per second: 549.813</pre>"
      ],
      "text/plain": [
       "recommendations finished on 51000/79014 queries. users per second: 549.813"
      ]
     },
     "metadata": {},
     "output_type": "display_data"
    },
    {
     "data": {
      "text/html": [
       "<pre>recommendations finished on 52000/79014 queries. users per second: 549.765</pre>"
      ],
      "text/plain": [
       "recommendations finished on 52000/79014 queries. users per second: 549.765"
      ]
     },
     "metadata": {},
     "output_type": "display_data"
    },
    {
     "data": {
      "text/html": [
       "<pre>recommendations finished on 53000/79014 queries. users per second: 549.708</pre>"
      ],
      "text/plain": [
       "recommendations finished on 53000/79014 queries. users per second: 549.708"
      ]
     },
     "metadata": {},
     "output_type": "display_data"
    },
    {
     "data": {
      "text/html": [
       "<pre>recommendations finished on 54000/79014 queries. users per second: 549.531</pre>"
      ],
      "text/plain": [
       "recommendations finished on 54000/79014 queries. users per second: 549.531"
      ]
     },
     "metadata": {},
     "output_type": "display_data"
    },
    {
     "data": {
      "text/html": [
       "<pre>recommendations finished on 55000/79014 queries. users per second: 549.628</pre>"
      ],
      "text/plain": [
       "recommendations finished on 55000/79014 queries. users per second: 549.628"
      ]
     },
     "metadata": {},
     "output_type": "display_data"
    },
    {
     "data": {
      "text/html": [
       "<pre>recommendations finished on 56000/79014 queries. users per second: 549.857</pre>"
      ],
      "text/plain": [
       "recommendations finished on 56000/79014 queries. users per second: 549.857"
      ]
     },
     "metadata": {},
     "output_type": "display_data"
    },
    {
     "data": {
      "text/html": [
       "<pre>recommendations finished on 57000/79014 queries. users per second: 549.819</pre>"
      ],
      "text/plain": [
       "recommendations finished on 57000/79014 queries. users per second: 549.819"
      ]
     },
     "metadata": {},
     "output_type": "display_data"
    },
    {
     "data": {
      "text/html": [
       "<pre>recommendations finished on 58000/79014 queries. users per second: 549.912</pre>"
      ],
      "text/plain": [
       "recommendations finished on 58000/79014 queries. users per second: 549.912"
      ]
     },
     "metadata": {},
     "output_type": "display_data"
    },
    {
     "data": {
      "text/html": [
       "<pre>recommendations finished on 59000/79014 queries. users per second: 549.791</pre>"
      ],
      "text/plain": [
       "recommendations finished on 59000/79014 queries. users per second: 549.791"
      ]
     },
     "metadata": {},
     "output_type": "display_data"
    },
    {
     "data": {
      "text/html": [
       "<pre>recommendations finished on 60000/79014 queries. users per second: 549.358</pre>"
      ],
      "text/plain": [
       "recommendations finished on 60000/79014 queries. users per second: 549.358"
      ]
     },
     "metadata": {},
     "output_type": "display_data"
    },
    {
     "data": {
      "text/html": [
       "<pre>recommendations finished on 61000/79014 queries. users per second: 549.477</pre>"
      ],
      "text/plain": [
       "recommendations finished on 61000/79014 queries. users per second: 549.477"
      ]
     },
     "metadata": {},
     "output_type": "display_data"
    },
    {
     "data": {
      "text/html": [
       "<pre>recommendations finished on 62000/79014 queries. users per second: 549.679</pre>"
      ],
      "text/plain": [
       "recommendations finished on 62000/79014 queries. users per second: 549.679"
      ]
     },
     "metadata": {},
     "output_type": "display_data"
    },
    {
     "data": {
      "text/html": [
       "<pre>recommendations finished on 63000/79014 queries. users per second: 550.052</pre>"
      ],
      "text/plain": [
       "recommendations finished on 63000/79014 queries. users per second: 550.052"
      ]
     },
     "metadata": {},
     "output_type": "display_data"
    },
    {
     "data": {
      "text/html": [
       "<pre>recommendations finished on 64000/79014 queries. users per second: 549.956</pre>"
      ],
      "text/plain": [
       "recommendations finished on 64000/79014 queries. users per second: 549.956"
      ]
     },
     "metadata": {},
     "output_type": "display_data"
    },
    {
     "data": {
      "text/html": [
       "<pre>recommendations finished on 65000/79014 queries. users per second: 550.209</pre>"
      ],
      "text/plain": [
       "recommendations finished on 65000/79014 queries. users per second: 550.209"
      ]
     },
     "metadata": {},
     "output_type": "display_data"
    },
    {
     "data": {
      "text/html": [
       "<pre>recommendations finished on 66000/79014 queries. users per second: 550.559</pre>"
      ],
      "text/plain": [
       "recommendations finished on 66000/79014 queries. users per second: 550.559"
      ]
     },
     "metadata": {},
     "output_type": "display_data"
    },
    {
     "data": {
      "text/html": [
       "<pre>recommendations finished on 67000/79014 queries. users per second: 550.809</pre>"
      ],
      "text/plain": [
       "recommendations finished on 67000/79014 queries. users per second: 550.809"
      ]
     },
     "metadata": {},
     "output_type": "display_data"
    },
    {
     "data": {
      "text/html": [
       "<pre>recommendations finished on 68000/79014 queries. users per second: 550.856</pre>"
      ],
      "text/plain": [
       "recommendations finished on 68000/79014 queries. users per second: 550.856"
      ]
     },
     "metadata": {},
     "output_type": "display_data"
    },
    {
     "data": {
      "text/html": [
       "<pre>recommendations finished on 69000/79014 queries. users per second: 550.726</pre>"
      ],
      "text/plain": [
       "recommendations finished on 69000/79014 queries. users per second: 550.726"
      ]
     },
     "metadata": {},
     "output_type": "display_data"
    },
    {
     "data": {
      "text/html": [
       "<pre>recommendations finished on 70000/79014 queries. users per second: 551.09</pre>"
      ],
      "text/plain": [
       "recommendations finished on 70000/79014 queries. users per second: 551.09"
      ]
     },
     "metadata": {},
     "output_type": "display_data"
    },
    {
     "data": {
      "text/html": [
       "<pre>recommendations finished on 71000/79014 queries. users per second: 551.315</pre>"
      ],
      "text/plain": [
       "recommendations finished on 71000/79014 queries. users per second: 551.315"
      ]
     },
     "metadata": {},
     "output_type": "display_data"
    },
    {
     "data": {
      "text/html": [
       "<pre>recommendations finished on 72000/79014 queries. users per second: 551.595</pre>"
      ],
      "text/plain": [
       "recommendations finished on 72000/79014 queries. users per second: 551.595"
      ]
     },
     "metadata": {},
     "output_type": "display_data"
    },
    {
     "data": {
      "text/html": [
       "<pre>recommendations finished on 73000/79014 queries. users per second: 551.87</pre>"
      ],
      "text/plain": [
       "recommendations finished on 73000/79014 queries. users per second: 551.87"
      ]
     },
     "metadata": {},
     "output_type": "display_data"
    },
    {
     "data": {
      "text/html": [
       "<pre>recommendations finished on 74000/79014 queries. users per second: 552.067</pre>"
      ],
      "text/plain": [
       "recommendations finished on 74000/79014 queries. users per second: 552.067"
      ]
     },
     "metadata": {},
     "output_type": "display_data"
    },
    {
     "data": {
      "text/html": [
       "<pre>recommendations finished on 75000/79014 queries. users per second: 552.201</pre>"
      ],
      "text/plain": [
       "recommendations finished on 75000/79014 queries. users per second: 552.201"
      ]
     },
     "metadata": {},
     "output_type": "display_data"
    },
    {
     "data": {
      "text/html": [
       "<pre>recommendations finished on 76000/79014 queries. users per second: 552.317</pre>"
      ],
      "text/plain": [
       "recommendations finished on 76000/79014 queries. users per second: 552.317"
      ]
     },
     "metadata": {},
     "output_type": "display_data"
    },
    {
     "data": {
      "text/html": [
       "<pre>recommendations finished on 77000/79014 queries. users per second: 552.259</pre>"
      ],
      "text/plain": [
       "recommendations finished on 77000/79014 queries. users per second: 552.259"
      ]
     },
     "metadata": {},
     "output_type": "display_data"
    },
    {
     "data": {
      "text/html": [
       "<pre>recommendations finished on 78000/79014 queries. users per second: 552.542</pre>"
      ],
      "text/plain": [
       "recommendations finished on 78000/79014 queries. users per second: 552.542"
      ]
     },
     "metadata": {},
     "output_type": "display_data"
    },
    {
     "data": {
      "text/html": [
       "<pre>recommendations finished on 79000/79014 queries. users per second: 552.482</pre>"
      ],
      "text/plain": [
       "recommendations finished on 79000/79014 queries. users per second: 552.482"
      ]
     },
     "metadata": {},
     "output_type": "display_data"
    },
    {
     "name": "stdout",
     "output_type": "stream",
     "text": [
      "\n",
      "Precision and recall summary statistics by cutoff\n",
      "+--------+------------------+------------------+\n",
      "| cutoff |  mean_precision  |   mean_recall    |\n",
      "+--------+------------------+------------------+\n",
      "|   1    | 0.00569519325689 | 0.00348662767696 |\n",
      "|   2    | 0.00497380211102 | 0.00616218887772 |\n",
      "|   3    | 0.00420600568676 | 0.00753156945039 |\n",
      "|   4    | 0.00373035158326 | 0.00863756444124 |\n",
      "|   5    | 0.00338421039309 | 0.00970402704521 |\n",
      "|   6    | 0.00319141755469 | 0.0107343260155  |\n",
      "|   7    | 0.00303382040796 | 0.0119669031289  |\n",
      "|   8    | 0.00297890247298 | 0.0135314339876  |\n",
      "|   9    | 0.00283494064343 | 0.0143087473299  |\n",
      "|   10   | 0.00279317589288 | 0.0159426425287  |\n",
      "+--------+------------------+------------------+\n",
      "[10 rows x 3 columns]\n",
      "\n"
     ]
    },
    {
     "data": {
      "text/html": [
       "<pre>Finished prediction in 0.093755s</pre>"
      ],
      "text/plain": [
       "Finished prediction in 0.093755s"
      ]
     },
     "metadata": {},
     "output_type": "display_data"
    },
    {
     "name": "stdout",
     "output_type": "stream",
     "text": [
      "('\\nOverall RMSE: ', 1.491783456592445)\n",
      "\n",
      "Per User RMSE (best)\n",
      "+---------------+-------+------+\n",
      "|     UserId    | count | rmse |\n",
      "+---------------+-------+------+\n",
      "| AHNSRNMRD8132 |   1   | 0.0  |\n",
      "+---------------+-------+------+\n",
      "[1 rows x 3 columns]\n",
      "\n",
      "\n",
      "Per User RMSE (worst)\n",
      "+----------------+-------+------+\n",
      "|     UserId     | count | rmse |\n",
      "+----------------+-------+------+\n",
      "| A1IZLM5SR42ED8 |   1   | 5.0  |\n",
      "+----------------+-------+------+\n",
      "[1 rows x 3 columns]\n",
      "\n",
      "\n",
      "Per Item RMSE (best)\n",
      "+------------+-------+------+\n",
      "| ProductId  | count | rmse |\n",
      "+------------+-------+------+\n",
      "| B002WKL5ZA |   1   | 0.0  |\n",
      "+------------+-------+------+\n",
      "[1 rows x 3 columns]\n",
      "\n",
      "\n",
      "Per Item RMSE (worst)\n",
      "+------------+-------+------+\n",
      "| ProductId  | count | rmse |\n",
      "+------------+-------+------+\n",
      "| B002P9QRCO |   1   | 5.0  |\n",
      "+------------+-------+------+\n",
      "[1 rows x 3 columns]\n",
      "\n"
     ]
    },
    {
     "data": {
      "text/plain": [
       "{'precision_recall_by_user': Columns:\n",
       " \tUserId\tstr\n",
       " \tcutoff\tint\n",
       " \tprecision\tfloat\n",
       " \trecall\tfloat\n",
       " \tcount\tint\n",
       " \n",
       " Rows: 1422252\n",
       " \n",
       " Data:\n",
       " +--------------------+--------+-----------+--------+-------+\n",
       " |       UserId       | cutoff | precision | recall | count |\n",
       " +--------------------+--------+-----------+--------+-------+\n",
       " | #oc-R103C0QSV1DF5E |   1    |    0.0    |  0.0   |   1   |\n",
       " | #oc-R103C0QSV1DF5E |   2    |    0.0    |  0.0   |   1   |\n",
       " | #oc-R103C0QSV1DF5E |   3    |    0.0    |  0.0   |   1   |\n",
       " | #oc-R103C0QSV1DF5E |   4    |    0.0    |  0.0   |   1   |\n",
       " | #oc-R103C0QSV1DF5E |   5    |    0.0    |  0.0   |   1   |\n",
       " | #oc-R103C0QSV1DF5E |   6    |    0.0    |  0.0   |   1   |\n",
       " | #oc-R103C0QSV1DF5E |   7    |    0.0    |  0.0   |   1   |\n",
       " | #oc-R103C0QSV1DF5E |   8    |    0.0    |  0.0   |   1   |\n",
       " | #oc-R103C0QSV1DF5E |   9    |    0.0    |  0.0   |   1   |\n",
       " | #oc-R103C0QSV1DF5E |   10   |    0.0    |  0.0   |   1   |\n",
       " +--------------------+--------+-----------+--------+-------+\n",
       " [1422252 rows x 5 columns]\n",
       " Note: Only the head of the SFrame is printed.\n",
       " You can use print_rows(num_rows=m, num_columns=n) to print more rows and columns.,\n",
       " 'precision_recall_overall': Columns:\n",
       " \tcutoff\tint\n",
       " \tprecision\tfloat\n",
       " \trecall\tfloat\n",
       " \n",
       " Rows: 18\n",
       " \n",
       " Data:\n",
       " +--------+------------------+------------------+\n",
       " | cutoff |    precision     |      recall      |\n",
       " +--------+------------------+------------------+\n",
       " |   1    | 0.00569519325689 | 0.00348662767696 |\n",
       " |   2    | 0.00497380211102 | 0.00616218887772 |\n",
       " |   3    | 0.00420600568676 | 0.00753156945039 |\n",
       " |   4    | 0.00373035158326 | 0.00863756444124 |\n",
       " |   5    | 0.00338421039309 | 0.00970402704521 |\n",
       " |   6    | 0.00319141755469 | 0.0107343260155  |\n",
       " |   7    | 0.00303382040796 | 0.0119669031289  |\n",
       " |   8    | 0.00297890247298 | 0.0135314339876  |\n",
       " |   9    | 0.00283494064343 | 0.0143087473299  |\n",
       " |   10   | 0.00279317589288 | 0.0159426425287  |\n",
       " +--------+------------------+------------------+\n",
       " [18 rows x 3 columns]\n",
       " Note: Only the head of the SFrame is printed.\n",
       " You can use print_rows(num_rows=m, num_columns=n) to print more rows and columns.,\n",
       " 'rmse_by_item': Columns:\n",
       " \tProductId\tstr\n",
       " \tcount\tint\n",
       " \trmse\tfloat\n",
       " \n",
       " Rows: 33929\n",
       " \n",
       " Data:\n",
       " +------------+-------+-------------------+\n",
       " | ProductId  | count |        rmse       |\n",
       " +------------+-------+-------------------+\n",
       " | B002P9QRCO |   1   |        5.0        |\n",
       " | B0029JW9JU |   10  | 6.28036983474e-16 |\n",
       " | B007NVZTLY |   1   |        5.0        |\n",
       " | B0060L1DPE |   1   |        0.0        |\n",
       " | B007RTR8UC |   16  |   1.48540749555   |\n",
       " | B0045TQL2S |   1   |        1.0        |\n",
       " | B000FD7C6M |   2   |        0.0        |\n",
       " | B002BUEJEA |   1   |        0.0        |\n",
       " | B001EPQ77U |   1   |        5.0        |\n",
       " | B004LIYWQK |   1   |        5.0        |\n",
       " +------------+-------+-------------------+\n",
       " [33929 rows x 3 columns]\n",
       " Note: Only the head of the SFrame is printed.\n",
       " You can use print_rows(num_rows=m, num_columns=n) to print more rows and columns.,\n",
       " 'rmse_by_user': Columns:\n",
       " \tUserId\tstr\n",
       " \tcount\tint\n",
       " \trmse\tfloat\n",
       " \n",
       " Rows: 79014\n",
       " \n",
       " Data:\n",
       " +----------------+-------+-------------------+\n",
       " |     UserId     | count |        rmse       |\n",
       " +----------------+-------+-------------------+\n",
       " | A1QPY1WRA6CYM  |   1   |        0.0        |\n",
       " | A1L5ZMDQ1IFZY0 |   1   |   0.352941176471  |\n",
       " | A3M32YMWKA2GP0 |   2   | 6.28036983474e-16 |\n",
       " | A2VPC9EZMOC01Z |   2   |  8.881784197e-16  |\n",
       " | A31MPMNVCG0U39 |   1   |   2.06896551724   |\n",
       " | A2HT9GM4WQK8S5 |   1   |   0.333333333333  |\n",
       " | A265B1IZE5RVG6 |   2   | 6.28036983474e-16 |\n",
       " | A1W4KGEJDP139U |   1   |        0.0        |\n",
       " | A2HSCRS3W321LF |   3   | 7.25194642939e-16 |\n",
       " | A3VFW55A3N2WNK |   1   |        0.0        |\n",
       " +----------------+-------+-------------------+\n",
       " [79014 rows x 3 columns]\n",
       " Note: Only the head of the SFrame is printed.\n",
       " You can use print_rows(num_rows=m, num_columns=n) to print more rows and columns.,\n",
       " 'rmse_overall': 1.491783456592445}"
      ]
     },
     "execution_count": 11,
     "metadata": {},
     "output_type": "execute_result"
    }
   ],
   "source": [
    "model1.evaluate(test_set)"
   ]
  },
  {
   "cell_type": "code",
   "execution_count": 36,
   "metadata": {
    "collapsed": false
   },
   "outputs": [
    {
     "data": {
      "text/html": [
       "<div style=\"max-height:1000px;max-width:1500px;overflow:auto;\"><table frame=\"box\" rules=\"cols\">\n",
       "    <tr>\n",
       "        <th style=\"padding-left: 1em; padding-right: 1em; text-align: center\">UserId</th>\n",
       "        <th style=\"padding-left: 1em; padding-right: 1em; text-align: center\">ProductId</th>\n",
       "        <th style=\"padding-left: 1em; padding-right: 1em; text-align: center\">score</th>\n",
       "        <th style=\"padding-left: 1em; padding-right: 1em; text-align: center\">rank</th>\n",
       "    </tr>\n",
       "    <tr>\n",
       "        <td style=\"padding-left: 1em; padding-right: 1em; text-align: center; vertical-align: top\">A3HDKO7OW0QNK4</td>\n",
       "        <td style=\"padding-left: 1em; padding-right: 1em; text-align: center; vertical-align: top\">B003F6UO7K</td>\n",
       "        <td style=\"padding-left: 1em; padding-right: 1em; text-align: center; vertical-align: top\">5.0</td>\n",
       "        <td style=\"padding-left: 1em; padding-right: 1em; text-align: center; vertical-align: top\">1</td>\n",
       "    </tr>\n",
       "    <tr>\n",
       "        <td style=\"padding-left: 1em; padding-right: 1em; text-align: center; vertical-align: top\">A3HDKO7OW0QNK4</td>\n",
       "        <td style=\"padding-left: 1em; padding-right: 1em; text-align: center; vertical-align: top\">B00144C10S</td>\n",
       "        <td style=\"padding-left: 1em; padding-right: 1em; text-align: center; vertical-align: top\">5.0</td>\n",
       "        <td style=\"padding-left: 1em; padding-right: 1em; text-align: center; vertical-align: top\">2</td>\n",
       "    </tr>\n",
       "    <tr>\n",
       "        <td style=\"padding-left: 1em; padding-right: 1em; text-align: center; vertical-align: top\">A3HDKO7OW0QNK4</td>\n",
       "        <td style=\"padding-left: 1em; padding-right: 1em; text-align: center; vertical-align: top\">B00171APVA</td>\n",
       "        <td style=\"padding-left: 1em; padding-right: 1em; text-align: center; vertical-align: top\">5.0</td>\n",
       "        <td style=\"padding-left: 1em; padding-right: 1em; text-align: center; vertical-align: top\">3</td>\n",
       "    </tr>\n",
       "    <tr>\n",
       "        <td style=\"padding-left: 1em; padding-right: 1em; text-align: center; vertical-align: top\">A3HDKO7OW0QNK4</td>\n",
       "        <td style=\"padding-left: 1em; padding-right: 1em; text-align: center; vertical-align: top\">B000E7L2R4</td>\n",
       "        <td style=\"padding-left: 1em; padding-right: 1em; text-align: center; vertical-align: top\">5.0</td>\n",
       "        <td style=\"padding-left: 1em; padding-right: 1em; text-align: center; vertical-align: top\">4</td>\n",
       "    </tr>\n",
       "    <tr>\n",
       "        <td style=\"padding-left: 1em; padding-right: 1em; text-align: center; vertical-align: top\">A3HDKO7OW0QNK4</td>\n",
       "        <td style=\"padding-left: 1em; padding-right: 1em; text-align: center; vertical-align: top\">B001E4KFG0</td>\n",
       "        <td style=\"padding-left: 1em; padding-right: 1em; text-align: center; vertical-align: top\">5.0</td>\n",
       "        <td style=\"padding-left: 1em; padding-right: 1em; text-align: center; vertical-align: top\">5</td>\n",
       "    </tr>\n",
       "    <tr>\n",
       "        <td style=\"padding-left: 1em; padding-right: 1em; text-align: center; vertical-align: top\">A3SGXH7AUHU8GW</td>\n",
       "        <td style=\"padding-left: 1em; padding-right: 1em; text-align: center; vertical-align: top\">B003F6UO7K</td>\n",
       "        <td style=\"padding-left: 1em; padding-right: 1em; text-align: center; vertical-align: top\">5.0</td>\n",
       "        <td style=\"padding-left: 1em; padding-right: 1em; text-align: center; vertical-align: top\">1</td>\n",
       "    </tr>\n",
       "    <tr>\n",
       "        <td style=\"padding-left: 1em; padding-right: 1em; text-align: center; vertical-align: top\">A3SGXH7AUHU8GW</td>\n",
       "        <td style=\"padding-left: 1em; padding-right: 1em; text-align: center; vertical-align: top\">B0001PB9FY</td>\n",
       "        <td style=\"padding-left: 1em; padding-right: 1em; text-align: center; vertical-align: top\">5.0</td>\n",
       "        <td style=\"padding-left: 1em; padding-right: 1em; text-align: center; vertical-align: top\">2</td>\n",
       "    </tr>\n",
       "    <tr>\n",
       "        <td style=\"padding-left: 1em; padding-right: 1em; text-align: center; vertical-align: top\">A3SGXH7AUHU8GW</td>\n",
       "        <td style=\"padding-left: 1em; padding-right: 1em; text-align: center; vertical-align: top\">B00144C10S</td>\n",
       "        <td style=\"padding-left: 1em; padding-right: 1em; text-align: center; vertical-align: top\">5.0</td>\n",
       "        <td style=\"padding-left: 1em; padding-right: 1em; text-align: center; vertical-align: top\">3</td>\n",
       "    </tr>\n",
       "    <tr>\n",
       "        <td style=\"padding-left: 1em; padding-right: 1em; text-align: center; vertical-align: top\">A3SGXH7AUHU8GW</td>\n",
       "        <td style=\"padding-left: 1em; padding-right: 1em; text-align: center; vertical-align: top\">B00171APVA</td>\n",
       "        <td style=\"padding-left: 1em; padding-right: 1em; text-align: center; vertical-align: top\">5.0</td>\n",
       "        <td style=\"padding-left: 1em; padding-right: 1em; text-align: center; vertical-align: top\">4</td>\n",
       "    </tr>\n",
       "    <tr>\n",
       "        <td style=\"padding-left: 1em; padding-right: 1em; text-align: center; vertical-align: top\">A3SGXH7AUHU8GW</td>\n",
       "        <td style=\"padding-left: 1em; padding-right: 1em; text-align: center; vertical-align: top\">B000E7L2R4</td>\n",
       "        <td style=\"padding-left: 1em; padding-right: 1em; text-align: center; vertical-align: top\">5.0</td>\n",
       "        <td style=\"padding-left: 1em; padding-right: 1em; text-align: center; vertical-align: top\">5</td>\n",
       "    </tr>\n",
       "</table>\n",
       "[20 rows x 4 columns]<br/>Note: Only the head of the SFrame is printed.<br/>You can use print_rows(num_rows=m, num_columns=n) to print more rows and columns.\n",
       "</div>"
      ],
      "text/plain": [
       "Columns:\n",
       "\tUserId\tstr\n",
       "\tProductId\tstr\n",
       "\tscore\tfloat\n",
       "\trank\tint\n",
       "\n",
       "Rows: 20\n",
       "\n",
       "Data:\n",
       "+----------------+------------+-------+------+\n",
       "|     UserId     | ProductId  | score | rank |\n",
       "+----------------+------------+-------+------+\n",
       "| A3HDKO7OW0QNK4 | B003F6UO7K |  5.0  |  1   |\n",
       "| A3HDKO7OW0QNK4 | B00144C10S |  5.0  |  2   |\n",
       "| A3HDKO7OW0QNK4 | B00171APVA |  5.0  |  3   |\n",
       "| A3HDKO7OW0QNK4 | B000E7L2R4 |  5.0  |  4   |\n",
       "| A3HDKO7OW0QNK4 | B001E4KFG0 |  5.0  |  5   |\n",
       "| A3SGXH7AUHU8GW | B003F6UO7K |  5.0  |  1   |\n",
       "| A3SGXH7AUHU8GW | B0001PB9FY |  5.0  |  2   |\n",
       "| A3SGXH7AUHU8GW | B00144C10S |  5.0  |  3   |\n",
       "| A3SGXH7AUHU8GW | B00171APVA |  5.0  |  4   |\n",
       "| A3SGXH7AUHU8GW | B000E7L2R4 |  5.0  |  5   |\n",
       "+----------------+------------+-------+------+\n",
       "[20 rows x 4 columns]\n",
       "Note: Only the head of the SFrame is printed.\n",
       "You can use print_rows(num_rows=m, num_columns=n) to print more rows and columns."
      ]
     },
     "execution_count": 36,
     "metadata": {},
     "output_type": "execute_result"
    }
   ],
   "source": [
    "model1.recommend(users=['A3HDKO7OW0QNK4','A3SGXH7AUHU8GW', 'A1D87F6ZCVE5NK', 'A395BORC6FGVXV'], k=5)"
   ]
  },
  {
   "cell_type": "markdown",
   "metadata": {},
   "source": [
    "## Matrix factorization model \n",
    "### model parameters are:\n",
    "* num_factors=70 \n",
    "* max_iterations=45 \n",
    "* regularization=0.00001"
   ]
  },
  {
   "cell_type": "code",
   "execution_count": 13,
   "metadata": {
    "collapsed": true
   },
   "outputs": [
    {
     "data": {
      "text/html": [
       "<pre>Recsys training: model = ranking_factorization_recommender</pre>"
      ],
      "text/plain": [
       "Recsys training: model = ranking_factorization_recommender"
      ]
     },
     "metadata": {},
     "output_type": "display_data"
    },
    {
     "data": {
      "text/html": [
       "<pre>Preparing data set.</pre>"
      ],
      "text/plain": [
       "Preparing data set."
      ]
     },
     "metadata": {},
     "output_type": "display_data"
    },
    {
     "data": {
      "text/html": [
       "<pre>    Data has 454702 observations with 219597 users and 67727 items.</pre>"
      ],
      "text/plain": [
       "    Data has 454702 observations with 219597 users and 67727 items."
      ]
     },
     "metadata": {},
     "output_type": "display_data"
    },
    {
     "data": {
      "text/html": [
       "<pre>    Data prepared in: 5.38879s</pre>"
      ],
      "text/plain": [
       "    Data prepared in: 5.38879s"
      ]
     },
     "metadata": {},
     "output_type": "display_data"
    },
    {
     "data": {
      "text/html": [
       "<pre>Training ranking_factorization_recommender for recommendations.</pre>"
      ],
      "text/plain": [
       "Training ranking_factorization_recommender for recommendations."
      ]
     },
     "metadata": {},
     "output_type": "display_data"
    },
    {
     "data": {
      "text/html": [
       "<pre>+--------------------------------+--------------------------------------------------+----------+</pre>"
      ],
      "text/plain": [
       "+--------------------------------+--------------------------------------------------+----------+"
      ]
     },
     "metadata": {},
     "output_type": "display_data"
    },
    {
     "data": {
      "text/html": [
       "<pre>| Parameter                      | Description                                      | Value    |</pre>"
      ],
      "text/plain": [
       "| Parameter                      | Description                                      | Value    |"
      ]
     },
     "metadata": {},
     "output_type": "display_data"
    },
    {
     "data": {
      "text/html": [
       "<pre>+--------------------------------+--------------------------------------------------+----------+</pre>"
      ],
      "text/plain": [
       "+--------------------------------+--------------------------------------------------+----------+"
      ]
     },
     "metadata": {},
     "output_type": "display_data"
    },
    {
     "data": {
      "text/html": [
       "<pre>| num_factors                    | Factor Dimension                                 | 70       |</pre>"
      ],
      "text/plain": [
       "| num_factors                    | Factor Dimension                                 | 70       |"
      ]
     },
     "metadata": {},
     "output_type": "display_data"
    },
    {
     "data": {
      "text/html": [
       "<pre>| regularization                 | L2 Regularization on Factors                     | 1e-005   |</pre>"
      ],
      "text/plain": [
       "| regularization                 | L2 Regularization on Factors                     | 1e-005   |"
      ]
     },
     "metadata": {},
     "output_type": "display_data"
    },
    {
     "data": {
      "text/html": [
       "<pre>| solver                         | Solver used for training                         | adagrad  |</pre>"
      ],
      "text/plain": [
       "| solver                         | Solver used for training                         | adagrad  |"
      ]
     },
     "metadata": {},
     "output_type": "display_data"
    },
    {
     "data": {
      "text/html": [
       "<pre>| linear_regularization          | L2 Regularization on Linear Coefficients         | 1e-009   |</pre>"
      ],
      "text/plain": [
       "| linear_regularization          | L2 Regularization on Linear Coefficients         | 1e-009   |"
      ]
     },
     "metadata": {},
     "output_type": "display_data"
    },
    {
     "data": {
      "text/html": [
       "<pre>| ranking_regularization         | Rank-based Regularization Weight                 | 0.25     |</pre>"
      ],
      "text/plain": [
       "| ranking_regularization         | Rank-based Regularization Weight                 | 0.25     |"
      ]
     },
     "metadata": {},
     "output_type": "display_data"
    },
    {
     "data": {
      "text/html": [
       "<pre>| max_iterations                 | Maximum Number of Iterations                     | 45       |</pre>"
      ],
      "text/plain": [
       "| max_iterations                 | Maximum Number of Iterations                     | 45       |"
      ]
     },
     "metadata": {},
     "output_type": "display_data"
    },
    {
     "data": {
      "text/html": [
       "<pre>+--------------------------------+--------------------------------------------------+----------+</pre>"
      ],
      "text/plain": [
       "+--------------------------------+--------------------------------------------------+----------+"
      ]
     },
     "metadata": {},
     "output_type": "display_data"
    },
    {
     "data": {
      "text/html": [
       "<pre>  Optimizing model using SGD; tuning step size.</pre>"
      ],
      "text/plain": [
       "  Optimizing model using SGD; tuning step size."
      ]
     },
     "metadata": {},
     "output_type": "display_data"
    },
    {
     "data": {
      "text/html": [
       "<pre>  Using 56837 / 454702 points for tuning the step size.</pre>"
      ],
      "text/plain": [
       "  Using 56837 / 454702 points for tuning the step size."
      ]
     },
     "metadata": {},
     "output_type": "display_data"
    },
    {
     "data": {
      "text/html": [
       "<pre>+---------+-------------------+------------------------------------------+</pre>"
      ],
      "text/plain": [
       "+---------+-------------------+------------------------------------------+"
      ]
     },
     "metadata": {},
     "output_type": "display_data"
    },
    {
     "data": {
      "text/html": [
       "<pre>| Attempt | Initial Step Size | Estimated Objective Value                |</pre>"
      ],
      "text/plain": [
       "| Attempt | Initial Step Size | Estimated Objective Value                |"
      ]
     },
     "metadata": {},
     "output_type": "display_data"
    },
    {
     "data": {
      "text/html": [
       "<pre>+---------+-------------------+------------------------------------------+</pre>"
      ],
      "text/plain": [
       "+---------+-------------------+------------------------------------------+"
      ]
     },
     "metadata": {},
     "output_type": "display_data"
    },
    {
     "data": {
      "text/html": [
       "<pre>| 0       | 5.55556           | Not Viable                               |</pre>"
      ],
      "text/plain": [
       "| 0       | 5.55556           | Not Viable                               |"
      ]
     },
     "metadata": {},
     "output_type": "display_data"
    },
    {
     "data": {
      "text/html": [
       "<pre>| 1       | 1.38889           | Not Viable                               |</pre>"
      ],
      "text/plain": [
       "| 1       | 1.38889           | Not Viable                               |"
      ]
     },
     "metadata": {},
     "output_type": "display_data"
    },
    {
     "data": {
      "text/html": [
       "<pre>| 2       | 0.347222          | Not Viable                               |</pre>"
      ],
      "text/plain": [
       "| 2       | 0.347222          | Not Viable                               |"
      ]
     },
     "metadata": {},
     "output_type": "display_data"
    },
    {
     "data": {
      "text/html": [
       "<pre>| 3       | 0.0868056         | Not Viable                               |</pre>"
      ],
      "text/plain": [
       "| 3       | 0.0868056         | Not Viable                               |"
      ]
     },
     "metadata": {},
     "output_type": "display_data"
    },
    {
     "data": {
      "text/html": [
       "<pre>| 4       | 0.0217014         | No Decrease (6.56984 >= 3.35197)         |</pre>"
      ],
      "text/plain": [
       "| 4       | 0.0217014         | No Decrease (6.56984 >= 3.35197)         |"
      ]
     },
     "metadata": {},
     "output_type": "display_data"
    },
    {
     "data": {
      "text/html": [
       "<pre>| 5       | 0.00542535        | 3.1627                                   |</pre>"
      ],
      "text/plain": [
       "| 5       | 0.00542535        | 3.1627                                   |"
      ]
     },
     "metadata": {},
     "output_type": "display_data"
    },
    {
     "data": {
      "text/html": [
       "<pre>| 6       | 0.00271267        | 3.08077                                  |</pre>"
      ],
      "text/plain": [
       "| 6       | 0.00271267        | 3.08077                                  |"
      ]
     },
     "metadata": {},
     "output_type": "display_data"
    },
    {
     "data": {
      "text/html": [
       "<pre>| 7       | 0.00135634        | 3.2751                                   |</pre>"
      ],
      "text/plain": [
       "| 7       | 0.00135634        | 3.2751                                   |"
      ]
     },
     "metadata": {},
     "output_type": "display_data"
    },
    {
     "data": {
      "text/html": [
       "<pre>| 8       | 0.000678168       | 3.32751                                  |</pre>"
      ],
      "text/plain": [
       "| 8       | 0.000678168       | 3.32751                                  |"
      ]
     },
     "metadata": {},
     "output_type": "display_data"
    },
    {
     "data": {
      "text/html": [
       "<pre>| 9       | 0.000339084       | 3.33152                                  |</pre>"
      ],
      "text/plain": [
       "| 9       | 0.000339084       | 3.33152                                  |"
      ]
     },
     "metadata": {},
     "output_type": "display_data"
    },
    {
     "data": {
      "text/html": [
       "<pre>+---------+-------------------+------------------------------------------+</pre>"
      ],
      "text/plain": [
       "+---------+-------------------+------------------------------------------+"
      ]
     },
     "metadata": {},
     "output_type": "display_data"
    },
    {
     "data": {
      "text/html": [
       "<pre>| Final   | 0.00271267        | 3.08077                                  |</pre>"
      ],
      "text/plain": [
       "| Final   | 0.00271267        | 3.08077                                  |"
      ]
     },
     "metadata": {},
     "output_type": "display_data"
    },
    {
     "data": {
      "text/html": [
       "<pre>+---------+-------------------+------------------------------------------+</pre>"
      ],
      "text/plain": [
       "+---------+-------------------+------------------------------------------+"
      ]
     },
     "metadata": {},
     "output_type": "display_data"
    },
    {
     "data": {
      "text/html": [
       "<pre>Starting Optimization.</pre>"
      ],
      "text/plain": [
       "Starting Optimization."
      ]
     },
     "metadata": {},
     "output_type": "display_data"
    },
    {
     "data": {
      "text/html": [
       "<pre>+---------+--------------+-------------------+-----------------------+-------------+</pre>"
      ],
      "text/plain": [
       "+---------+--------------+-------------------+-----------------------+-------------+"
      ]
     },
     "metadata": {},
     "output_type": "display_data"
    },
    {
     "data": {
      "text/html": [
       "<pre>| Iter.   | Elapsed Time | Approx. Objective | Approx. Training RMSE | Step Size   |</pre>"
      ],
      "text/plain": [
       "| Iter.   | Elapsed Time | Approx. Objective | Approx. Training RMSE | Step Size   |"
      ]
     },
     "metadata": {},
     "output_type": "display_data"
    },
    {
     "data": {
      "text/html": [
       "<pre>+---------+--------------+-------------------+-----------------------+-------------+</pre>"
      ],
      "text/plain": [
       "+---------+--------------+-------------------+-----------------------+-------------+"
      ]
     },
     "metadata": {},
     "output_type": "display_data"
    },
    {
     "data": {
      "text/html": [
       "<pre>| Initial | 219.433ms    | 3.36616           | 1.31027               |             |</pre>"
      ],
      "text/plain": [
       "| Initial | 219.433ms    | 3.36616           | 1.31027               |             |"
      ]
     },
     "metadata": {},
     "output_type": "display_data"
    },
    {
     "data": {
      "text/html": [
       "<pre>+---------+--------------+-------------------+-----------------------+-------------+</pre>"
      ],
      "text/plain": [
       "+---------+--------------+-------------------+-----------------------+-------------+"
      ]
     },
     "metadata": {},
     "output_type": "display_data"
    },
    {
     "data": {
      "text/html": [
       "<pre>| 1       | 7.14s        | 3.36722           | 1.30267               | 0.00271267  |</pre>"
      ],
      "text/plain": [
       "| 1       | 7.14s        | 3.36722           | 1.30267               | 0.00271267  |"
      ]
     },
     "metadata": {},
     "output_type": "display_data"
    },
    {
     "data": {
      "text/html": [
       "<pre>| 2       | 12.29s       | 3.23198           | 1.26597               | 0.00271267  |</pre>"
      ],
      "text/plain": [
       "| 2       | 12.29s       | 3.23198           | 1.26597               | 0.00271267  |"
      ]
     },
     "metadata": {},
     "output_type": "display_data"
    },
    {
     "data": {
      "text/html": [
       "<pre>| 3       | 17.40s       | 3.19236           | 1.25635               | 0.00271267  |</pre>"
      ],
      "text/plain": [
       "| 3       | 17.40s       | 3.19236           | 1.25635               | 0.00271267  |"
      ]
     },
     "metadata": {},
     "output_type": "display_data"
    },
    {
     "data": {
      "text/html": [
       "<pre>| 4       | 22.49s       | 3.16855           | 1.24877               | 0.00271267  |</pre>"
      ],
      "text/plain": [
       "| 4       | 22.49s       | 3.16855           | 1.24877               | 0.00271267  |"
      ]
     },
     "metadata": {},
     "output_type": "display_data"
    },
    {
     "data": {
      "text/html": [
       "<pre>| 5       | 27.47s       | 3.15244           | 1.24325               | 0.00271267  |</pre>"
      ],
      "text/plain": [
       "| 5       | 27.47s       | 3.15244           | 1.24325               | 0.00271267  |"
      ]
     },
     "metadata": {},
     "output_type": "display_data"
    },
    {
     "data": {
      "text/html": [
       "<pre>| 6       | 32.47s       | 3.12381           | 1.23465               | 0.00271267  |</pre>"
      ],
      "text/plain": [
       "| 6       | 32.47s       | 3.12381           | 1.23465               | 0.00271267  |"
      ]
     },
     "metadata": {},
     "output_type": "display_data"
    },
    {
     "data": {
      "text/html": [
       "<pre>| 7       | 37.49s       | 3.10275           | 1.22747               | 0.00271267  |</pre>"
      ],
      "text/plain": [
       "| 7       | 37.49s       | 3.10275           | 1.22747               | 0.00271267  |"
      ]
     },
     "metadata": {},
     "output_type": "display_data"
    },
    {
     "data": {
      "text/html": [
       "<pre>| 8       | 42.48s       | 3.09126           | 1.2247                | 0.00271267  |</pre>"
      ],
      "text/plain": [
       "| 8       | 42.48s       | 3.09126           | 1.2247                | 0.00271267  |"
      ]
     },
     "metadata": {},
     "output_type": "display_data"
    },
    {
     "data": {
      "text/html": [
       "<pre>| 9       | 47.45s       | 3.09252           | 1.22603               | 0.00271267  |</pre>"
      ],
      "text/plain": [
       "| 9       | 47.45s       | 3.09252           | 1.22603               | 0.00271267  |"
      ]
     },
     "metadata": {},
     "output_type": "display_data"
    },
    {
     "data": {
      "text/html": [
       "<pre>| 10      | 52.53s       | 3.08624           | 1.22459               | 0.00271267  |</pre>"
      ],
      "text/plain": [
       "| 10      | 52.53s       | 3.08624           | 1.22459               | 0.00271267  |"
      ]
     },
     "metadata": {},
     "output_type": "display_data"
    },
    {
     "data": {
      "text/html": [
       "<pre>| 11      | 57.53s       | 3.07208           | 1.22035               | 0.00271267  |</pre>"
      ],
      "text/plain": [
       "| 11      | 57.53s       | 3.07208           | 1.22035               | 0.00271267  |"
      ]
     },
     "metadata": {},
     "output_type": "display_data"
    },
    {
     "data": {
      "text/html": [
       "<pre>| 12      | 1m 2s        | 3.11596           | 1.23985               | 0.00271267  |</pre>"
      ],
      "text/plain": [
       "| 12      | 1m 2s        | 3.11596           | 1.23985               | 0.00271267  |"
      ]
     },
     "metadata": {},
     "output_type": "display_data"
    },
    {
     "data": {
      "text/html": [
       "<pre>| 13      | 1m 7s        | 3.08956           | 1.22882               | 0.00271267  |</pre>"
      ],
      "text/plain": [
       "| 13      | 1m 7s        | 3.08956           | 1.22882               | 0.00271267  |"
      ]
     },
     "metadata": {},
     "output_type": "display_data"
    },
    {
     "data": {
      "text/html": [
       "<pre>| 14      | 1m 12s       | 3.12094           | 1.23387               | 0.00271267  |</pre>"
      ],
      "text/plain": [
       "| 14      | 1m 12s       | 3.12094           | 1.23387               | 0.00271267  |"
      ]
     },
     "metadata": {},
     "output_type": "display_data"
    },
    {
     "data": {
      "text/html": [
       "<pre>| 15      | 1m 17s       | 3.13431           | 1.24206               | 0.00271267  |</pre>"
      ],
      "text/plain": [
       "| 15      | 1m 17s       | 3.13431           | 1.24206               | 0.00271267  |"
      ]
     },
     "metadata": {},
     "output_type": "display_data"
    },
    {
     "data": {
      "text/html": [
       "<pre>| 16      | 1m 22s       | 3.16523           | 1.24926               | 0.00271267  |</pre>"
      ],
      "text/plain": [
       "| 16      | 1m 22s       | 3.16523           | 1.24926               | 0.00271267  |"
      ]
     },
     "metadata": {},
     "output_type": "display_data"
    },
    {
     "data": {
      "text/html": [
       "<pre>| 17      | 1m 27s       | 3.22304           | 1.26136               | 0.00271267  |</pre>"
      ],
      "text/plain": [
       "| 17      | 1m 27s       | 3.22304           | 1.26136               | 0.00271267  |"
      ]
     },
     "metadata": {},
     "output_type": "display_data"
    },
    {
     "data": {
      "text/html": [
       "<pre>| 18      | 1m 32s       | 3.20221           | 1.26343               | 0.00271267  |</pre>"
      ],
      "text/plain": [
       "| 18      | 1m 32s       | 3.20221           | 1.26343               | 0.00271267  |"
      ]
     },
     "metadata": {},
     "output_type": "display_data"
    },
    {
     "data": {
      "text/html": [
       "<pre>| 19      | 1m 37s       | 3.28674           | 1.27571               | 0.00271267  |</pre>"
      ],
      "text/plain": [
       "| 19      | 1m 37s       | 3.28674           | 1.27571               | 0.00271267  |"
      ]
     },
     "metadata": {},
     "output_type": "display_data"
    },
    {
     "data": {
      "text/html": [
       "<pre>| 20      | 1m 42s       | 3.41687           | 1.30705               | 0.00271267  |</pre>"
      ],
      "text/plain": [
       "| 20      | 1m 42s       | 3.41687           | 1.30705               | 0.00271267  |"
      ]
     },
     "metadata": {},
     "output_type": "display_data"
    },
    {
     "data": {
      "text/html": [
       "<pre>| 21      | 1m 47s       | 3.31147           | 1.29933               | 0.00271267  |</pre>"
      ],
      "text/plain": [
       "| 21      | 1m 47s       | 3.31147           | 1.29933               | 0.00271267  |"
      ]
     },
     "metadata": {},
     "output_type": "display_data"
    },
    {
     "data": {
      "text/html": [
       "<pre>| 22      | 1m 52s       | 3.40255           | 1.31734               | 0.00271267  |</pre>"
      ],
      "text/plain": [
       "| 22      | 1m 52s       | 3.40255           | 1.31734               | 0.00271267  |"
      ]
     },
     "metadata": {},
     "output_type": "display_data"
    },
    {
     "data": {
      "text/html": [
       "<pre>| 23      | 1m 57s       | 3.46886           | 1.32435               | 0.00271267  |</pre>"
      ],
      "text/plain": [
       "| 23      | 1m 57s       | 3.46886           | 1.32435               | 0.00271267  |"
      ]
     },
     "metadata": {},
     "output_type": "display_data"
    },
    {
     "data": {
      "text/html": [
       "<pre>| 24      | 2m 2s        | 3.45995           | 1.31983               | 0.00271267  |</pre>"
      ],
      "text/plain": [
       "| 24      | 2m 2s        | 3.45995           | 1.31983               | 0.00271267  |"
      ]
     },
     "metadata": {},
     "output_type": "display_data"
    },
    {
     "data": {
      "text/html": [
       "<pre>| 25      | 2m 7s        | 3.55003           | 1.34122               | 0.00271267  |</pre>"
      ],
      "text/plain": [
       "| 25      | 2m 7s        | 3.55003           | 1.34122               | 0.00271267  |"
      ]
     },
     "metadata": {},
     "output_type": "display_data"
    },
    {
     "data": {
      "text/html": [
       "<pre>| 26      | 2m 12s       | 3.54392           | 1.34789               | 0.00271267  |</pre>"
      ],
      "text/plain": [
       "| 26      | 2m 12s       | 3.54392           | 1.34789               | 0.00271267  |"
      ]
     },
     "metadata": {},
     "output_type": "display_data"
    },
    {
     "data": {
      "text/html": [
       "<pre>| 27      | 2m 17s       | 3.58024           | 1.3559                | 0.00271267  |</pre>"
      ],
      "text/plain": [
       "| 27      | 2m 17s       | 3.58024           | 1.3559                | 0.00271267  |"
      ]
     },
     "metadata": {},
     "output_type": "display_data"
    },
    {
     "data": {
      "text/html": [
       "<pre>| 28      | 2m 22s       | 4.11042           | 1.52436               | 0.00271267  |</pre>"
      ],
      "text/plain": [
       "| 28      | 2m 22s       | 4.11042           | 1.52436               | 0.00271267  |"
      ]
     },
     "metadata": {},
     "output_type": "display_data"
    },
    {
     "data": {
      "text/html": [
       "<pre>| 29      | 2m 27s       | 3.6819            | 1.39329               | 0.00271267  |</pre>"
      ],
      "text/plain": [
       "| 29      | 2m 27s       | 3.6819            | 1.39329               | 0.00271267  |"
      ]
     },
     "metadata": {},
     "output_type": "display_data"
    },
    {
     "data": {
      "text/html": [
       "<pre>| 30      | 2m 32s       | 3.95347           | 1.47984               | 0.00271267  |</pre>"
      ],
      "text/plain": [
       "| 30      | 2m 32s       | 3.95347           | 1.47984               | 0.00271267  |"
      ]
     },
     "metadata": {},
     "output_type": "display_data"
    },
    {
     "data": {
      "text/html": [
       "<pre>| 31      | 2m 37s       | 3.81146           | 1.39117               | 0.00271267  |</pre>"
      ],
      "text/plain": [
       "| 31      | 2m 37s       | 3.81146           | 1.39117               | 0.00271267  |"
      ]
     },
     "metadata": {},
     "output_type": "display_data"
    },
    {
     "data": {
      "text/html": [
       "<pre>| 32      | 2m 42s       | 3.82933           | 1.42393               | 0.00271267  |</pre>"
      ],
      "text/plain": [
       "| 32      | 2m 42s       | 3.82933           | 1.42393               | 0.00271267  |"
      ]
     },
     "metadata": {},
     "output_type": "display_data"
    },
    {
     "data": {
      "text/html": [
       "<pre>| 33      | 2m 47s       | 3.79198           | 1.406                 | 0.00271267  |</pre>"
      ],
      "text/plain": [
       "| 33      | 2m 47s       | 3.79198           | 1.406                 | 0.00271267  |"
      ]
     },
     "metadata": {},
     "output_type": "display_data"
    },
    {
     "data": {
      "text/html": [
       "<pre>| 34      | 2m 52s       | 3.90728           | 1.41852               | 0.00271267  |</pre>"
      ],
      "text/plain": [
       "| 34      | 2m 52s       | 3.90728           | 1.41852               | 0.00271267  |"
      ]
     },
     "metadata": {},
     "output_type": "display_data"
    },
    {
     "data": {
      "text/html": [
       "<pre>| 35      | 2m 57s       | 3.90874           | 1.43866               | 0.00271267  |</pre>"
      ],
      "text/plain": [
       "| 35      | 2m 57s       | 3.90874           | 1.43866               | 0.00271267  |"
      ]
     },
     "metadata": {},
     "output_type": "display_data"
    },
    {
     "data": {
      "text/html": [
       "<pre>| 36      | 3m 2s        | 4.00474           | 1.45242               | 0.00271267  |</pre>"
      ],
      "text/plain": [
       "| 36      | 3m 2s        | 4.00474           | 1.45242               | 0.00271267  |"
      ]
     },
     "metadata": {},
     "output_type": "display_data"
    },
    {
     "data": {
      "text/html": [
       "<pre>| 37      | 3m 6s        | 4.09325           | 1.46077               | 0.00271267  |</pre>"
      ],
      "text/plain": [
       "| 37      | 3m 6s        | 4.09325           | 1.46077               | 0.00271267  |"
      ]
     },
     "metadata": {},
     "output_type": "display_data"
    },
    {
     "data": {
      "text/html": [
       "<pre>| 38      | 3m 13s       | DIVERGED          | DIVERGED              | 0.00271267  |</pre>"
      ],
      "text/plain": [
       "| 38      | 3m 13s       | DIVERGED          | DIVERGED              | 0.00271267  |"
      ]
     },
     "metadata": {},
     "output_type": "display_data"
    },
    {
     "data": {
      "text/html": [
       "<pre>| RESET   | 3m 16s       | 3.36631           | 1.31033               |             |</pre>"
      ],
      "text/plain": [
       "| RESET   | 3m 16s       | 3.36631           | 1.31033               |             |"
      ]
     },
     "metadata": {},
     "output_type": "display_data"
    },
    {
     "data": {
      "text/html": [
       "<pre>| 1       | 3m 21s       | 3.3729            | 1.31322               | 0.00135634  |</pre>"
      ],
      "text/plain": [
       "| 1       | 3m 21s       | 3.3729            | 1.31322               | 0.00135634  |"
      ]
     },
     "metadata": {},
     "output_type": "display_data"
    },
    {
     "data": {
      "text/html": [
       "<pre>| 2       | 3m 26s       | 3.31981           | 1.2974                | 0.00135634  |</pre>"
      ],
      "text/plain": [
       "| 2       | 3m 26s       | 3.31981           | 1.2974                | 0.00135634  |"
      ]
     },
     "metadata": {},
     "output_type": "display_data"
    },
    {
     "data": {
      "text/html": [
       "<pre>| 3       | 3m 31s       | 3.31945           | 1.29599               | 0.00135634  |</pre>"
      ],
      "text/plain": [
       "| 3       | 3m 31s       | 3.31945           | 1.29599               | 0.00135634  |"
      ]
     },
     "metadata": {},
     "output_type": "display_data"
    },
    {
     "data": {
      "text/html": [
       "<pre>| 4       | 3m 36s       | 3.29627           | 1.2894                | 0.00135634  |</pre>"
      ],
      "text/plain": [
       "| 4       | 3m 36s       | 3.29627           | 1.2894                | 0.00135634  |"
      ]
     },
     "metadata": {},
     "output_type": "display_data"
    },
    {
     "data": {
      "text/html": [
       "<pre>| 5       | 3m 41s       | 3.28745           | 1.28787               | 0.00135634  |</pre>"
      ],
      "text/plain": [
       "| 5       | 3m 41s       | 3.28745           | 1.28787               | 0.00135634  |"
      ]
     },
     "metadata": {},
     "output_type": "display_data"
    },
    {
     "data": {
      "text/html": [
       "<pre>| 6       | 3m 46s       | 3.27784           | 1.28582               | 0.00135634  |</pre>"
      ],
      "text/plain": [
       "| 6       | 3m 46s       | 3.27784           | 1.28582               | 0.00135634  |"
      ]
     },
     "metadata": {},
     "output_type": "display_data"
    },
    {
     "data": {
      "text/html": [
       "<pre>| 7       | 3m 51s       | 3.26411           | 1.28275               | 0.00135634  |</pre>"
      ],
      "text/plain": [
       "| 7       | 3m 51s       | 3.26411           | 1.28275               | 0.00135634  |"
      ]
     },
     "metadata": {},
     "output_type": "display_data"
    },
    {
     "data": {
      "text/html": [
       "<pre>| 8       | 3m 56s       | 3.23157           | 1.27237               | 0.00135634  |</pre>"
      ],
      "text/plain": [
       "| 8       | 3m 56s       | 3.23157           | 1.27237               | 0.00135634  |"
      ]
     },
     "metadata": {},
     "output_type": "display_data"
    },
    {
     "data": {
      "text/html": [
       "<pre>| 9       | 4m 1s        | 3.20226           | 1.26282               | 0.00135634  |</pre>"
      ],
      "text/plain": [
       "| 9       | 4m 1s        | 3.20226           | 1.26282               | 0.00135634  |"
      ]
     },
     "metadata": {},
     "output_type": "display_data"
    },
    {
     "data": {
      "text/html": [
       "<pre>| 10      | 4m 6s        | 3.19926           | 1.26345               | 0.00135634  |</pre>"
      ],
      "text/plain": [
       "| 10      | 4m 6s        | 3.19926           | 1.26345               | 0.00135634  |"
      ]
     },
     "metadata": {},
     "output_type": "display_data"
    },
    {
     "data": {
      "text/html": [
       "<pre>| 11      | 4m 11s       | 3.16788           | 1.25341               | 0.00135634  |</pre>"
      ],
      "text/plain": [
       "| 11      | 4m 11s       | 3.16788           | 1.25341               | 0.00135634  |"
      ]
     },
     "metadata": {},
     "output_type": "display_data"
    },
    {
     "data": {
      "text/html": [
       "<pre>| 12      | 4m 16s       | 3.15151           | 1.24638               | 0.00135634  |</pre>"
      ],
      "text/plain": [
       "| 12      | 4m 16s       | 3.15151           | 1.24638               | 0.00135634  |"
      ]
     },
     "metadata": {},
     "output_type": "display_data"
    },
    {
     "data": {
      "text/html": [
       "<pre>+---------+--------------+-------------------+-----------------------+-------------+</pre>"
      ],
      "text/plain": [
       "+---------+--------------+-------------------+-----------------------+-------------+"
      ]
     },
     "metadata": {},
     "output_type": "display_data"
    },
    {
     "data": {
      "text/html": [
       "<pre>Optimization Complete: Maximum number of passes through the data reached (hard limit).</pre>"
      ],
      "text/plain": [
       "Optimization Complete: Maximum number of passes through the data reached (hard limit)."
      ]
     },
     "metadata": {},
     "output_type": "display_data"
    },
    {
     "data": {
      "text/html": [
       "<pre>Computing final objective value and training RMSE.</pre>"
      ],
      "text/plain": [
       "Computing final objective value and training RMSE."
      ]
     },
     "metadata": {},
     "output_type": "display_data"
    },
    {
     "data": {
      "text/html": [
       "<pre>       Final objective value: 3.12731</pre>"
      ],
      "text/plain": [
       "       Final objective value: 3.12731"
      ]
     },
     "metadata": {},
     "output_type": "display_data"
    },
    {
     "data": {
      "text/html": [
       "<pre>       Final training RMSE: 1.23943</pre>"
      ],
      "text/plain": [
       "       Final training RMSE: 1.23943"
      ]
     },
     "metadata": {},
     "output_type": "display_data"
    }
   ],
   "source": [
    "model2 = graphlab.ranking_factorization_recommender.create(training_set, user_id='UserId', item_id='ProductId', target='Score', \n",
    "                                                           num_factors=70, max_iterations=45, regularization=1e-005)"
   ]
  },
  {
   "cell_type": "markdown",
   "metadata": {},
   "source": [
    "### Evaluation on test set"
   ]
  },
  {
   "cell_type": "code",
   "execution_count": 14,
   "metadata": {
    "collapsed": true
   },
   "outputs": [
    {
     "data": {
      "text/html": [
       "<pre>recommendations finished on 1000/79014 queries. users per second: 122.891</pre>"
      ],
      "text/plain": [
       "recommendations finished on 1000/79014 queries. users per second: 122.891"
      ]
     },
     "metadata": {},
     "output_type": "display_data"
    },
    {
     "data": {
      "text/html": [
       "<pre>recommendations finished on 2000/79014 queries. users per second: 123.74</pre>"
      ],
      "text/plain": [
       "recommendations finished on 2000/79014 queries. users per second: 123.74"
      ]
     },
     "metadata": {},
     "output_type": "display_data"
    },
    {
     "data": {
      "text/html": [
       "<pre>recommendations finished on 3000/79014 queries. users per second: 124.884</pre>"
      ],
      "text/plain": [
       "recommendations finished on 3000/79014 queries. users per second: 124.884"
      ]
     },
     "metadata": {},
     "output_type": "display_data"
    },
    {
     "data": {
      "text/html": [
       "<pre>recommendations finished on 4000/79014 queries. users per second: 127.03</pre>"
      ],
      "text/plain": [
       "recommendations finished on 4000/79014 queries. users per second: 127.03"
      ]
     },
     "metadata": {},
     "output_type": "display_data"
    },
    {
     "data": {
      "text/html": [
       "<pre>recommendations finished on 5000/79014 queries. users per second: 128.825</pre>"
      ],
      "text/plain": [
       "recommendations finished on 5000/79014 queries. users per second: 128.825"
      ]
     },
     "metadata": {},
     "output_type": "display_data"
    },
    {
     "data": {
      "text/html": [
       "<pre>recommendations finished on 6000/79014 queries. users per second: 130.378</pre>"
      ],
      "text/plain": [
       "recommendations finished on 6000/79014 queries. users per second: 130.378"
      ]
     },
     "metadata": {},
     "output_type": "display_data"
    },
    {
     "data": {
      "text/html": [
       "<pre>recommendations finished on 7000/79014 queries. users per second: 131.67</pre>"
      ],
      "text/plain": [
       "recommendations finished on 7000/79014 queries. users per second: 131.67"
      ]
     },
     "metadata": {},
     "output_type": "display_data"
    },
    {
     "data": {
      "text/html": [
       "<pre>recommendations finished on 8000/79014 queries. users per second: 132.699</pre>"
      ],
      "text/plain": [
       "recommendations finished on 8000/79014 queries. users per second: 132.699"
      ]
     },
     "metadata": {},
     "output_type": "display_data"
    },
    {
     "data": {
      "text/html": [
       "<pre>recommendations finished on 9000/79014 queries. users per second: 132.88</pre>"
      ],
      "text/plain": [
       "recommendations finished on 9000/79014 queries. users per second: 132.88"
      ]
     },
     "metadata": {},
     "output_type": "display_data"
    },
    {
     "data": {
      "text/html": [
       "<pre>recommendations finished on 10000/79014 queries. users per second: 133.65</pre>"
      ],
      "text/plain": [
       "recommendations finished on 10000/79014 queries. users per second: 133.65"
      ]
     },
     "metadata": {},
     "output_type": "display_data"
    },
    {
     "data": {
      "text/html": [
       "<pre>recommendations finished on 11000/79014 queries. users per second: 134.185</pre>"
      ],
      "text/plain": [
       "recommendations finished on 11000/79014 queries. users per second: 134.185"
      ]
     },
     "metadata": {},
     "output_type": "display_data"
    },
    {
     "data": {
      "text/html": [
       "<pre>recommendations finished on 12000/79014 queries. users per second: 134.344</pre>"
      ],
      "text/plain": [
       "recommendations finished on 12000/79014 queries. users per second: 134.344"
      ]
     },
     "metadata": {},
     "output_type": "display_data"
    },
    {
     "data": {
      "text/html": [
       "<pre>recommendations finished on 13000/79014 queries. users per second: 134.316</pre>"
      ],
      "text/plain": [
       "recommendations finished on 13000/79014 queries. users per second: 134.316"
      ]
     },
     "metadata": {},
     "output_type": "display_data"
    },
    {
     "data": {
      "text/html": [
       "<pre>recommendations finished on 14000/79014 queries. users per second: 134.323</pre>"
      ],
      "text/plain": [
       "recommendations finished on 14000/79014 queries. users per second: 134.323"
      ]
     },
     "metadata": {},
     "output_type": "display_data"
    },
    {
     "data": {
      "text/html": [
       "<pre>recommendations finished on 15000/79014 queries. users per second: 134.641</pre>"
      ],
      "text/plain": [
       "recommendations finished on 15000/79014 queries. users per second: 134.641"
      ]
     },
     "metadata": {},
     "output_type": "display_data"
    },
    {
     "data": {
      "text/html": [
       "<pre>recommendations finished on 16000/79014 queries. users per second: 134.742</pre>"
      ],
      "text/plain": [
       "recommendations finished on 16000/79014 queries. users per second: 134.742"
      ]
     },
     "metadata": {},
     "output_type": "display_data"
    },
    {
     "data": {
      "text/html": [
       "<pre>recommendations finished on 17000/79014 queries. users per second: 135.182</pre>"
      ],
      "text/plain": [
       "recommendations finished on 17000/79014 queries. users per second: 135.182"
      ]
     },
     "metadata": {},
     "output_type": "display_data"
    },
    {
     "data": {
      "text/html": [
       "<pre>recommendations finished on 18000/79014 queries. users per second: 135.457</pre>"
      ],
      "text/plain": [
       "recommendations finished on 18000/79014 queries. users per second: 135.457"
      ]
     },
     "metadata": {},
     "output_type": "display_data"
    },
    {
     "data": {
      "text/html": [
       "<pre>recommendations finished on 19000/79014 queries. users per second: 135.843</pre>"
      ],
      "text/plain": [
       "recommendations finished on 19000/79014 queries. users per second: 135.843"
      ]
     },
     "metadata": {},
     "output_type": "display_data"
    },
    {
     "data": {
      "text/html": [
       "<pre>recommendations finished on 20000/79014 queries. users per second: 136.105</pre>"
      ],
      "text/plain": [
       "recommendations finished on 20000/79014 queries. users per second: 136.105"
      ]
     },
     "metadata": {},
     "output_type": "display_data"
    },
    {
     "data": {
      "text/html": [
       "<pre>recommendations finished on 21000/79014 queries. users per second: 136.046</pre>"
      ],
      "text/plain": [
       "recommendations finished on 21000/79014 queries. users per second: 136.046"
      ]
     },
     "metadata": {},
     "output_type": "display_data"
    },
    {
     "data": {
      "text/html": [
       "<pre>recommendations finished on 22000/79014 queries. users per second: 136.026</pre>"
      ],
      "text/plain": [
       "recommendations finished on 22000/79014 queries. users per second: 136.026"
      ]
     },
     "metadata": {},
     "output_type": "display_data"
    },
    {
     "data": {
      "text/html": [
       "<pre>recommendations finished on 23000/79014 queries. users per second: 136.147</pre>"
      ],
      "text/plain": [
       "recommendations finished on 23000/79014 queries. users per second: 136.147"
      ]
     },
     "metadata": {},
     "output_type": "display_data"
    },
    {
     "data": {
      "text/html": [
       "<pre>recommendations finished on 24000/79014 queries. users per second: 136.214</pre>"
      ],
      "text/plain": [
       "recommendations finished on 24000/79014 queries. users per second: 136.214"
      ]
     },
     "metadata": {},
     "output_type": "display_data"
    },
    {
     "data": {
      "text/html": [
       "<pre>recommendations finished on 25000/79014 queries. users per second: 136.416</pre>"
      ],
      "text/plain": [
       "recommendations finished on 25000/79014 queries. users per second: 136.416"
      ]
     },
     "metadata": {},
     "output_type": "display_data"
    },
    {
     "data": {
      "text/html": [
       "<pre>recommendations finished on 26000/79014 queries. users per second: 136.463</pre>"
      ],
      "text/plain": [
       "recommendations finished on 26000/79014 queries. users per second: 136.463"
      ]
     },
     "metadata": {},
     "output_type": "display_data"
    },
    {
     "data": {
      "text/html": [
       "<pre>recommendations finished on 27000/79014 queries. users per second: 136.511</pre>"
      ],
      "text/plain": [
       "recommendations finished on 27000/79014 queries. users per second: 136.511"
      ]
     },
     "metadata": {},
     "output_type": "display_data"
    },
    {
     "data": {
      "text/html": [
       "<pre>recommendations finished on 28000/79014 queries. users per second: 136.489</pre>"
      ],
      "text/plain": [
       "recommendations finished on 28000/79014 queries. users per second: 136.489"
      ]
     },
     "metadata": {},
     "output_type": "display_data"
    },
    {
     "data": {
      "text/html": [
       "<pre>recommendations finished on 29000/79014 queries. users per second: 136.661</pre>"
      ],
      "text/plain": [
       "recommendations finished on 29000/79014 queries. users per second: 136.661"
      ]
     },
     "metadata": {},
     "output_type": "display_data"
    },
    {
     "data": {
      "text/html": [
       "<pre>recommendations finished on 30000/79014 queries. users per second: 136.749</pre>"
      ],
      "text/plain": [
       "recommendations finished on 30000/79014 queries. users per second: 136.749"
      ]
     },
     "metadata": {},
     "output_type": "display_data"
    },
    {
     "data": {
      "text/html": [
       "<pre>recommendations finished on 31000/79014 queries. users per second: 136.48</pre>"
      ],
      "text/plain": [
       "recommendations finished on 31000/79014 queries. users per second: 136.48"
      ]
     },
     "metadata": {},
     "output_type": "display_data"
    },
    {
     "data": {
      "text/html": [
       "<pre>recommendations finished on 32000/79014 queries. users per second: 136.476</pre>"
      ],
      "text/plain": [
       "recommendations finished on 32000/79014 queries. users per second: 136.476"
      ]
     },
     "metadata": {},
     "output_type": "display_data"
    },
    {
     "data": {
      "text/html": [
       "<pre>recommendations finished on 33000/79014 queries. users per second: 136.457</pre>"
      ],
      "text/plain": [
       "recommendations finished on 33000/79014 queries. users per second: 136.457"
      ]
     },
     "metadata": {},
     "output_type": "display_data"
    },
    {
     "data": {
      "text/html": [
       "<pre>recommendations finished on 34000/79014 queries. users per second: 136.456</pre>"
      ],
      "text/plain": [
       "recommendations finished on 34000/79014 queries. users per second: 136.456"
      ]
     },
     "metadata": {},
     "output_type": "display_data"
    },
    {
     "data": {
      "text/html": [
       "<pre>recommendations finished on 35000/79014 queries. users per second: 136.52</pre>"
      ],
      "text/plain": [
       "recommendations finished on 35000/79014 queries. users per second: 136.52"
      ]
     },
     "metadata": {},
     "output_type": "display_data"
    },
    {
     "data": {
      "text/html": [
       "<pre>recommendations finished on 36000/79014 queries. users per second: 136.457</pre>"
      ],
      "text/plain": [
       "recommendations finished on 36000/79014 queries. users per second: 136.457"
      ]
     },
     "metadata": {},
     "output_type": "display_data"
    },
    {
     "data": {
      "text/html": [
       "<pre>recommendations finished on 37000/79014 queries. users per second: 136.48</pre>"
      ],
      "text/plain": [
       "recommendations finished on 37000/79014 queries. users per second: 136.48"
      ]
     },
     "metadata": {},
     "output_type": "display_data"
    },
    {
     "data": {
      "text/html": [
       "<pre>recommendations finished on 38000/79014 queries. users per second: 136.51</pre>"
      ],
      "text/plain": [
       "recommendations finished on 38000/79014 queries. users per second: 136.51"
      ]
     },
     "metadata": {},
     "output_type": "display_data"
    },
    {
     "data": {
      "text/html": [
       "<pre>recommendations finished on 39000/79014 queries. users per second: 136.596</pre>"
      ],
      "text/plain": [
       "recommendations finished on 39000/79014 queries. users per second: 136.596"
      ]
     },
     "metadata": {},
     "output_type": "display_data"
    },
    {
     "data": {
      "text/html": [
       "<pre>recommendations finished on 40000/79014 queries. users per second: 136.67</pre>"
      ],
      "text/plain": [
       "recommendations finished on 40000/79014 queries. users per second: 136.67"
      ]
     },
     "metadata": {},
     "output_type": "display_data"
    },
    {
     "data": {
      "text/html": [
       "<pre>recommendations finished on 41000/79014 queries. users per second: 136.735</pre>"
      ],
      "text/plain": [
       "recommendations finished on 41000/79014 queries. users per second: 136.735"
      ]
     },
     "metadata": {},
     "output_type": "display_data"
    },
    {
     "data": {
      "text/html": [
       "<pre>recommendations finished on 42000/79014 queries. users per second: 136.729</pre>"
      ],
      "text/plain": [
       "recommendations finished on 42000/79014 queries. users per second: 136.729"
      ]
     },
     "metadata": {},
     "output_type": "display_data"
    },
    {
     "data": {
      "text/html": [
       "<pre>recommendations finished on 43000/79014 queries. users per second: 136.771</pre>"
      ],
      "text/plain": [
       "recommendations finished on 43000/79014 queries. users per second: 136.771"
      ]
     },
     "metadata": {},
     "output_type": "display_data"
    },
    {
     "data": {
      "text/html": [
       "<pre>recommendations finished on 44000/79014 queries. users per second: 136.89</pre>"
      ],
      "text/plain": [
       "recommendations finished on 44000/79014 queries. users per second: 136.89"
      ]
     },
     "metadata": {},
     "output_type": "display_data"
    },
    {
     "data": {
      "text/html": [
       "<pre>recommendations finished on 45000/79014 queries. users per second: 136.903</pre>"
      ],
      "text/plain": [
       "recommendations finished on 45000/79014 queries. users per second: 136.903"
      ]
     },
     "metadata": {},
     "output_type": "display_data"
    },
    {
     "data": {
      "text/html": [
       "<pre>recommendations finished on 46000/79014 queries. users per second: 136.648</pre>"
      ],
      "text/plain": [
       "recommendations finished on 46000/79014 queries. users per second: 136.648"
      ]
     },
     "metadata": {},
     "output_type": "display_data"
    },
    {
     "data": {
      "text/html": [
       "<pre>recommendations finished on 47000/79014 queries. users per second: 136.626</pre>"
      ],
      "text/plain": [
       "recommendations finished on 47000/79014 queries. users per second: 136.626"
      ]
     },
     "metadata": {},
     "output_type": "display_data"
    },
    {
     "data": {
      "text/html": [
       "<pre>recommendations finished on 48000/79014 queries. users per second: 136.489</pre>"
      ],
      "text/plain": [
       "recommendations finished on 48000/79014 queries. users per second: 136.489"
      ]
     },
     "metadata": {},
     "output_type": "display_data"
    },
    {
     "data": {
      "text/html": [
       "<pre>recommendations finished on 49000/79014 queries. users per second: 136.347</pre>"
      ],
      "text/plain": [
       "recommendations finished on 49000/79014 queries. users per second: 136.347"
      ]
     },
     "metadata": {},
     "output_type": "display_data"
    },
    {
     "data": {
      "text/html": [
       "<pre>recommendations finished on 50000/79014 queries. users per second: 136.389</pre>"
      ],
      "text/plain": [
       "recommendations finished on 50000/79014 queries. users per second: 136.389"
      ]
     },
     "metadata": {},
     "output_type": "display_data"
    },
    {
     "data": {
      "text/html": [
       "<pre>recommendations finished on 51000/79014 queries. users per second: 136.465</pre>"
      ],
      "text/plain": [
       "recommendations finished on 51000/79014 queries. users per second: 136.465"
      ]
     },
     "metadata": {},
     "output_type": "display_data"
    },
    {
     "data": {
      "text/html": [
       "<pre>recommendations finished on 52000/79014 queries. users per second: 136.502</pre>"
      ],
      "text/plain": [
       "recommendations finished on 52000/79014 queries. users per second: 136.502"
      ]
     },
     "metadata": {},
     "output_type": "display_data"
    },
    {
     "data": {
      "text/html": [
       "<pre>recommendations finished on 53000/79014 queries. users per second: 136.551</pre>"
      ],
      "text/plain": [
       "recommendations finished on 53000/79014 queries. users per second: 136.551"
      ]
     },
     "metadata": {},
     "output_type": "display_data"
    },
    {
     "data": {
      "text/html": [
       "<pre>recommendations finished on 54000/79014 queries. users per second: 136.595</pre>"
      ],
      "text/plain": [
       "recommendations finished on 54000/79014 queries. users per second: 136.595"
      ]
     },
     "metadata": {},
     "output_type": "display_data"
    },
    {
     "data": {
      "text/html": [
       "<pre>recommendations finished on 55000/79014 queries. users per second: 136.665</pre>"
      ],
      "text/plain": [
       "recommendations finished on 55000/79014 queries. users per second: 136.665"
      ]
     },
     "metadata": {},
     "output_type": "display_data"
    },
    {
     "data": {
      "text/html": [
       "<pre>recommendations finished on 56000/79014 queries. users per second: 136.706</pre>"
      ],
      "text/plain": [
       "recommendations finished on 56000/79014 queries. users per second: 136.706"
      ]
     },
     "metadata": {},
     "output_type": "display_data"
    },
    {
     "data": {
      "text/html": [
       "<pre>recommendations finished on 57000/79014 queries. users per second: 136.747</pre>"
      ],
      "text/plain": [
       "recommendations finished on 57000/79014 queries. users per second: 136.747"
      ]
     },
     "metadata": {},
     "output_type": "display_data"
    },
    {
     "data": {
      "text/html": [
       "<pre>recommendations finished on 58000/79014 queries. users per second: 136.77</pre>"
      ],
      "text/plain": [
       "recommendations finished on 58000/79014 queries. users per second: 136.77"
      ]
     },
     "metadata": {},
     "output_type": "display_data"
    },
    {
     "data": {
      "text/html": [
       "<pre>recommendations finished on 59000/79014 queries. users per second: 136.807</pre>"
      ],
      "text/plain": [
       "recommendations finished on 59000/79014 queries. users per second: 136.807"
      ]
     },
     "metadata": {},
     "output_type": "display_data"
    },
    {
     "data": {
      "text/html": [
       "<pre>recommendations finished on 60000/79014 queries. users per second: 136.847</pre>"
      ],
      "text/plain": [
       "recommendations finished on 60000/79014 queries. users per second: 136.847"
      ]
     },
     "metadata": {},
     "output_type": "display_data"
    },
    {
     "data": {
      "text/html": [
       "<pre>recommendations finished on 61000/79014 queries. users per second: 136.874</pre>"
      ],
      "text/plain": [
       "recommendations finished on 61000/79014 queries. users per second: 136.874"
      ]
     },
     "metadata": {},
     "output_type": "display_data"
    },
    {
     "data": {
      "text/html": [
       "<pre>recommendations finished on 62000/79014 queries. users per second: 136.904</pre>"
      ],
      "text/plain": [
       "recommendations finished on 62000/79014 queries. users per second: 136.904"
      ]
     },
     "metadata": {},
     "output_type": "display_data"
    },
    {
     "data": {
      "text/html": [
       "<pre>recommendations finished on 63000/79014 queries. users per second: 136.929</pre>"
      ],
      "text/plain": [
       "recommendations finished on 63000/79014 queries. users per second: 136.929"
      ]
     },
     "metadata": {},
     "output_type": "display_data"
    },
    {
     "data": {
      "text/html": [
       "<pre>recommendations finished on 64000/79014 queries. users per second: 136.875</pre>"
      ],
      "text/plain": [
       "recommendations finished on 64000/79014 queries. users per second: 136.875"
      ]
     },
     "metadata": {},
     "output_type": "display_data"
    },
    {
     "data": {
      "text/html": [
       "<pre>recommendations finished on 65000/79014 queries. users per second: 136.894</pre>"
      ],
      "text/plain": [
       "recommendations finished on 65000/79014 queries. users per second: 136.894"
      ]
     },
     "metadata": {},
     "output_type": "display_data"
    },
    {
     "data": {
      "text/html": [
       "<pre>recommendations finished on 66000/79014 queries. users per second: 136.959</pre>"
      ],
      "text/plain": [
       "recommendations finished on 66000/79014 queries. users per second: 136.959"
      ]
     },
     "metadata": {},
     "output_type": "display_data"
    },
    {
     "data": {
      "text/html": [
       "<pre>recommendations finished on 67000/79014 queries. users per second: 137.027</pre>"
      ],
      "text/plain": [
       "recommendations finished on 67000/79014 queries. users per second: 137.027"
      ]
     },
     "metadata": {},
     "output_type": "display_data"
    },
    {
     "data": {
      "text/html": [
       "<pre>recommendations finished on 68000/79014 queries. users per second: 137.008</pre>"
      ],
      "text/plain": [
       "recommendations finished on 68000/79014 queries. users per second: 137.008"
      ]
     },
     "metadata": {},
     "output_type": "display_data"
    },
    {
     "data": {
      "text/html": [
       "<pre>recommendations finished on 69000/79014 queries. users per second: 136.957</pre>"
      ],
      "text/plain": [
       "recommendations finished on 69000/79014 queries. users per second: 136.957"
      ]
     },
     "metadata": {},
     "output_type": "display_data"
    },
    {
     "data": {
      "text/html": [
       "<pre>recommendations finished on 70000/79014 queries. users per second: 136.931</pre>"
      ],
      "text/plain": [
       "recommendations finished on 70000/79014 queries. users per second: 136.931"
      ]
     },
     "metadata": {},
     "output_type": "display_data"
    },
    {
     "data": {
      "text/html": [
       "<pre>recommendations finished on 71000/79014 queries. users per second: 136.957</pre>"
      ],
      "text/plain": [
       "recommendations finished on 71000/79014 queries. users per second: 136.957"
      ]
     },
     "metadata": {},
     "output_type": "display_data"
    },
    {
     "data": {
      "text/html": [
       "<pre>recommendations finished on 72000/79014 queries. users per second: 136.989</pre>"
      ],
      "text/plain": [
       "recommendations finished on 72000/79014 queries. users per second: 136.989"
      ]
     },
     "metadata": {},
     "output_type": "display_data"
    },
    {
     "data": {
      "text/html": [
       "<pre>recommendations finished on 73000/79014 queries. users per second: 137.016</pre>"
      ],
      "text/plain": [
       "recommendations finished on 73000/79014 queries. users per second: 137.016"
      ]
     },
     "metadata": {},
     "output_type": "display_data"
    },
    {
     "data": {
      "text/html": [
       "<pre>recommendations finished on 74000/79014 queries. users per second: 136.968</pre>"
      ],
      "text/plain": [
       "recommendations finished on 74000/79014 queries. users per second: 136.968"
      ]
     },
     "metadata": {},
     "output_type": "display_data"
    },
    {
     "data": {
      "text/html": [
       "<pre>recommendations finished on 75000/79014 queries. users per second: 136.942</pre>"
      ],
      "text/plain": [
       "recommendations finished on 75000/79014 queries. users per second: 136.942"
      ]
     },
     "metadata": {},
     "output_type": "display_data"
    },
    {
     "data": {
      "text/html": [
       "<pre>recommendations finished on 76000/79014 queries. users per second: 136.77</pre>"
      ],
      "text/plain": [
       "recommendations finished on 76000/79014 queries. users per second: 136.77"
      ]
     },
     "metadata": {},
     "output_type": "display_data"
    },
    {
     "data": {
      "text/html": [
       "<pre>recommendations finished on 77000/79014 queries. users per second: 136.404</pre>"
      ],
      "text/plain": [
       "recommendations finished on 77000/79014 queries. users per second: 136.404"
      ]
     },
     "metadata": {},
     "output_type": "display_data"
    },
    {
     "data": {
      "text/html": [
       "<pre>recommendations finished on 78000/79014 queries. users per second: 136.325</pre>"
      ],
      "text/plain": [
       "recommendations finished on 78000/79014 queries. users per second: 136.325"
      ]
     },
     "metadata": {},
     "output_type": "display_data"
    },
    {
     "data": {
      "text/html": [
       "<pre>recommendations finished on 79000/79014 queries. users per second: 136.04</pre>"
      ],
      "text/plain": [
       "recommendations finished on 79000/79014 queries. users per second: 136.04"
      ]
     },
     "metadata": {},
     "output_type": "display_data"
    },
    {
     "name": "stdout",
     "output_type": "stream",
     "text": [
      "\n",
      "Precision and recall summary statistics by cutoff\n",
      "+--------+------------------+------------------+\n",
      "| cutoff |  mean_precision  |   mean_recall    |\n",
      "+--------+------------------+------------------+\n",
      "|   1    | 0.00143012630673 | 0.00121760118058 |\n",
      "|   2    | 0.00175918191713 | 0.00317906792487 |\n",
      "|   3    | 0.00170855797707 | 0.00459371621761 |\n",
      "|   4    | 0.00166426202951 | 0.0059485092802  |\n",
      "|   5    | 0.00177436909915 | 0.00769294094812 |\n",
      "|   6    | 0.00156723281106 | 0.00793720145892 |\n",
      "|   7    | 0.00136503838379 | 0.00802274989096 |\n",
      "|   8    | 0.00128300048093 | 0.00862900170649 |\n",
      "|   9    | 0.00159043545026 | 0.0117049484646  |\n",
      "|   10   | 0.00155668615688 | 0.0122425424477  |\n",
      "+--------+------------------+------------------+\n",
      "[10 rows x 3 columns]\n",
      "\n",
      "('\\nOverall RMSE: ', 1.2719582590249225)\n",
      "\n",
      "Per User RMSE (best)\n",
      "+---------------+-------+-------------------+\n",
      "|     UserId    | count |        rmse       |\n",
      "+---------------+-------+-------------------+\n",
      "| AVEJUQGPHHWEJ |   1   | 6.75178817513e-05 |\n",
      "+---------------+-------+-------------------+\n",
      "[1 rows x 3 columns]\n",
      "\n",
      "\n",
      "Per User RMSE (worst)\n",
      "+----------------+-------+---------------+\n",
      "|     UserId     | count |      rmse     |\n",
      "+----------------+-------+---------------+\n",
      "| A2DH3QCVOS8XCY |   1   | 11.9064369267 |\n",
      "+----------------+-------+---------------+\n",
      "[1 rows x 3 columns]\n",
      "\n",
      "\n",
      "Per Item RMSE (best)\n",
      "+------------+-------+-------------------+\n",
      "| ProductId  | count |        rmse       |\n",
      "+------------+-------+-------------------+\n",
      "| B003GTOJDQ |   1   | 0.000284278893799 |\n",
      "+------------+-------+-------------------+\n",
      "[1 rows x 3 columns]\n",
      "\n",
      "\n",
      "Per Item RMSE (worst)\n",
      "+------------+-------+---------------+\n",
      "| ProductId  | count |      rmse     |\n",
      "+------------+-------+---------------+\n",
      "| B0005Z7PI0 |   5   | 4.78895483053 |\n",
      "+------------+-------+---------------+\n",
      "[1 rows x 3 columns]\n",
      "\n"
     ]
    },
    {
     "data": {
      "text/plain": [
       "{'precision_recall_by_user': Columns:\n",
       " \tUserId\tstr\n",
       " \tcutoff\tint\n",
       " \tprecision\tfloat\n",
       " \trecall\tfloat\n",
       " \tcount\tint\n",
       " \n",
       " Rows: 1422252\n",
       " \n",
       " Data:\n",
       " +--------------------+--------+-----------+--------+-------+\n",
       " |       UserId       | cutoff | precision | recall | count |\n",
       " +--------------------+--------+-----------+--------+-------+\n",
       " | #oc-R103C0QSV1DF5E |   1    |    0.0    |  0.0   |   1   |\n",
       " | #oc-R103C0QSV1DF5E |   2    |    0.0    |  0.0   |   1   |\n",
       " | #oc-R103C0QSV1DF5E |   3    |    0.0    |  0.0   |   1   |\n",
       " | #oc-R103C0QSV1DF5E |   4    |    0.0    |  0.0   |   1   |\n",
       " | #oc-R103C0QSV1DF5E |   5    |    0.0    |  0.0   |   1   |\n",
       " | #oc-R103C0QSV1DF5E |   6    |    0.0    |  0.0   |   1   |\n",
       " | #oc-R103C0QSV1DF5E |   7    |    0.0    |  0.0   |   1   |\n",
       " | #oc-R103C0QSV1DF5E |   8    |    0.0    |  0.0   |   1   |\n",
       " | #oc-R103C0QSV1DF5E |   9    |    0.0    |  0.0   |   1   |\n",
       " | #oc-R103C0QSV1DF5E |   10   |    0.0    |  0.0   |   1   |\n",
       " +--------------------+--------+-----------+--------+-------+\n",
       " [1422252 rows x 5 columns]\n",
       " Note: Only the head of the SFrame is printed.\n",
       " You can use print_rows(num_rows=m, num_columns=n) to print more rows and columns.,\n",
       " 'precision_recall_overall': Columns:\n",
       " \tcutoff\tint\n",
       " \tprecision\tfloat\n",
       " \trecall\tfloat\n",
       " \n",
       " Rows: 18\n",
       " \n",
       " Data:\n",
       " +--------+------------------+------------------+\n",
       " | cutoff |    precision     |      recall      |\n",
       " +--------+------------------+------------------+\n",
       " |   1    | 0.00143012630673 | 0.00121760118058 |\n",
       " |   2    | 0.00175918191713 | 0.00317906792487 |\n",
       " |   3    | 0.00170855797707 | 0.00459371621761 |\n",
       " |   4    | 0.00166426202951 | 0.0059485092802  |\n",
       " |   5    | 0.00177436909915 | 0.00769294094812 |\n",
       " |   6    | 0.00156723281106 | 0.00793720145892 |\n",
       " |   7    | 0.00136503838379 | 0.00802274989096 |\n",
       " |   8    | 0.00128300048093 | 0.00862900170649 |\n",
       " |   9    | 0.00159043545026 | 0.0117049484646  |\n",
       " |   10   | 0.00155668615688 | 0.0122425424477  |\n",
       " +--------+------------------+------------------+\n",
       " [18 rows x 3 columns]\n",
       " Note: Only the head of the SFrame is printed.\n",
       " You can use print_rows(num_rows=m, num_columns=n) to print more rows and columns.,\n",
       " 'rmse_by_item': Columns:\n",
       " \tProductId\tstr\n",
       " \tcount\tint\n",
       " \trmse\tfloat\n",
       " \n",
       " Rows: 33929\n",
       " \n",
       " Data:\n",
       " +------------+-------+----------------+\n",
       " | ProductId  | count |      rmse      |\n",
       " +------------+-------+----------------+\n",
       " | B002P9QRCO |   1   | 0.788162745874 |\n",
       " | B0029JW9JU |   10  | 0.692095216472 |\n",
       " | B007NVZTLY |   1   | 0.90057169796  |\n",
       " | B0060L1DPE |   1   | 0.918238992787 |\n",
       " | B007RTR8UC |   16  | 0.792170191809 |\n",
       " | B0045TQL2S |   1   | 0.827016220994 |\n",
       " | B000FD7C6M |   2   | 0.821717952782 |\n",
       " | B002BUEJEA |   1   | 2.08859303007  |\n",
       " | B001EPQ77U |   1   | 0.81161757242  |\n",
       " | B004LIYWQK |   1   | 0.949468150694 |\n",
       " +------------+-------+----------------+\n",
       " [33929 rows x 3 columns]\n",
       " Note: Only the head of the SFrame is printed.\n",
       " You can use print_rows(num_rows=m, num_columns=n) to print more rows and columns.,\n",
       " 'rmse_by_user': Columns:\n",
       " \tUserId\tstr\n",
       " \tcount\tint\n",
       " \trmse\tfloat\n",
       " \n",
       " Rows: 79014\n",
       " \n",
       " Data:\n",
       " +----------------+-------+----------------+\n",
       " |     UserId     | count |      rmse      |\n",
       " +----------------+-------+----------------+\n",
       " | A1QPY1WRA6CYM  |   1   | 2.04012840148  |\n",
       " | A1L5ZMDQ1IFZY0 |   1   | 0.86021109709  |\n",
       " | A3M32YMWKA2GP0 |   2   | 0.779506345662 |\n",
       " | A2VPC9EZMOC01Z |   2   | 0.925771349633 |\n",
       " | A31MPMNVCG0U39 |   1   | 3.21799777095  |\n",
       " | A2HT9GM4WQK8S5 |   1   |  1.1669723576  |\n",
       " | A265B1IZE5RVG6 |   2   | 0.964124878122 |\n",
       " | A1W4KGEJDP139U |   1   | 0.898834481964 |\n",
       " | A2HSCRS3W321LF |   3   | 1.12199136043  |\n",
       " | A3VFW55A3N2WNK |   1   | 0.607699413373 |\n",
       " +----------------+-------+----------------+\n",
       " [79014 rows x 3 columns]\n",
       " Note: Only the head of the SFrame is printed.\n",
       " You can use print_rows(num_rows=m, num_columns=n) to print more rows and columns.,\n",
       " 'rmse_overall': 1.2719582590249225}"
      ]
     },
     "execution_count": 14,
     "metadata": {},
     "output_type": "execute_result"
    }
   ],
   "source": [
    "model2.evaluate(test_set)"
   ]
  },
  {
   "cell_type": "markdown",
   "metadata": {},
   "source": [
    "### model parameters are:\n",
    "* num_factors=10 \n",
    "* max_iterations=21 \n",
    "* regularization=0.00001"
   ]
  },
  {
   "cell_type": "code",
   "execution_count": 7,
   "metadata": {
    "collapsed": true
   },
   "outputs": [
    {
     "data": {
      "text/html": [
       "<pre>Recsys training: model = ranking_factorization_recommender</pre>"
      ],
      "text/plain": [
       "Recsys training: model = ranking_factorization_recommender"
      ]
     },
     "metadata": {},
     "output_type": "display_data"
    },
    {
     "data": {
      "text/html": [
       "<pre>Preparing data set.</pre>"
      ],
      "text/plain": [
       "Preparing data set."
      ]
     },
     "metadata": {},
     "output_type": "display_data"
    },
    {
     "data": {
      "text/html": [
       "<pre>    Data has 454702 observations with 219597 users and 67727 items.</pre>"
      ],
      "text/plain": [
       "    Data has 454702 observations with 219597 users and 67727 items."
      ]
     },
     "metadata": {},
     "output_type": "display_data"
    },
    {
     "data": {
      "text/html": [
       "<pre>    Data prepared in: 8.7613s</pre>"
      ],
      "text/plain": [
       "    Data prepared in: 8.7613s"
      ]
     },
     "metadata": {},
     "output_type": "display_data"
    },
    {
     "data": {
      "text/html": [
       "<pre>Training ranking_factorization_recommender for recommendations.</pre>"
      ],
      "text/plain": [
       "Training ranking_factorization_recommender for recommendations."
      ]
     },
     "metadata": {},
     "output_type": "display_data"
    },
    {
     "data": {
      "text/html": [
       "<pre>+--------------------------------+--------------------------------------------------+----------+</pre>"
      ],
      "text/plain": [
       "+--------------------------------+--------------------------------------------------+----------+"
      ]
     },
     "metadata": {},
     "output_type": "display_data"
    },
    {
     "data": {
      "text/html": [
       "<pre>| Parameter                      | Description                                      | Value    |</pre>"
      ],
      "text/plain": [
       "| Parameter                      | Description                                      | Value    |"
      ]
     },
     "metadata": {},
     "output_type": "display_data"
    },
    {
     "data": {
      "text/html": [
       "<pre>+--------------------------------+--------------------------------------------------+----------+</pre>"
      ],
      "text/plain": [
       "+--------------------------------+--------------------------------------------------+----------+"
      ]
     },
     "metadata": {},
     "output_type": "display_data"
    },
    {
     "data": {
      "text/html": [
       "<pre>| num_factors                    | Factor Dimension                                 | 10       |</pre>"
      ],
      "text/plain": [
       "| num_factors                    | Factor Dimension                                 | 10       |"
      ]
     },
     "metadata": {},
     "output_type": "display_data"
    },
    {
     "data": {
      "text/html": [
       "<pre>| regularization                 | L2 Regularization on Factors                     | 1e-005   |</pre>"
      ],
      "text/plain": [
       "| regularization                 | L2 Regularization on Factors                     | 1e-005   |"
      ]
     },
     "metadata": {},
     "output_type": "display_data"
    },
    {
     "data": {
      "text/html": [
       "<pre>| solver                         | Solver used for training                         | adagrad  |</pre>"
      ],
      "text/plain": [
       "| solver                         | Solver used for training                         | adagrad  |"
      ]
     },
     "metadata": {},
     "output_type": "display_data"
    },
    {
     "data": {
      "text/html": [
       "<pre>| linear_regularization          | L2 Regularization on Linear Coefficients         | 1e-009   |</pre>"
      ],
      "text/plain": [
       "| linear_regularization          | L2 Regularization on Linear Coefficients         | 1e-009   |"
      ]
     },
     "metadata": {},
     "output_type": "display_data"
    },
    {
     "data": {
      "text/html": [
       "<pre>| ranking_regularization         | Rank-based Regularization Weight                 | 0.25     |</pre>"
      ],
      "text/plain": [
       "| ranking_regularization         | Rank-based Regularization Weight                 | 0.25     |"
      ]
     },
     "metadata": {},
     "output_type": "display_data"
    },
    {
     "data": {
      "text/html": [
       "<pre>| max_iterations                 | Maximum Number of Iterations                     | 21       |</pre>"
      ],
      "text/plain": [
       "| max_iterations                 | Maximum Number of Iterations                     | 21       |"
      ]
     },
     "metadata": {},
     "output_type": "display_data"
    },
    {
     "data": {
      "text/html": [
       "<pre>+--------------------------------+--------------------------------------------------+----------+</pre>"
      ],
      "text/plain": [
       "+--------------------------------+--------------------------------------------------+----------+"
      ]
     },
     "metadata": {},
     "output_type": "display_data"
    },
    {
     "data": {
      "text/html": [
       "<pre>  Optimizing model using SGD; tuning step size.</pre>"
      ],
      "text/plain": [
       "  Optimizing model using SGD; tuning step size."
      ]
     },
     "metadata": {},
     "output_type": "display_data"
    },
    {
     "data": {
      "text/html": [
       "<pre>  Using 56837 / 454702 points for tuning the step size.</pre>"
      ],
      "text/plain": [
       "  Using 56837 / 454702 points for tuning the step size."
      ]
     },
     "metadata": {},
     "output_type": "display_data"
    },
    {
     "data": {
      "text/html": [
       "<pre>+---------+-------------------+------------------------------------------+</pre>"
      ],
      "text/plain": [
       "+---------+-------------------+------------------------------------------+"
      ]
     },
     "metadata": {},
     "output_type": "display_data"
    },
    {
     "data": {
      "text/html": [
       "<pre>| Attempt | Initial Step Size | Estimated Objective Value                |</pre>"
      ],
      "text/plain": [
       "| Attempt | Initial Step Size | Estimated Objective Value                |"
      ]
     },
     "metadata": {},
     "output_type": "display_data"
    },
    {
     "data": {
      "text/html": [
       "<pre>+---------+-------------------+------------------------------------------+</pre>"
      ],
      "text/plain": [
       "+---------+-------------------+------------------------------------------+"
      ]
     },
     "metadata": {},
     "output_type": "display_data"
    },
    {
     "data": {
      "text/html": [
       "<pre>| 0       | 5.55556           | Not Viable                               |</pre>"
      ],
      "text/plain": [
       "| 0       | 5.55556           | Not Viable                               |"
      ]
     },
     "metadata": {},
     "output_type": "display_data"
    },
    {
     "data": {
      "text/html": [
       "<pre>| 1       | 1.38889           | Not Viable                               |</pre>"
      ],
      "text/plain": [
       "| 1       | 1.38889           | Not Viable                               |"
      ]
     },
     "metadata": {},
     "output_type": "display_data"
    },
    {
     "data": {
      "text/html": [
       "<pre>| 2       | 0.347222          | Not Viable                               |</pre>"
      ],
      "text/plain": [
       "| 2       | 0.347222          | Not Viable                               |"
      ]
     },
     "metadata": {},
     "output_type": "display_data"
    },
    {
     "data": {
      "text/html": [
       "<pre>| 3       | 0.0868056         | 2.86946                                  |</pre>"
      ],
      "text/plain": [
       "| 3       | 0.0868056         | 2.86946                                  |"
      ]
     },
     "metadata": {},
     "output_type": "display_data"
    },
    {
     "data": {
      "text/html": [
       "<pre>| 4       | 0.0434028         | 2.75677                                  |</pre>"
      ],
      "text/plain": [
       "| 4       | 0.0434028         | 2.75677                                  |"
      ]
     },
     "metadata": {},
     "output_type": "display_data"
    },
    {
     "data": {
      "text/html": [
       "<pre>| 5       | 0.0217014         | 2.82855                                  |</pre>"
      ],
      "text/plain": [
       "| 5       | 0.0217014         | 2.82855                                  |"
      ]
     },
     "metadata": {},
     "output_type": "display_data"
    },
    {
     "data": {
      "text/html": [
       "<pre>| 6       | 0.0108507         | 2.74729                                  |</pre>"
      ],
      "text/plain": [
       "| 6       | 0.0108507         | 2.74729                                  |"
      ]
     },
     "metadata": {},
     "output_type": "display_data"
    },
    {
     "data": {
      "text/html": [
       "<pre>| 7       | 0.00542535        | 3.10749                                  |</pre>"
      ],
      "text/plain": [
       "| 7       | 0.00542535        | 3.10749                                  |"
      ]
     },
     "metadata": {},
     "output_type": "display_data"
    },
    {
     "data": {
      "text/html": [
       "<pre>| 8       | 0.00271267        | 3.20611                                  |</pre>"
      ],
      "text/plain": [
       "| 8       | 0.00271267        | 3.20611                                  |"
      ]
     },
     "metadata": {},
     "output_type": "display_data"
    },
    {
     "data": {
      "text/html": [
       "<pre>| 9       | 0.00135634        | 3.31673                                  |</pre>"
      ],
      "text/plain": [
       "| 9       | 0.00135634        | 3.31673                                  |"
      ]
     },
     "metadata": {},
     "output_type": "display_data"
    },
    {
     "data": {
      "text/html": [
       "<pre>+---------+-------------------+------------------------------------------+</pre>"
      ],
      "text/plain": [
       "+---------+-------------------+------------------------------------------+"
      ]
     },
     "metadata": {},
     "output_type": "display_data"
    },
    {
     "data": {
      "text/html": [
       "<pre>| Final   | 0.0108507         | 2.74729                                  |</pre>"
      ],
      "text/plain": [
       "| Final   | 0.0108507         | 2.74729                                  |"
      ]
     },
     "metadata": {},
     "output_type": "display_data"
    },
    {
     "data": {
      "text/html": [
       "<pre>+---------+-------------------+------------------------------------------+</pre>"
      ],
      "text/plain": [
       "+---------+-------------------+------------------------------------------+"
      ]
     },
     "metadata": {},
     "output_type": "display_data"
    },
    {
     "data": {
      "text/html": [
       "<pre>Starting Optimization.</pre>"
      ],
      "text/plain": [
       "Starting Optimization."
      ]
     },
     "metadata": {},
     "output_type": "display_data"
    },
    {
     "data": {
      "text/html": [
       "<pre>+---------+--------------+-------------------+-----------------------+-------------+</pre>"
      ],
      "text/plain": [
       "+---------+--------------+-------------------+-----------------------+-------------+"
      ]
     },
     "metadata": {},
     "output_type": "display_data"
    },
    {
     "data": {
      "text/html": [
       "<pre>| Iter.   | Elapsed Time | Approx. Objective | Approx. Training RMSE | Step Size   |</pre>"
      ],
      "text/plain": [
       "| Iter.   | Elapsed Time | Approx. Objective | Approx. Training RMSE | Step Size   |"
      ]
     },
     "metadata": {},
     "output_type": "display_data"
    },
    {
     "data": {
      "text/html": [
       "<pre>+---------+--------------+-------------------+-----------------------+-------------+</pre>"
      ],
      "text/plain": [
       "+---------+--------------+-------------------+-----------------------+-------------+"
      ]
     },
     "metadata": {},
     "output_type": "display_data"
    },
    {
     "data": {
      "text/html": [
       "<pre>| Initial | 15.626ms     | 3.36616           | 1.31027               |             |</pre>"
      ],
      "text/plain": [
       "| Initial | 15.626ms     | 3.36616           | 1.31027               |             |"
      ]
     },
     "metadata": {},
     "output_type": "display_data"
    },
    {
     "data": {
      "text/html": [
       "<pre>+---------+--------------+-------------------+-----------------------+-------------+</pre>"
      ],
      "text/plain": [
       "+---------+--------------+-------------------+-----------------------+-------------+"
      ]
     },
     "metadata": {},
     "output_type": "display_data"
    },
    {
     "data": {
      "text/html": [
       "<pre>| 1       | 1.97s        | 3.26608           | 1.27479               | 0.0108507   |</pre>"
      ],
      "text/plain": [
       "| 1       | 1.97s        | 3.26608           | 1.27479               | 0.0108507   |"
      ]
     },
     "metadata": {},
     "output_type": "display_data"
    },
    {
     "data": {
      "text/html": [
       "<pre>| 2       | 3.89s        | 3.04075           | 1.21323               | 0.0108507   |</pre>"
      ],
      "text/plain": [
       "| 2       | 3.89s        | 3.04075           | 1.21323               | 0.0108507   |"
      ]
     },
     "metadata": {},
     "output_type": "display_data"
    },
    {
     "data": {
      "text/html": [
       "<pre>| 3       | 5.81s        | 2.94122           | 1.18114               | 0.0108507   |</pre>"
      ],
      "text/plain": [
       "| 3       | 5.81s        | 2.94122           | 1.18114               | 0.0108507   |"
      ]
     },
     "metadata": {},
     "output_type": "display_data"
    },
    {
     "data": {
      "text/html": [
       "<pre>| 4       | 7.82s        | 2.89336           | 1.16689               | 0.0108507   |</pre>"
      ],
      "text/plain": [
       "| 4       | 7.82s        | 2.89336           | 1.16689               | 0.0108507   |"
      ]
     },
     "metadata": {},
     "output_type": "display_data"
    },
    {
     "data": {
      "text/html": [
       "<pre>| 5       | 9.80s        | 2.83385           | 1.14566               | 0.0108507   |</pre>"
      ],
      "text/plain": [
       "| 5       | 9.80s        | 2.83385           | 1.14566               | 0.0108507   |"
      ]
     },
     "metadata": {},
     "output_type": "display_data"
    },
    {
     "data": {
      "text/html": [
       "<pre>| 6       | 12.11s       | 2.81652           | 1.14232               | 0.0108507   |</pre>"
      ],
      "text/plain": [
       "| 6       | 12.11s       | 2.81652           | 1.14232               | 0.0108507   |"
      ]
     },
     "metadata": {},
     "output_type": "display_data"
    },
    {
     "data": {
      "text/html": [
       "<pre>| 7       | 14.09s       | 2.79376           | 1.13485               | 0.0108507   |</pre>"
      ],
      "text/plain": [
       "| 7       | 14.09s       | 2.79376           | 1.13485               | 0.0108507   |"
      ]
     },
     "metadata": {},
     "output_type": "display_data"
    },
    {
     "data": {
      "text/html": [
       "<pre>| 8       | 16.01s       | 2.75176           | 1.11856               | 0.0108507   |</pre>"
      ],
      "text/plain": [
       "| 8       | 16.01s       | 2.75176           | 1.11856               | 0.0108507   |"
      ]
     },
     "metadata": {},
     "output_type": "display_data"
    },
    {
     "data": {
      "text/html": [
       "<pre>| 9       | 18.02s       | 2.76412           | 1.12592               | 0.0108507   |</pre>"
      ],
      "text/plain": [
       "| 9       | 18.02s       | 2.76412           | 1.12592               | 0.0108507   |"
      ]
     },
     "metadata": {},
     "output_type": "display_data"
    },
    {
     "data": {
      "text/html": [
       "<pre>| 10      | 19.99s       | 2.68457           | 1.09204               | 0.0108507   |</pre>"
      ],
      "text/plain": [
       "| 10      | 19.99s       | 2.68457           | 1.09204               | 0.0108507   |"
      ]
     },
     "metadata": {},
     "output_type": "display_data"
    },
    {
     "data": {
      "text/html": [
       "<pre>| 11      | 22.00s       | 2.78188           | 1.12853               | 0.0108507   |</pre>"
      ],
      "text/plain": [
       "| 11      | 22.00s       | 2.78188           | 1.12853               | 0.0108507   |"
      ]
     },
     "metadata": {},
     "output_type": "display_data"
    },
    {
     "data": {
      "text/html": [
       "<pre>| 12      | 24.14s       | 2.67247           | 1.08545               | 0.0108507   |</pre>"
      ],
      "text/plain": [
       "| 12      | 24.14s       | 2.67247           | 1.08545               | 0.0108507   |"
      ]
     },
     "metadata": {},
     "output_type": "display_data"
    },
    {
     "data": {
      "text/html": [
       "<pre>| 13      | 26.23s       | 2.69829           | 1.09034               | 0.0108507   |</pre>"
      ],
      "text/plain": [
       "| 13      | 26.23s       | 2.69829           | 1.09034               | 0.0108507   |"
      ]
     },
     "metadata": {},
     "output_type": "display_data"
    },
    {
     "data": {
      "text/html": [
       "<pre>| 14      | 28.11s       | 2.72733           | 1.0927                | 0.0108507   |</pre>"
      ],
      "text/plain": [
       "| 14      | 28.11s       | 2.72733           | 1.0927                | 0.0108507   |"
      ]
     },
     "metadata": {},
     "output_type": "display_data"
    },
    {
     "data": {
      "text/html": [
       "<pre>| 15      | 30.24s       | 2.66784           | 1.08325               | 0.0108507   |</pre>"
      ],
      "text/plain": [
       "| 15      | 30.24s       | 2.66784           | 1.08325               | 0.0108507   |"
      ]
     },
     "metadata": {},
     "output_type": "display_data"
    },
    {
     "data": {
      "text/html": [
       "<pre>| 16      | 32.33s       | 2.75188           | 1.0921                | 0.0108507   |</pre>"
      ],
      "text/plain": [
       "| 16      | 32.33s       | 2.75188           | 1.0921                | 0.0108507   |"
      ]
     },
     "metadata": {},
     "output_type": "display_data"
    },
    {
     "data": {
      "text/html": [
       "<pre>| 17      | 34.26s       | 2.86435           | 1.09821               | 0.0108507   |</pre>"
      ],
      "text/plain": [
       "| 17      | 34.26s       | 2.86435           | 1.09821               | 0.0108507   |"
      ]
     },
     "metadata": {},
     "output_type": "display_data"
    },
    {
     "data": {
      "text/html": [
       "<pre>| 18      | 36.26s       | 2.70419           | 1.08623               | 0.0108507   |</pre>"
      ],
      "text/plain": [
       "| 18      | 36.26s       | 2.70419           | 1.08623               | 0.0108507   |"
      ]
     },
     "metadata": {},
     "output_type": "display_data"
    },
    {
     "data": {
      "text/html": [
       "<pre>| 19      | 38.21s       | 2.84817           | 1.14007               | 0.0108507   |</pre>"
      ],
      "text/plain": [
       "| 19      | 38.21s       | 2.84817           | 1.14007               | 0.0108507   |"
      ]
     },
     "metadata": {},
     "output_type": "display_data"
    },
    {
     "data": {
      "text/html": [
       "<pre>| 20      | 40.19s       | 2.75928           | 1.11616               | 0.0108507   |</pre>"
      ],
      "text/plain": [
       "| 20      | 40.19s       | 2.75928           | 1.11616               | 0.0108507   |"
      ]
     },
     "metadata": {},
     "output_type": "display_data"
    },
    {
     "data": {
      "text/html": [
       "<pre>| 21      | 42.22s       | 2.7023            | 1.08878               | 0.0108507   |</pre>"
      ],
      "text/plain": [
       "| 21      | 42.22s       | 2.7023            | 1.08878               | 0.0108507   |"
      ]
     },
     "metadata": {},
     "output_type": "display_data"
    },
    {
     "data": {
      "text/html": [
       "<pre>+---------+--------------+-------------------+-----------------------+-------------+</pre>"
      ],
      "text/plain": [
       "+---------+--------------+-------------------+-----------------------+-------------+"
      ]
     },
     "metadata": {},
     "output_type": "display_data"
    },
    {
     "data": {
      "text/html": [
       "<pre>Optimization Complete: Maximum number of passes through the data reached.</pre>"
      ],
      "text/plain": [
       "Optimization Complete: Maximum number of passes through the data reached."
      ]
     },
     "metadata": {},
     "output_type": "display_data"
    },
    {
     "data": {
      "text/html": [
       "<pre>Computing final objective value and training RMSE.</pre>"
      ],
      "text/plain": [
       "Computing final objective value and training RMSE."
      ]
     },
     "metadata": {},
     "output_type": "display_data"
    },
    {
     "data": {
      "text/html": [
       "<pre>       Final objective value: 2.63638</pre>"
      ],
      "text/plain": [
       "       Final objective value: 2.63638"
      ]
     },
     "metadata": {},
     "output_type": "display_data"
    },
    {
     "data": {
      "text/html": [
       "<pre>       Final training RMSE: 1.06853</pre>"
      ],
      "text/plain": [
       "       Final training RMSE: 1.06853"
      ]
     },
     "metadata": {},
     "output_type": "display_data"
    }
   ],
   "source": [
    "model3 = graphlab.ranking_factorization_recommender.create(training_set, user_id='UserId', item_id='ProductId', target='Score', \n",
    "                                                           num_factors=10, max_iterations=21, regularization=0.00001)"
   ]
  },
  {
   "cell_type": "markdown",
   "metadata": {},
   "source": [
    "### Evaluation on test set"
   ]
  },
  {
   "cell_type": "code",
   "execution_count": 9,
   "metadata": {
    "collapsed": true
   },
   "outputs": [
    {
     "data": {
      "text/html": [
       "<pre>recommendations finished on 1000/79014 queries. users per second: 246.141</pre>"
      ],
      "text/plain": [
       "recommendations finished on 1000/79014 queries. users per second: 246.141"
      ]
     },
     "metadata": {},
     "output_type": "display_data"
    },
    {
     "data": {
      "text/html": [
       "<pre>recommendations finished on 2000/79014 queries. users per second: 253.617</pre>"
      ],
      "text/plain": [
       "recommendations finished on 2000/79014 queries. users per second: 253.617"
      ]
     },
     "metadata": {},
     "output_type": "display_data"
    },
    {
     "data": {
      "text/html": [
       "<pre>recommendations finished on 3000/79014 queries. users per second: 258.164</pre>"
      ],
      "text/plain": [
       "recommendations finished on 3000/79014 queries. users per second: 258.164"
      ]
     },
     "metadata": {},
     "output_type": "display_data"
    },
    {
     "data": {
      "text/html": [
       "<pre>recommendations finished on 4000/79014 queries. users per second: 249.284</pre>"
      ],
      "text/plain": [
       "recommendations finished on 4000/79014 queries. users per second: 249.284"
      ]
     },
     "metadata": {},
     "output_type": "display_data"
    },
    {
     "data": {
      "text/html": [
       "<pre>recommendations finished on 5000/79014 queries. users per second: 249.222</pre>"
      ],
      "text/plain": [
       "recommendations finished on 5000/79014 queries. users per second: 249.222"
      ]
     },
     "metadata": {},
     "output_type": "display_data"
    },
    {
     "data": {
      "text/html": [
       "<pre>recommendations finished on 6000/79014 queries. users per second: 248.519</pre>"
      ],
      "text/plain": [
       "recommendations finished on 6000/79014 queries. users per second: 248.519"
      ]
     },
     "metadata": {},
     "output_type": "display_data"
    },
    {
     "data": {
      "text/html": [
       "<pre>recommendations finished on 7000/79014 queries. users per second: 241.777</pre>"
      ],
      "text/plain": [
       "recommendations finished on 7000/79014 queries. users per second: 241.777"
      ]
     },
     "metadata": {},
     "output_type": "display_data"
    },
    {
     "data": {
      "text/html": [
       "<pre>recommendations finished on 8000/79014 queries. users per second: 243.282</pre>"
      ],
      "text/plain": [
       "recommendations finished on 8000/79014 queries. users per second: 243.282"
      ]
     },
     "metadata": {},
     "output_type": "display_data"
    },
    {
     "data": {
      "text/html": [
       "<pre>recommendations finished on 9000/79014 queries. users per second: 245.425</pre>"
      ],
      "text/plain": [
       "recommendations finished on 9000/79014 queries. users per second: 245.425"
      ]
     },
     "metadata": {},
     "output_type": "display_data"
    },
    {
     "data": {
      "text/html": [
       "<pre>recommendations finished on 10000/79014 queries. users per second: 246.91</pre>"
      ],
      "text/plain": [
       "recommendations finished on 10000/79014 queries. users per second: 246.91"
      ]
     },
     "metadata": {},
     "output_type": "display_data"
    },
    {
     "data": {
      "text/html": [
       "<pre>recommendations finished on 11000/79014 queries. users per second: 244.844</pre>"
      ],
      "text/plain": [
       "recommendations finished on 11000/79014 queries. users per second: 244.844"
      ]
     },
     "metadata": {},
     "output_type": "display_data"
    },
    {
     "data": {
      "text/html": [
       "<pre>recommendations finished on 12000/79014 queries. users per second: 242.699</pre>"
      ],
      "text/plain": [
       "recommendations finished on 12000/79014 queries. users per second: 242.699"
      ]
     },
     "metadata": {},
     "output_type": "display_data"
    },
    {
     "data": {
      "text/html": [
       "<pre>recommendations finished on 13000/79014 queries. users per second: 243.589</pre>"
      ],
      "text/plain": [
       "recommendations finished on 13000/79014 queries. users per second: 243.589"
      ]
     },
     "metadata": {},
     "output_type": "display_data"
    },
    {
     "data": {
      "text/html": [
       "<pre>recommendations finished on 14000/79014 queries. users per second: 242.281</pre>"
      ],
      "text/plain": [
       "recommendations finished on 14000/79014 queries. users per second: 242.281"
      ]
     },
     "metadata": {},
     "output_type": "display_data"
    },
    {
     "data": {
      "text/html": [
       "<pre>recommendations finished on 15000/79014 queries. users per second: 239.671</pre>"
      ],
      "text/plain": [
       "recommendations finished on 15000/79014 queries. users per second: 239.671"
      ]
     },
     "metadata": {},
     "output_type": "display_data"
    },
    {
     "data": {
      "text/html": [
       "<pre>recommendations finished on 16000/79014 queries. users per second: 239.79</pre>"
      ],
      "text/plain": [
       "recommendations finished on 16000/79014 queries. users per second: 239.79"
      ]
     },
     "metadata": {},
     "output_type": "display_data"
    },
    {
     "data": {
      "text/html": [
       "<pre>recommendations finished on 17000/79014 queries. users per second: 239.85</pre>"
      ],
      "text/plain": [
       "recommendations finished on 17000/79014 queries. users per second: 239.85"
      ]
     },
     "metadata": {},
     "output_type": "display_data"
    },
    {
     "data": {
      "text/html": [
       "<pre>recommendations finished on 18000/79014 queries. users per second: 240.833</pre>"
      ],
      "text/plain": [
       "recommendations finished on 18000/79014 queries. users per second: 240.833"
      ]
     },
     "metadata": {},
     "output_type": "display_data"
    },
    {
     "data": {
      "text/html": [
       "<pre>recommendations finished on 19000/79014 queries. users per second: 241.918</pre>"
      ],
      "text/plain": [
       "recommendations finished on 19000/79014 queries. users per second: 241.918"
      ]
     },
     "metadata": {},
     "output_type": "display_data"
    },
    {
     "data": {
      "text/html": [
       "<pre>recommendations finished on 20000/79014 queries. users per second: 242.371</pre>"
      ],
      "text/plain": [
       "recommendations finished on 20000/79014 queries. users per second: 242.371"
      ]
     },
     "metadata": {},
     "output_type": "display_data"
    },
    {
     "data": {
      "text/html": [
       "<pre>recommendations finished on 21000/79014 queries. users per second: 243.021</pre>"
      ],
      "text/plain": [
       "recommendations finished on 21000/79014 queries. users per second: 243.021"
      ]
     },
     "metadata": {},
     "output_type": "display_data"
    },
    {
     "data": {
      "text/html": [
       "<pre>recommendations finished on 22000/79014 queries. users per second: 243.895</pre>"
      ],
      "text/plain": [
       "recommendations finished on 22000/79014 queries. users per second: 243.895"
      ]
     },
     "metadata": {},
     "output_type": "display_data"
    },
    {
     "data": {
      "text/html": [
       "<pre>recommendations finished on 23000/79014 queries. users per second: 244.786</pre>"
      ],
      "text/plain": [
       "recommendations finished on 23000/79014 queries. users per second: 244.786"
      ]
     },
     "metadata": {},
     "output_type": "display_data"
    },
    {
     "data": {
      "text/html": [
       "<pre>recommendations finished on 24000/79014 queries. users per second: 245.495</pre>"
      ],
      "text/plain": [
       "recommendations finished on 24000/79014 queries. users per second: 245.495"
      ]
     },
     "metadata": {},
     "output_type": "display_data"
    },
    {
     "data": {
      "text/html": [
       "<pre>recommendations finished on 25000/79014 queries. users per second: 245.997</pre>"
      ],
      "text/plain": [
       "recommendations finished on 25000/79014 queries. users per second: 245.997"
      ]
     },
     "metadata": {},
     "output_type": "display_data"
    },
    {
     "data": {
      "text/html": [
       "<pre>recommendations finished on 26000/79014 queries. users per second: 246.613</pre>"
      ],
      "text/plain": [
       "recommendations finished on 26000/79014 queries. users per second: 246.613"
      ]
     },
     "metadata": {},
     "output_type": "display_data"
    },
    {
     "data": {
      "text/html": [
       "<pre>recommendations finished on 27000/79014 queries. users per second: 246.854</pre>"
      ],
      "text/plain": [
       "recommendations finished on 27000/79014 queries. users per second: 246.854"
      ]
     },
     "metadata": {},
     "output_type": "display_data"
    },
    {
     "data": {
      "text/html": [
       "<pre>recommendations finished on 28000/79014 queries. users per second: 247.315</pre>"
      ],
      "text/plain": [
       "recommendations finished on 28000/79014 queries. users per second: 247.315"
      ]
     },
     "metadata": {},
     "output_type": "display_data"
    },
    {
     "data": {
      "text/html": [
       "<pre>recommendations finished on 29000/79014 queries. users per second: 247.646</pre>"
      ],
      "text/plain": [
       "recommendations finished on 29000/79014 queries. users per second: 247.646"
      ]
     },
     "metadata": {},
     "output_type": "display_data"
    },
    {
     "data": {
      "text/html": [
       "<pre>recommendations finished on 30000/79014 queries. users per second: 248.008</pre>"
      ],
      "text/plain": [
       "recommendations finished on 30000/79014 queries. users per second: 248.008"
      ]
     },
     "metadata": {},
     "output_type": "display_data"
    },
    {
     "data": {
      "text/html": [
       "<pre>recommendations finished on 31000/79014 queries. users per second: 248.16</pre>"
      ],
      "text/plain": [
       "recommendations finished on 31000/79014 queries. users per second: 248.16"
      ]
     },
     "metadata": {},
     "output_type": "display_data"
    },
    {
     "data": {
      "text/html": [
       "<pre>recommendations finished on 32000/79014 queries. users per second: 248.315</pre>"
      ],
      "text/plain": [
       "recommendations finished on 32000/79014 queries. users per second: 248.315"
      ]
     },
     "metadata": {},
     "output_type": "display_data"
    },
    {
     "data": {
      "text/html": [
       "<pre>recommendations finished on 33000/79014 queries. users per second: 248.69</pre>"
      ],
      "text/plain": [
       "recommendations finished on 33000/79014 queries. users per second: 248.69"
      ]
     },
     "metadata": {},
     "output_type": "display_data"
    },
    {
     "data": {
      "text/html": [
       "<pre>recommendations finished on 34000/79014 queries. users per second: 249.207</pre>"
      ],
      "text/plain": [
       "recommendations finished on 34000/79014 queries. users per second: 249.207"
      ]
     },
     "metadata": {},
     "output_type": "display_data"
    },
    {
     "data": {
      "text/html": [
       "<pre>recommendations finished on 35000/79014 queries. users per second: 249.632</pre>"
      ],
      "text/plain": [
       "recommendations finished on 35000/79014 queries. users per second: 249.632"
      ]
     },
     "metadata": {},
     "output_type": "display_data"
    },
    {
     "data": {
      "text/html": [
       "<pre>recommendations finished on 36000/79014 queries. users per second: 250.083</pre>"
      ],
      "text/plain": [
       "recommendations finished on 36000/79014 queries. users per second: 250.083"
      ]
     },
     "metadata": {},
     "output_type": "display_data"
    },
    {
     "data": {
      "text/html": [
       "<pre>recommendations finished on 37000/79014 queries. users per second: 249.878</pre>"
      ],
      "text/plain": [
       "recommendations finished on 37000/79014 queries. users per second: 249.878"
      ]
     },
     "metadata": {},
     "output_type": "display_data"
    },
    {
     "data": {
      "text/html": [
       "<pre>recommendations finished on 38000/79014 queries. users per second: 250.139</pre>"
      ],
      "text/plain": [
       "recommendations finished on 38000/79014 queries. users per second: 250.139"
      ]
     },
     "metadata": {},
     "output_type": "display_data"
    },
    {
     "data": {
      "text/html": [
       "<pre>recommendations finished on 39000/79014 queries. users per second: 250.189</pre>"
      ],
      "text/plain": [
       "recommendations finished on 39000/79014 queries. users per second: 250.189"
      ]
     },
     "metadata": {},
     "output_type": "display_data"
    },
    {
     "data": {
      "text/html": [
       "<pre>recommendations finished on 40000/79014 queries. users per second: 250.605</pre>"
      ],
      "text/plain": [
       "recommendations finished on 40000/79014 queries. users per second: 250.605"
      ]
     },
     "metadata": {},
     "output_type": "display_data"
    },
    {
     "data": {
      "text/html": [
       "<pre>recommendations finished on 41000/79014 queries. users per second: 250.743</pre>"
      ],
      "text/plain": [
       "recommendations finished on 41000/79014 queries. users per second: 250.743"
      ]
     },
     "metadata": {},
     "output_type": "display_data"
    },
    {
     "data": {
      "text/html": [
       "<pre>recommendations finished on 42000/79014 queries. users per second: 250.864</pre>"
      ],
      "text/plain": [
       "recommendations finished on 42000/79014 queries. users per second: 250.864"
      ]
     },
     "metadata": {},
     "output_type": "display_data"
    },
    {
     "data": {
      "text/html": [
       "<pre>recommendations finished on 43000/79014 queries. users per second: 251.012</pre>"
      ],
      "text/plain": [
       "recommendations finished on 43000/79014 queries. users per second: 251.012"
      ]
     },
     "metadata": {},
     "output_type": "display_data"
    },
    {
     "data": {
      "text/html": [
       "<pre>recommendations finished on 44000/79014 queries. users per second: 251.238</pre>"
      ],
      "text/plain": [
       "recommendations finished on 44000/79014 queries. users per second: 251.238"
      ]
     },
     "metadata": {},
     "output_type": "display_data"
    },
    {
     "data": {
      "text/html": [
       "<pre>recommendations finished on 45000/79014 queries. users per second: 251.493</pre>"
      ],
      "text/plain": [
       "recommendations finished on 45000/79014 queries. users per second: 251.493"
      ]
     },
     "metadata": {},
     "output_type": "display_data"
    },
    {
     "data": {
      "text/html": [
       "<pre>recommendations finished on 46000/79014 queries. users per second: 251.793</pre>"
      ],
      "text/plain": [
       "recommendations finished on 46000/79014 queries. users per second: 251.793"
      ]
     },
     "metadata": {},
     "output_type": "display_data"
    },
    {
     "data": {
      "text/html": [
       "<pre>recommendations finished on 47000/79014 queries. users per second: 252.045</pre>"
      ],
      "text/plain": [
       "recommendations finished on 47000/79014 queries. users per second: 252.045"
      ]
     },
     "metadata": {},
     "output_type": "display_data"
    },
    {
     "data": {
      "text/html": [
       "<pre>recommendations finished on 48000/79014 queries. users per second: 252.325</pre>"
      ],
      "text/plain": [
       "recommendations finished on 48000/79014 queries. users per second: 252.325"
      ]
     },
     "metadata": {},
     "output_type": "display_data"
    },
    {
     "data": {
      "text/html": [
       "<pre>recommendations finished on 49000/79014 queries. users per second: 252.51</pre>"
      ],
      "text/plain": [
       "recommendations finished on 49000/79014 queries. users per second: 252.51"
      ]
     },
     "metadata": {},
     "output_type": "display_data"
    },
    {
     "data": {
      "text/html": [
       "<pre>recommendations finished on 50000/79014 queries. users per second: 252.662</pre>"
      ],
      "text/plain": [
       "recommendations finished on 50000/79014 queries. users per second: 252.662"
      ]
     },
     "metadata": {},
     "output_type": "display_data"
    },
    {
     "data": {
      "text/html": [
       "<pre>recommendations finished on 51000/79014 queries. users per second: 252.901</pre>"
      ],
      "text/plain": [
       "recommendations finished on 51000/79014 queries. users per second: 252.901"
      ]
     },
     "metadata": {},
     "output_type": "display_data"
    },
    {
     "data": {
      "text/html": [
       "<pre>recommendations finished on 52000/79014 queries. users per second: 253.016</pre>"
      ],
      "text/plain": [
       "recommendations finished on 52000/79014 queries. users per second: 253.016"
      ]
     },
     "metadata": {},
     "output_type": "display_data"
    },
    {
     "data": {
      "text/html": [
       "<pre>recommendations finished on 53000/79014 queries. users per second: 253.166</pre>"
      ],
      "text/plain": [
       "recommendations finished on 53000/79014 queries. users per second: 253.166"
      ]
     },
     "metadata": {},
     "output_type": "display_data"
    },
    {
     "data": {
      "text/html": [
       "<pre>recommendations finished on 54000/79014 queries. users per second: 253.355</pre>"
      ],
      "text/plain": [
       "recommendations finished on 54000/79014 queries. users per second: 253.355"
      ]
     },
     "metadata": {},
     "output_type": "display_data"
    },
    {
     "data": {
      "text/html": [
       "<pre>recommendations finished on 55000/79014 queries. users per second: 253.523</pre>"
      ],
      "text/plain": [
       "recommendations finished on 55000/79014 queries. users per second: 253.523"
      ]
     },
     "metadata": {},
     "output_type": "display_data"
    },
    {
     "data": {
      "text/html": [
       "<pre>recommendations finished on 56000/79014 queries. users per second: 253.542</pre>"
      ],
      "text/plain": [
       "recommendations finished on 56000/79014 queries. users per second: 253.542"
      ]
     },
     "metadata": {},
     "output_type": "display_data"
    },
    {
     "data": {
      "text/html": [
       "<pre>recommendations finished on 57000/79014 queries. users per second: 253.545</pre>"
      ],
      "text/plain": [
       "recommendations finished on 57000/79014 queries. users per second: 253.545"
      ]
     },
     "metadata": {},
     "output_type": "display_data"
    },
    {
     "data": {
      "text/html": [
       "<pre>recommendations finished on 58000/79014 queries. users per second: 253.615</pre>"
      ],
      "text/plain": [
       "recommendations finished on 58000/79014 queries. users per second: 253.615"
      ]
     },
     "metadata": {},
     "output_type": "display_data"
    },
    {
     "data": {
      "text/html": [
       "<pre>recommendations finished on 59000/79014 queries. users per second: 253.807</pre>"
      ],
      "text/plain": [
       "recommendations finished on 59000/79014 queries. users per second: 253.807"
      ]
     },
     "metadata": {},
     "output_type": "display_data"
    },
    {
     "data": {
      "text/html": [
       "<pre>recommendations finished on 60000/79014 queries. users per second: 253.981</pre>"
      ],
      "text/plain": [
       "recommendations finished on 60000/79014 queries. users per second: 253.981"
      ]
     },
     "metadata": {},
     "output_type": "display_data"
    },
    {
     "data": {
      "text/html": [
       "<pre>recommendations finished on 61000/79014 queries. users per second: 254.056</pre>"
      ],
      "text/plain": [
       "recommendations finished on 61000/79014 queries. users per second: 254.056"
      ]
     },
     "metadata": {},
     "output_type": "display_data"
    },
    {
     "data": {
      "text/html": [
       "<pre>recommendations finished on 62000/79014 queries. users per second: 254.031</pre>"
      ],
      "text/plain": [
       "recommendations finished on 62000/79014 queries. users per second: 254.031"
      ]
     },
     "metadata": {},
     "output_type": "display_data"
    },
    {
     "data": {
      "text/html": [
       "<pre>recommendations finished on 63000/79014 queries. users per second: 254.063</pre>"
      ],
      "text/plain": [
       "recommendations finished on 63000/79014 queries. users per second: 254.063"
      ]
     },
     "metadata": {},
     "output_type": "display_data"
    },
    {
     "data": {
      "text/html": [
       "<pre>recommendations finished on 64000/79014 queries. users per second: 254.155</pre>"
      ],
      "text/plain": [
       "recommendations finished on 64000/79014 queries. users per second: 254.155"
      ]
     },
     "metadata": {},
     "output_type": "display_data"
    },
    {
     "data": {
      "text/html": [
       "<pre>recommendations finished on 65000/79014 queries. users per second: 254.201</pre>"
      ],
      "text/plain": [
       "recommendations finished on 65000/79014 queries. users per second: 254.201"
      ]
     },
     "metadata": {},
     "output_type": "display_data"
    },
    {
     "data": {
      "text/html": [
       "<pre>recommendations finished on 66000/79014 queries. users per second: 254.304</pre>"
      ],
      "text/plain": [
       "recommendations finished on 66000/79014 queries. users per second: 254.304"
      ]
     },
     "metadata": {},
     "output_type": "display_data"
    },
    {
     "data": {
      "text/html": [
       "<pre>recommendations finished on 67000/79014 queries. users per second: 254.331</pre>"
      ],
      "text/plain": [
       "recommendations finished on 67000/79014 queries. users per second: 254.331"
      ]
     },
     "metadata": {},
     "output_type": "display_data"
    },
    {
     "data": {
      "text/html": [
       "<pre>recommendations finished on 68000/79014 queries. users per second: 254.362</pre>"
      ],
      "text/plain": [
       "recommendations finished on 68000/79014 queries. users per second: 254.362"
      ]
     },
     "metadata": {},
     "output_type": "display_data"
    },
    {
     "data": {
      "text/html": [
       "<pre>recommendations finished on 69000/79014 queries. users per second: 254.261</pre>"
      ],
      "text/plain": [
       "recommendations finished on 69000/79014 queries. users per second: 254.261"
      ]
     },
     "metadata": {},
     "output_type": "display_data"
    },
    {
     "data": {
      "text/html": [
       "<pre>recommendations finished on 70000/79014 queries. users per second: 254.303</pre>"
      ],
      "text/plain": [
       "recommendations finished on 70000/79014 queries. users per second: 254.303"
      ]
     },
     "metadata": {},
     "output_type": "display_data"
    },
    {
     "data": {
      "text/html": [
       "<pre>recommendations finished on 71000/79014 queries. users per second: 254.476</pre>"
      ],
      "text/plain": [
       "recommendations finished on 71000/79014 queries. users per second: 254.476"
      ]
     },
     "metadata": {},
     "output_type": "display_data"
    },
    {
     "data": {
      "text/html": [
       "<pre>recommendations finished on 72000/79014 queries. users per second: 253.884</pre>"
      ],
      "text/plain": [
       "recommendations finished on 72000/79014 queries. users per second: 253.884"
      ]
     },
     "metadata": {},
     "output_type": "display_data"
    },
    {
     "data": {
      "text/html": [
       "<pre>recommendations finished on 73000/79014 queries. users per second: 251.207</pre>"
      ],
      "text/plain": [
       "recommendations finished on 73000/79014 queries. users per second: 251.207"
      ]
     },
     "metadata": {},
     "output_type": "display_data"
    },
    {
     "data": {
      "text/html": [
       "<pre>recommendations finished on 74000/79014 queries. users per second: 248.887</pre>"
      ],
      "text/plain": [
       "recommendations finished on 74000/79014 queries. users per second: 248.887"
      ]
     },
     "metadata": {},
     "output_type": "display_data"
    },
    {
     "data": {
      "text/html": [
       "<pre>recommendations finished on 75000/79014 queries. users per second: 246.485</pre>"
      ],
      "text/plain": [
       "recommendations finished on 75000/79014 queries. users per second: 246.485"
      ]
     },
     "metadata": {},
     "output_type": "display_data"
    },
    {
     "data": {
      "text/html": [
       "<pre>recommendations finished on 76000/79014 queries. users per second: 244.399</pre>"
      ],
      "text/plain": [
       "recommendations finished on 76000/79014 queries. users per second: 244.399"
      ]
     },
     "metadata": {},
     "output_type": "display_data"
    },
    {
     "data": {
      "text/html": [
       "<pre>recommendations finished on 77000/79014 queries. users per second: 242.266</pre>"
      ],
      "text/plain": [
       "recommendations finished on 77000/79014 queries. users per second: 242.266"
      ]
     },
     "metadata": {},
     "output_type": "display_data"
    },
    {
     "data": {
      "text/html": [
       "<pre>recommendations finished on 78000/79014 queries. users per second: 240.342</pre>"
      ],
      "text/plain": [
       "recommendations finished on 78000/79014 queries. users per second: 240.342"
      ]
     },
     "metadata": {},
     "output_type": "display_data"
    },
    {
     "data": {
      "text/html": [
       "<pre>recommendations finished on 79000/79014 queries. users per second: 237.741</pre>"
      ],
      "text/plain": [
       "recommendations finished on 79000/79014 queries. users per second: 237.741"
      ]
     },
     "metadata": {},
     "output_type": "display_data"
    },
    {
     "name": "stdout",
     "output_type": "stream",
     "text": [
      "\n",
      "Precision and recall summary statistics by cutoff\n",
      "+--------+-------------------+-------------------+\n",
      "| cutoff |   mean_precision  |    mean_recall    |\n",
      "+--------+-------------------+-------------------+\n",
      "|   1    |  0.00132887842661 | 0.000623920428955 |\n",
      "|   2    | 0.000765687093426 | 0.000676713966447 |\n",
      "|   3    |  0.00099982281621 |  0.00191727701527 |\n",
      "|   4    |  0.00114536664389 |  0.00332321632841 |\n",
      "|   5    |  0.00127319209254 |  0.00485423165509 |\n",
      "|   6    |  0.0012107558998  |  0.00548627130132 |\n",
      "|   7    |  0.00116796661713 |  0.00604872436871 |\n",
      "|   8    |  0.00112954666262 |  0.00656903601933 |\n",
      "|   9    |  0.00110669557856 |  0.00702890027485 |\n",
      "|   10   |  0.00110866428734 |  0.00764681715349 |\n",
      "+--------+-------------------+-------------------+\n",
      "[10 rows x 3 columns]\n",
      "\n",
      "('\\nOverall RMSE: ', 1.2392488632190517)\n",
      "\n",
      "Per User RMSE (best)\n",
      "+----------------+-------+-------------------+\n",
      "|     UserId     | count |        rmse       |\n",
      "+----------------+-------+-------------------+\n",
      "| A38QZGLY5L796K |   1   | 4.97323484794e-06 |\n",
      "+----------------+-------+-------------------+\n",
      "[1 rows x 3 columns]\n",
      "\n",
      "\n",
      "Per User RMSE (worst)\n",
      "+----------------+-------+---------------+\n",
      "|     UserId     | count |      rmse     |\n",
      "+----------------+-------+---------------+\n",
      "| A14KF2FEEDGNZ9 |   1   | 40.2896157309 |\n",
      "+----------------+-------+---------------+\n",
      "[1 rows x 3 columns]\n",
      "\n",
      "\n",
      "Per Item RMSE (best)\n",
      "+------------+-------+-------------------+\n",
      "| ProductId  | count |        rmse       |\n",
      "+------------+-------+-------------------+\n",
      "| B008A0AQYC |   1   | 4.97323484794e-06 |\n",
      "+------------+-------+-------------------+\n",
      "[1 rows x 3 columns]\n",
      "\n",
      "\n",
      "Per Item RMSE (worst)\n",
      "+------------+-------+---------------+\n",
      "| ProductId  | count |      rmse     |\n",
      "+------------+-------+---------------+\n",
      "| B00859FH7O |   3   | 14.3279435176 |\n",
      "+------------+-------+---------------+\n",
      "[1 rows x 3 columns]\n",
      "\n"
     ]
    },
    {
     "data": {
      "text/plain": [
       "{'precision_recall_by_user': Columns:\n",
       " \tUserId\tstr\n",
       " \tcutoff\tint\n",
       " \tprecision\tfloat\n",
       " \trecall\tfloat\n",
       " \tcount\tint\n",
       " \n",
       " Rows: 1422252\n",
       " \n",
       " Data:\n",
       " +--------------------+--------+-----------+--------+-------+\n",
       " |       UserId       | cutoff | precision | recall | count |\n",
       " +--------------------+--------+-----------+--------+-------+\n",
       " | #oc-R103C0QSV1DF5E |   1    |    0.0    |  0.0   |   1   |\n",
       " | #oc-R103C0QSV1DF5E |   2    |    0.0    |  0.0   |   1   |\n",
       " | #oc-R103C0QSV1DF5E |   3    |    0.0    |  0.0   |   1   |\n",
       " | #oc-R103C0QSV1DF5E |   4    |    0.0    |  0.0   |   1   |\n",
       " | #oc-R103C0QSV1DF5E |   5    |    0.0    |  0.0   |   1   |\n",
       " | #oc-R103C0QSV1DF5E |   6    |    0.0    |  0.0   |   1   |\n",
       " | #oc-R103C0QSV1DF5E |   7    |    0.0    |  0.0   |   1   |\n",
       " | #oc-R103C0QSV1DF5E |   8    |    0.0    |  0.0   |   1   |\n",
       " | #oc-R103C0QSV1DF5E |   9    |    0.0    |  0.0   |   1   |\n",
       " | #oc-R103C0QSV1DF5E |   10   |    0.0    |  0.0   |   1   |\n",
       " +--------------------+--------+-----------+--------+-------+\n",
       " [1422252 rows x 5 columns]\n",
       " Note: Only the head of the SFrame is printed.\n",
       " You can use print_rows(num_rows=m, num_columns=n) to print more rows and columns.,\n",
       " 'precision_recall_overall': Columns:\n",
       " \tcutoff\tint\n",
       " \tprecision\tfloat\n",
       " \trecall\tfloat\n",
       " \n",
       " Rows: 18\n",
       " \n",
       " Data:\n",
       " +--------+-------------------+-------------------+\n",
       " | cutoff |     precision     |       recall      |\n",
       " +--------+-------------------+-------------------+\n",
       " |   1    |  0.00132887842661 | 0.000623920428955 |\n",
       " |   2    | 0.000765687093426 | 0.000676713966447 |\n",
       " |   3    |  0.00099982281621 |  0.00191727701527 |\n",
       " |   4    |  0.00114536664389 |  0.00332321632841 |\n",
       " |   5    |  0.00127319209254 |  0.00485423165509 |\n",
       " |   6    |  0.0012107558998  |  0.00548627130132 |\n",
       " |   7    |  0.00116796661713 |  0.00604872436871 |\n",
       " |   8    |  0.00112954666262 |  0.00656903601933 |\n",
       " |   9    |  0.00110669557856 |  0.00702890027485 |\n",
       " |   10   |  0.00110866428734 |  0.00764681715349 |\n",
       " +--------+-------------------+-------------------+\n",
       " [18 rows x 3 columns]\n",
       " Note: Only the head of the SFrame is printed.\n",
       " You can use print_rows(num_rows=m, num_columns=n) to print more rows and columns.,\n",
       " 'rmse_by_item': Columns:\n",
       " \tProductId\tstr\n",
       " \tcount\tint\n",
       " \trmse\tfloat\n",
       " \n",
       " Rows: 33929\n",
       " \n",
       " Data:\n",
       " +------------+-------+----------------+\n",
       " | ProductId  | count |      rmse      |\n",
       " +------------+-------+----------------+\n",
       " | B002P9QRCO |   1   | 0.862106844195 |\n",
       " | B0029JW9JU |   10  | 0.775640323943 |\n",
       " | B007NVZTLY |   1   | 1.11418046799  |\n",
       " | B0060L1DPE |   1   | 1.02744324935  |\n",
       " | B007RTR8UC |   16  | 0.844794643481 |\n",
       " | B0045TQL2S |   1   | 0.714827108573 |\n",
       " | B000FD7C6M |   2   | 0.878048928566 |\n",
       " | B002BUEJEA |   1   | 1.61380599691  |\n",
       " | B001EPQ77U |   1   | 0.755518661256 |\n",
       " | B004LIYWQK |   1   | 1.09579259951  |\n",
       " +------------+-------+----------------+\n",
       " [33929 rows x 3 columns]\n",
       " Note: Only the head of the SFrame is printed.\n",
       " You can use print_rows(num_rows=m, num_columns=n) to print more rows and columns.,\n",
       " 'rmse_by_user': Columns:\n",
       " \tUserId\tstr\n",
       " \tcount\tint\n",
       " \trmse\tfloat\n",
       " \n",
       " Rows: 79014\n",
       " \n",
       " Data:\n",
       " +----------------+-------+----------------+\n",
       " |     UserId     | count |      rmse      |\n",
       " +----------------+-------+----------------+\n",
       " | A1QPY1WRA6CYM  |   1   | 1.62520095034  |\n",
       " | A1L5ZMDQ1IFZY0 |   1   | 0.952677264951 |\n",
       " | A3M32YMWKA2GP0 |   2   | 0.548594307228 |\n",
       " | A2VPC9EZMOC01Z |   2   | 0.793598197776 |\n",
       " | A31MPMNVCG0U39 |   1   | 3.00606114922  |\n",
       " | A2HT9GM4WQK8S5 |   1   | 0.929534052985 |\n",
       " | A265B1IZE5RVG6 |   2   | 0.854134803537 |\n",
       " | A1W4KGEJDP139U |   1   | 0.976141615401 |\n",
       " | A2HSCRS3W321LF |   3   | 0.261585927449 |\n",
       " | A3VFW55A3N2WNK |   1   | 0.488972703542 |\n",
       " +----------------+-------+----------------+\n",
       " [79014 rows x 3 columns]\n",
       " Note: Only the head of the SFrame is printed.\n",
       " You can use print_rows(num_rows=m, num_columns=n) to print more rows and columns.,\n",
       " 'rmse_overall': 1.2392488632190517}"
      ]
     },
     "execution_count": 9,
     "metadata": {},
     "output_type": "execute_result"
    }
   ],
   "source": [
    "model3.evaluate(test_set)"
   ]
  }
 ],
 "metadata": {
  "kernelspec": {
   "display_name": "Python 2",
   "language": "python",
   "name": "python2"
  },
  "language_info": {
   "codemirror_mode": {
    "name": "ipython",
    "version": 2
   },
   "file_extension": ".py",
   "mimetype": "text/x-python",
   "name": "python",
   "nbconvert_exporter": "python",
   "pygments_lexer": "ipython2",
   "version": "2.7.11"
  }
 },
 "nbformat": 4,
 "nbformat_minor": 0
}
